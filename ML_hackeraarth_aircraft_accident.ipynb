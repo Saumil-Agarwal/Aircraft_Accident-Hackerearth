{
  "nbformat": 4,
  "nbformat_minor": 0,
  "metadata": {
    "colab": {
      "name": "ML_hackeraarth_aircraft_accident.ipynb",
      "provenance": [],
      "collapsed_sections": [
        "ye98QBU5n0oZ",
        "ahWauOyTMa6c",
        "B9Bom_2xLX8w",
        "F5q5KN6MMtqZ",
        "dHlISzj_4ne5",
        "rllGqn4kOjzu"
      ],
      "toc_visible": true,
      "machine_shape": "hm",
      "authorship_tag": "ABX9TyMK3hmTO99MJZcHmjPXMzmr",
      "include_colab_link": true
    },
    "kernelspec": {
      "name": "python3",
      "display_name": "Python 3"
    },
    "accelerator": "GPU"
  },
  "cells": [
    {
      "cell_type": "markdown",
      "metadata": {
        "id": "view-in-github",
        "colab_type": "text"
      },
      "source": [
        "<a href=\"https://colab.research.google.com/github/Saumil-Agarwal/Aircraft_Accident-Hackerearth/blob/master/ML_hackeraarth_aircraft_accident.ipynb\" target=\"_parent\"><img src=\"https://colab.research.google.com/assets/colab-badge.svg\" alt=\"Open In Colab\"/></a>"
      ]
    },
    {
      "cell_type": "markdown",
      "metadata": {
        "id": "Kuk2qB-J8-RF",
        "colab_type": "text"
      },
      "source": [
        "# Mount drive & loading dataset\n"
      ]
    },
    {
      "cell_type": "code",
      "metadata": {
        "id": "0ZFc4XGZ9FOZ",
        "colab_type": "code",
        "colab": {}
      },
      "source": [
        "from google.colab import drive\n",
        "drive.mount('/content/drive')"
      ],
      "execution_count": 0,
      "outputs": []
    },
    {
      "cell_type": "code",
      "metadata": {
        "id": "_Vnqk-xZ9Gwc",
        "colab_type": "code",
        "colab": {}
      },
      "source": [
        "%cd \n",
        "%ls"
      ],
      "execution_count": 0,
      "outputs": []
    },
    {
      "cell_type": "code",
      "metadata": {
        "id": "XlzhWiDf9H0q",
        "colab_type": "code",
        "colab": {}
      },
      "source": [
        "import pandas as pd\n",
        "import numpy as np\n",
        "import matplotlib.pyplot as plt\n",
        "from sklearn.decomposition import PCA\n",
        "from sklearn.model_selection import train_test_split\n",
        "from sklearn.ensemble import RandomForestClassifier\n",
        "from sklearn.neighbors import KNeighborsClassifier\n",
        "from sklearn import metrics\n",
        "from sklearn.metrics import classification_report\n",
        "from sklearn.metrics import confusion_matrix\n",
        "import pickle\n",
        "import xgboost as xgb\n",
        "from xgboost import XGBClassifier\n",
        "from xgboost import XGBRegressor"
      ],
      "execution_count": 0,
      "outputs": []
    },
    {
      "cell_type": "code",
      "metadata": {
        "id": "6pIl1Q1SNrCY",
        "colab_type": "code",
        "colab": {}
      },
      "source": [
        "np.random.seed(1)\n",
        "seed = 1"
      ],
      "execution_count": 0,
      "outputs": []
    },
    {
      "cell_type": "code",
      "metadata": {
        "id": "xF556Soo9HxK",
        "colab_type": "code",
        "colab": {}
      },
      "source": [
        "dataset = pd.read_csv('./train.csv')"
      ],
      "execution_count": 0,
      "outputs": []
    },
    {
      "cell_type": "code",
      "metadata": {
        "id": "0p_eEYiK_gJp",
        "colab_type": "code",
        "outputId": "23fff5d5-00bc-478c-c669-6334d1a4559d",
        "colab": {
          "base_uri": "https://localhost:8080/",
          "height": 215
        }
      },
      "source": [
        "dataset.head()"
      ],
      "execution_count": 0,
      "outputs": [
        {
          "output_type": "execute_result",
          "data": {
            "text/html": [
              "<div>\n",
              "<style scoped>\n",
              "    .dataframe tbody tr th:only-of-type {\n",
              "        vertical-align: middle;\n",
              "    }\n",
              "\n",
              "    .dataframe tbody tr th {\n",
              "        vertical-align: top;\n",
              "    }\n",
              "\n",
              "    .dataframe thead th {\n",
              "        text-align: right;\n",
              "    }\n",
              "</style>\n",
              "<table border=\"1\" class=\"dataframe\">\n",
              "  <thead>\n",
              "    <tr style=\"text-align: right;\">\n",
              "      <th></th>\n",
              "      <th>Severity</th>\n",
              "      <th>Safety_Score</th>\n",
              "      <th>Days_Since_Inspection</th>\n",
              "      <th>Total_Safety_Complaints</th>\n",
              "      <th>Control_Metric</th>\n",
              "      <th>Turbulence_In_gforces</th>\n",
              "      <th>Cabin_Temperature</th>\n",
              "      <th>Accident_Type_Code</th>\n",
              "      <th>Max_Elevation</th>\n",
              "      <th>Violations</th>\n",
              "      <th>Adverse_Weather_Metric</th>\n",
              "      <th>Accident_ID</th>\n",
              "    </tr>\n",
              "  </thead>\n",
              "  <tbody>\n",
              "    <tr>\n",
              "      <th>0</th>\n",
              "      <td>Minor_Damage_And_Injuries</td>\n",
              "      <td>49.223744</td>\n",
              "      <td>14</td>\n",
              "      <td>22</td>\n",
              "      <td>71.285324</td>\n",
              "      <td>0.272118</td>\n",
              "      <td>78.04</td>\n",
              "      <td>2</td>\n",
              "      <td>31335.476824</td>\n",
              "      <td>3</td>\n",
              "      <td>0.424352</td>\n",
              "      <td>7570</td>\n",
              "    </tr>\n",
              "    <tr>\n",
              "      <th>1</th>\n",
              "      <td>Minor_Damage_And_Injuries</td>\n",
              "      <td>62.465753</td>\n",
              "      <td>10</td>\n",
              "      <td>27</td>\n",
              "      <td>72.288058</td>\n",
              "      <td>0.423939</td>\n",
              "      <td>84.54</td>\n",
              "      <td>2</td>\n",
              "      <td>26024.711057</td>\n",
              "      <td>2</td>\n",
              "      <td>0.352350</td>\n",
              "      <td>12128</td>\n",
              "    </tr>\n",
              "    <tr>\n",
              "      <th>2</th>\n",
              "      <td>Significant_Damage_And_Fatalities</td>\n",
              "      <td>63.059361</td>\n",
              "      <td>13</td>\n",
              "      <td>16</td>\n",
              "      <td>66.362808</td>\n",
              "      <td>0.322604</td>\n",
              "      <td>78.86</td>\n",
              "      <td>7</td>\n",
              "      <td>39269.053927</td>\n",
              "      <td>3</td>\n",
              "      <td>0.003364</td>\n",
              "      <td>2181</td>\n",
              "    </tr>\n",
              "    <tr>\n",
              "      <th>3</th>\n",
              "      <td>Significant_Damage_And_Serious_Injuries</td>\n",
              "      <td>48.082192</td>\n",
              "      <td>11</td>\n",
              "      <td>9</td>\n",
              "      <td>74.703737</td>\n",
              "      <td>0.337029</td>\n",
              "      <td>81.79</td>\n",
              "      <td>3</td>\n",
              "      <td>42771.499200</td>\n",
              "      <td>1</td>\n",
              "      <td>0.211728</td>\n",
              "      <td>5946</td>\n",
              "    </tr>\n",
              "    <tr>\n",
              "      <th>4</th>\n",
              "      <td>Significant_Damage_And_Fatalities</td>\n",
              "      <td>26.484018</td>\n",
              "      <td>13</td>\n",
              "      <td>25</td>\n",
              "      <td>47.948952</td>\n",
              "      <td>0.541140</td>\n",
              "      <td>77.16</td>\n",
              "      <td>3</td>\n",
              "      <td>35509.228515</td>\n",
              "      <td>2</td>\n",
              "      <td>0.176883</td>\n",
              "      <td>9054</td>\n",
              "    </tr>\n",
              "  </tbody>\n",
              "</table>\n",
              "</div>"
            ],
            "text/plain": [
              "                                  Severity  ...  Accident_ID\n",
              "0                Minor_Damage_And_Injuries  ...         7570\n",
              "1                Minor_Damage_And_Injuries  ...        12128\n",
              "2        Significant_Damage_And_Fatalities  ...         2181\n",
              "3  Significant_Damage_And_Serious_Injuries  ...         5946\n",
              "4        Significant_Damage_And_Fatalities  ...         9054\n",
              "\n",
              "[5 rows x 12 columns]"
            ]
          },
          "metadata": {
            "tags": []
          },
          "execution_count": 55
        }
      ]
    },
    {
      "cell_type": "code",
      "metadata": {
        "id": "YHjXLumEALb7",
        "colab_type": "code",
        "outputId": "13629dab-0dcf-42b4-de31-8c60c38d828e",
        "colab": {
          "base_uri": "https://localhost:8080/",
          "height": 304
        }
      },
      "source": [
        "dataset.describe()"
      ],
      "execution_count": 0,
      "outputs": [
        {
          "output_type": "execute_result",
          "data": {
            "text/html": [
              "<div>\n",
              "<style scoped>\n",
              "    .dataframe tbody tr th:only-of-type {\n",
              "        vertical-align: middle;\n",
              "    }\n",
              "\n",
              "    .dataframe tbody tr th {\n",
              "        vertical-align: top;\n",
              "    }\n",
              "\n",
              "    .dataframe thead th {\n",
              "        text-align: right;\n",
              "    }\n",
              "</style>\n",
              "<table border=\"1\" class=\"dataframe\">\n",
              "  <thead>\n",
              "    <tr style=\"text-align: right;\">\n",
              "      <th></th>\n",
              "      <th>Safety_Score</th>\n",
              "      <th>Days_Since_Inspection</th>\n",
              "      <th>Total_Safety_Complaints</th>\n",
              "      <th>Control_Metric</th>\n",
              "      <th>Turbulence_In_gforces</th>\n",
              "      <th>Cabin_Temperature</th>\n",
              "      <th>Accident_Type_Code</th>\n",
              "      <th>Max_Elevation</th>\n",
              "      <th>Violations</th>\n",
              "      <th>Adverse_Weather_Metric</th>\n",
              "      <th>Accident_ID</th>\n",
              "    </tr>\n",
              "  </thead>\n",
              "  <tbody>\n",
              "    <tr>\n",
              "      <th>count</th>\n",
              "      <td>10000.000000</td>\n",
              "      <td>10000.000000</td>\n",
              "      <td>10000.000000</td>\n",
              "      <td>10000.000000</td>\n",
              "      <td>10000.000000</td>\n",
              "      <td>10000.000000</td>\n",
              "      <td>10000.000000</td>\n",
              "      <td>10000.000000</td>\n",
              "      <td>10000.00000</td>\n",
              "      <td>10000.000000</td>\n",
              "      <td>10000.000000</td>\n",
              "    </tr>\n",
              "    <tr>\n",
              "      <th>mean</th>\n",
              "      <td>41.876406</td>\n",
              "      <td>12.931100</td>\n",
              "      <td>6.564300</td>\n",
              "      <td>65.145324</td>\n",
              "      <td>0.381495</td>\n",
              "      <td>79.969331</td>\n",
              "      <td>3.814900</td>\n",
              "      <td>32001.803282</td>\n",
              "      <td>2.01220</td>\n",
              "      <td>0.255635</td>\n",
              "      <td>6266.554200</td>\n",
              "    </tr>\n",
              "    <tr>\n",
              "      <th>std</th>\n",
              "      <td>16.138072</td>\n",
              "      <td>3.539803</td>\n",
              "      <td>6.971982</td>\n",
              "      <td>11.882934</td>\n",
              "      <td>0.121301</td>\n",
              "      <td>2.759739</td>\n",
              "      <td>1.902577</td>\n",
              "      <td>9431.995196</td>\n",
              "      <td>1.03998</td>\n",
              "      <td>0.381128</td>\n",
              "      <td>3610.170288</td>\n",
              "    </tr>\n",
              "    <tr>\n",
              "      <th>min</th>\n",
              "      <td>0.000000</td>\n",
              "      <td>1.000000</td>\n",
              "      <td>0.000000</td>\n",
              "      <td>0.000000</td>\n",
              "      <td>0.134000</td>\n",
              "      <td>74.740000</td>\n",
              "      <td>1.000000</td>\n",
              "      <td>831.695553</td>\n",
              "      <td>0.00000</td>\n",
              "      <td>0.000316</td>\n",
              "      <td>2.000000</td>\n",
              "    </tr>\n",
              "    <tr>\n",
              "      <th>25%</th>\n",
              "      <td>30.593607</td>\n",
              "      <td>11.000000</td>\n",
              "      <td>2.000000</td>\n",
              "      <td>56.927985</td>\n",
              "      <td>0.293665</td>\n",
              "      <td>77.960000</td>\n",
              "      <td>2.000000</td>\n",
              "      <td>25757.636908</td>\n",
              "      <td>1.00000</td>\n",
              "      <td>0.012063</td>\n",
              "      <td>3139.750000</td>\n",
              "    </tr>\n",
              "    <tr>\n",
              "      <th>50%</th>\n",
              "      <td>41.278539</td>\n",
              "      <td>13.000000</td>\n",
              "      <td>4.000000</td>\n",
              "      <td>65.587967</td>\n",
              "      <td>0.365879</td>\n",
              "      <td>79.540000</td>\n",
              "      <td>4.000000</td>\n",
              "      <td>32060.336419</td>\n",
              "      <td>2.00000</td>\n",
              "      <td>0.074467</td>\n",
              "      <td>6280.500000</td>\n",
              "    </tr>\n",
              "    <tr>\n",
              "      <th>75%</th>\n",
              "      <td>52.511416</td>\n",
              "      <td>15.000000</td>\n",
              "      <td>9.000000</td>\n",
              "      <td>73.336372</td>\n",
              "      <td>0.451346</td>\n",
              "      <td>81.560000</td>\n",
              "      <td>5.000000</td>\n",
              "      <td>38380.641513</td>\n",
              "      <td>3.00000</td>\n",
              "      <td>0.354059</td>\n",
              "      <td>9391.500000</td>\n",
              "    </tr>\n",
              "    <tr>\n",
              "      <th>max</th>\n",
              "      <td>100.000000</td>\n",
              "      <td>23.000000</td>\n",
              "      <td>54.000000</td>\n",
              "      <td>100.000000</td>\n",
              "      <td>0.882648</td>\n",
              "      <td>97.510000</td>\n",
              "      <td>7.000000</td>\n",
              "      <td>64297.651218</td>\n",
              "      <td>5.00000</td>\n",
              "      <td>2.365378</td>\n",
              "      <td>12500.000000</td>\n",
              "    </tr>\n",
              "  </tbody>\n",
              "</table>\n",
              "</div>"
            ],
            "text/plain": [
              "       Safety_Score  ...   Accident_ID\n",
              "count  10000.000000  ...  10000.000000\n",
              "mean      41.876406  ...   6266.554200\n",
              "std       16.138072  ...   3610.170288\n",
              "min        0.000000  ...      2.000000\n",
              "25%       30.593607  ...   3139.750000\n",
              "50%       41.278539  ...   6280.500000\n",
              "75%       52.511416  ...   9391.500000\n",
              "max      100.000000  ...  12500.000000\n",
              "\n",
              "[8 rows x 11 columns]"
            ]
          },
          "metadata": {
            "tags": []
          },
          "execution_count": 56
        }
      ]
    },
    {
      "cell_type": "code",
      "metadata": {
        "id": "WLhEa0vH__BO",
        "colab_type": "code",
        "outputId": "2cb544f7-169a-4f95-ba8f-fac6a5ec3aa8",
        "colab": {
          "base_uri": "https://localhost:8080/",
          "height": 252
        }
      },
      "source": [
        "X = dataset[['Safety_Score','Days_Since_Inspection','Total_Safety_Complaints','Control_Metric','Turbulence_In_gforces','Cabin_Temperature','Accident_Type_Code','Max_Elevation','Violations',\t'Adverse_Weather_Metric']]\n",
        "print(X.head())\n",
        "\n",
        "y = dataset[['Severity']]\n",
        "print(y.head())"
      ],
      "execution_count": 0,
      "outputs": [
        {
          "output_type": "stream",
          "text": [
            "   Safety_Score  Days_Since_Inspection  ...  Violations  Adverse_Weather_Metric\n",
            "0     49.223744                     14  ...           3                0.424352\n",
            "1     62.465753                     10  ...           2                0.352350\n",
            "2     63.059361                     13  ...           3                0.003364\n",
            "3     48.082192                     11  ...           1                0.211728\n",
            "4     26.484018                     13  ...           2                0.176883\n",
            "\n",
            "[5 rows x 10 columns]\n",
            "                                  Severity\n",
            "0                Minor_Damage_And_Injuries\n",
            "1                Minor_Damage_And_Injuries\n",
            "2        Significant_Damage_And_Fatalities\n",
            "3  Significant_Damage_And_Serious_Injuries\n",
            "4        Significant_Damage_And_Fatalities\n"
          ],
          "name": "stdout"
        }
      ]
    },
    {
      "cell_type": "code",
      "metadata": {
        "id": "s1HEgxjcEJuu",
        "colab_type": "code",
        "outputId": "d73a01cc-810e-4846-9bc0-cc943887ef67",
        "colab": {
          "base_uri": "https://localhost:8080/",
          "height": 101
        }
      },
      "source": [
        "count = y['Severity'].value_counts() \n",
        "print(count)"
      ],
      "execution_count": 0,
      "outputs": [
        {
          "output_type": "stream",
          "text": [
            "Highly_Fatal_And_Damaging                  3049\n",
            "Significant_Damage_And_Serious_Injuries    2729\n",
            "Minor_Damage_And_Injuries                  2527\n",
            "Significant_Damage_And_Fatalities          1695\n",
            "Name: Severity, dtype: int64\n"
          ],
          "name": "stdout"
        }
      ]
    },
    {
      "cell_type": "code",
      "metadata": {
        "id": "c7ANSI-L_kzZ",
        "colab_type": "code",
        "outputId": "cf7876ad-8457-4d1b-aa3f-41b8ed71bd55",
        "colab": {
          "base_uri": "https://localhost:8080/",
          "height": 202
        }
      },
      "source": [
        "for i in range(0,11): \n",
        "  pca = PCA(n_components = i)\n",
        "  pca.fit(X)\n",
        "  print(sum(pca.explained_variance_ratio_))"
      ],
      "execution_count": 0,
      "outputs": [
        {
          "output_type": "stream",
          "text": [
            "0\n",
            "0.9999946599676565\n",
            "0.9999976587846312\n",
            "0.9999992451162554\n",
            "0.9999997883344002\n",
            "0.9999998740728667\n",
            "0.9999999484182496\n",
            "0.9999999871563238\n",
            "0.9999999992430363\n",
            "0.9999999999038244\n",
            "1.0000000000000002\n"
          ],
          "name": "stdout"
        }
      ]
    },
    {
      "cell_type": "code",
      "metadata": {
        "id": "O-HF4fof8XyO",
        "colab_type": "code",
        "colab": {}
      },
      "source": [
        "from sklearn import preprocessing\n",
        "standardized_X = preprocessing.scale(X)\n"
      ],
      "execution_count": 0,
      "outputs": []
    },
    {
      "cell_type": "code",
      "metadata": {
        "id": "SOK9J4adC0ZC",
        "colab_type": "code",
        "colab": {}
      },
      "source": [
        "X_tr, X_tst, y_tr, y_tst = train_test_split(X, y['Severity'], test_size=0.1,random_state = seed)"
      ],
      "execution_count": 0,
      "outputs": []
    },
    {
      "cell_type": "code",
      "metadata": {
        "id": "jatcxAo6QQ9z",
        "colab_type": "code",
        "colab": {}
      },
      "source": [
        "X_tr, X_cross, y_tr, y_cross = train_test_split(X_tr, y_tr, test_size=0.1,random_state = seed)"
      ],
      "execution_count": 0,
      "outputs": []
    },
    {
      "cell_type": "code",
      "metadata": {
        "id": "1EBBfXqFXi-P",
        "colab_type": "code",
        "outputId": "55cbe546-b710-455d-dd24-25814bdfc3a1",
        "colab": {
          "base_uri": "https://localhost:8080/",
          "height": 336
        }
      },
      "source": [
        "count = y_tr.value_counts() \n",
        "print(count)\n",
        "print(\"\\nTest\")\n",
        "count_1 = y_tst.value_counts() \n",
        "print(count_1)\n",
        "print(\"\\nCross\")\n",
        "count_2 = y_cross.value_counts() \n",
        "print(count_2)  "
      ],
      "execution_count": 0,
      "outputs": [
        {
          "output_type": "stream",
          "text": [
            "Highly_Fatal_And_Damaging                  2469\n",
            "Significant_Damage_And_Serious_Injuries    2227\n",
            "Minor_Damage_And_Injuries                  2048\n",
            "Significant_Damage_And_Fatalities          1356\n",
            "Name: Severity, dtype: int64\n",
            "\n",
            "Test\n",
            "Highly_Fatal_And_Damaging                  322\n",
            "Minor_Damage_And_Injuries                  252\n",
            "Significant_Damage_And_Serious_Injuries    249\n",
            "Significant_Damage_And_Fatalities          177\n",
            "Name: Severity, dtype: int64\n",
            "\n",
            "Cross\n",
            "Highly_Fatal_And_Damaging                  258\n",
            "Significant_Damage_And_Serious_Injuries    253\n",
            "Minor_Damage_And_Injuries                  227\n",
            "Significant_Damage_And_Fatalities          162\n",
            "Name: Severity, dtype: int64\n"
          ],
          "name": "stdout"
        }
      ]
    },
    {
      "cell_type": "code",
      "metadata": {
        "id": "AYm5gOx5XLpF",
        "colab_type": "code",
        "colab": {}
      },
      "source": [
        "#AFTER CORRELATION MATRIX\n",
        "X_tr, X_tst, y_tr, y_tst = train_test_split(dataset[['Safety_Score','Days_Since_Inspection','Total_Safety_Complaints','Control_Metric','Turbulence_In_gforces','Cabin_Temperature','Max_Elevation',\t'Violations',\t'Adverse_Weather_Metric']], y['Severity'], test_size=0.1,random_state = seed)"
      ],
      "execution_count": 0,
      "outputs": []
    },
    {
      "cell_type": "code",
      "metadata": {
        "id": "txI_TYKEXjWh",
        "colab_type": "code",
        "colab": {}
      },
      "source": [
        ""
      ],
      "execution_count": 0,
      "outputs": []
    },
    {
      "cell_type": "markdown",
      "metadata": {
        "id": "GY_eQRKSI3FZ",
        "colab_type": "text"
      },
      "source": [
        "# Shallow models"
      ]
    },
    {
      "cell_type": "code",
      "metadata": {
        "id": "c9CJhID3JbwK",
        "colab_type": "code",
        "colab": {}
      },
      "source": [
        "from sklearn.neighbors import KNeighborsClassifier\n",
        "from sklearn import metrics\n",
        "from sklearn.naive_bayes import BernoulliNB\n",
        "from sklearn.svm import SVC\n",
        "from sklearn.ensemble import RandomForestClassifier\n",
        "from sklearn.tree import DecisionTreeClassifier\n",
        "from sklearn.ensemble import AdaBoostClassifier\n",
        "from sklearn.ensemble import GradientBoostingClassifier\n",
        "from sklearn.linear_model import SGDClassifier\n",
        "from sklearn.ensemble import BaggingClassifier\n",
        "from xgboost import XGBClassifier\n",
        "from xgboost import XGBRegressor\n",
        "from sklearn.model_selection import GridSearchCV"
      ],
      "execution_count": 0,
      "outputs": []
    },
    {
      "cell_type": "markdown",
      "metadata": {
        "id": "ye98QBU5n0oZ",
        "colab_type": "text"
      },
      "source": [
        "## Models with low accuracy"
      ]
    },
    {
      "cell_type": "code",
      "metadata": {
        "id": "jaPNSPg3v0v5",
        "colab_type": "code",
        "outputId": "2a98b7f1-b51b-4345-d6a9-38078f4be0cf",
        "colab": {
          "base_uri": "https://localhost:8080/",
          "height": 84
        }
      },
      "source": [
        "#KNN Model\n",
        "clf=KNeighborsClassifier(n_neighbors=4,algorithm='brute',n_jobs=-1,leaf_size=100)\n",
        "clf.fit(X_tr, y_tr)\n",
        "predicted= clf.predict(X_tst)\n",
        "print(\"Accuracy: \" + str(metrics.accuracy_score(y_tst, predicted)) + \"     F1 Score:\"+ str(metrics.f1_score(y_tst, predicted,average='weighted')))\n",
        "print(KNeighborsClassifier())"
      ],
      "execution_count": 0,
      "outputs": [
        {
          "output_type": "stream",
          "text": [
            "Accuracy: 0.485     F1 Score:0.47593311504906444\n",
            "KNeighborsClassifier(algorithm='auto', leaf_size=30, metric='minkowski',\n",
            "                     metric_params=None, n_jobs=None, n_neighbors=5, p=2,\n",
            "                     weights='uniform')\n"
          ],
          "name": "stdout"
        }
      ]
    },
    {
      "cell_type": "code",
      "metadata": {
        "id": "XPs5_mcHv6nf",
        "colab_type": "code",
        "outputId": "7861428e-23b2-4d19-f684-98705b453754",
        "colab": {
          "base_uri": "https://localhost:8080/",
          "height": 50
        }
      },
      "source": [
        "#Naive Bayes Model\n",
        "clf=BernoulliNB()\n",
        "clf.fit(X_tr, y_tr)\n",
        "predicted= clf.predict(X_tst)\n",
        "print( \"Accuracy: \" + str(metrics.accuracy_score(y_tst, predicted)) + \"     F1 Score:\"+ str(metrics.f1_score(y_tst, predicted,average='weighted')))\n",
        "print(BernoulliNB())"
      ],
      "execution_count": 0,
      "outputs": [
        {
          "output_type": "stream",
          "text": [
            "Accuracy: 0.284     F1 Score:0.12607476635514017\n",
            "BernoulliNB(alpha=1.0, binarize=0.0, class_prior=None, fit_prior=True)\n"
          ],
          "name": "stdout"
        }
      ]
    },
    {
      "cell_type": "code",
      "metadata": {
        "id": "ri6EH7huxIJv",
        "colab_type": "code",
        "outputId": "830df609-806f-40ac-81f7-20ef984e5bf2",
        "colab": {
          "base_uri": "https://localhost:8080/",
          "height": 34
        }
      },
      "source": [
        "\n",
        "#SVC Model\n",
        "clf=SVC()\n",
        "clf.fit(X_tr, y_tr)\n",
        "predicted= clf.predict(X_tst)\n",
        "print(\"Accuracy: \" + str(metrics.accuracy_score(y_tst, predicted)) + \"     F1 Score:\"+ str(metrics.f1_score(y_tst, predicted,average='weighted')))"
      ],
      "execution_count": 0,
      "outputs": [
        {
          "output_type": "stream",
          "text": [
            "Accuracy: 0.285     F1 Score:0.12642023346303502\n"
          ],
          "name": "stdout"
        }
      ]
    },
    {
      "cell_type": "code",
      "metadata": {
        "colab_type": "code",
        "outputId": "6ec8c323-d552-4cc6-8054-05849987c720",
        "id": "t1yTAQ_Eqc13",
        "colab": {
          "base_uri": "https://localhost:8080/",
          "height": 202
        }
      },
      "source": [
        "from sklearn.linear_model import LogisticRegression\n",
        "clf = LogisticRegression(multi_class='auto',verbose = 1)\n",
        "clf.fit(X_tr, y_tr)\n",
        "predicted= clf.predict(X_tst)\n",
        "print(\"Accuracy: \" + str(metrics.accuracy_score(y_tst, predicted)) + \"     F1 Score:\"+ str(metrics.f1_score(y_tst, predicted,average='weighted')))"
      ],
      "execution_count": 0,
      "outputs": [
        {
          "output_type": "stream",
          "text": [
            "[Parallel(n_jobs=1)]: Using backend SequentialBackend with 1 concurrent workers.\n"
          ],
          "name": "stderr"
        },
        {
          "output_type": "stream",
          "text": [
            "Accuracy: 0.384     F1 Score:0.35281192099469477\n"
          ],
          "name": "stdout"
        },
        {
          "output_type": "stream",
          "text": [
            "/usr/local/lib/python3.6/dist-packages/sklearn/linear_model/_logistic.py:940: ConvergenceWarning: lbfgs failed to converge (status=1):\n",
            "STOP: TOTAL NO. of ITERATIONS REACHED LIMIT.\n",
            "\n",
            "Increase the number of iterations (max_iter) or scale the data as shown in:\n",
            "    https://scikit-learn.org/stable/modules/preprocessing.html\n",
            "Please also refer to the documentation for alternative solver options:\n",
            "    https://scikit-learn.org/stable/modules/linear_model.html#logistic-regression\n",
            "  extra_warning_msg=_LOGISTIC_SOLVER_CONVERGENCE_MSG)\n",
            "[Parallel(n_jobs=1)]: Done   1 out of   1 | elapsed:    0.7s finished\n"
          ],
          "name": "stderr"
        }
      ]
    },
    {
      "cell_type": "code",
      "metadata": {
        "id": "2zlS8ySxYEgk",
        "colab_type": "code",
        "outputId": "3d1111ee-0784-486a-891e-b89f5814c388",
        "colab": {
          "base_uri": "https://localhost:8080/",
          "height": 67
        }
      },
      "source": [
        "#Ada Boost Model\n",
        "clf=AdaBoostClassifier(n_estimators=100,learning_rate=1)\n",
        "model = clf.fit(X_tr, y_tr)\n",
        "predicted= model.predict(X_tst)\n",
        "print(\"Accuracy: \" + str(metrics.accuracy_score(y_tst, predicted)) + \"     F1 Score:\"+ str(metrics.f1_score(y_tst, predicted,average='weighted')))\n",
        "print(AdaBoostClassifier())"
      ],
      "execution_count": 0,
      "outputs": [
        {
          "output_type": "stream",
          "text": [
            "Accuracy: 0.553     F1 Score:0.5140294806252687\n",
            "AdaBoostClassifier(algorithm='SAMME.R', base_estimator=None, learning_rate=1.0,\n",
            "                   n_estimators=50, random_state=None)\n"
          ],
          "name": "stdout"
        }
      ]
    },
    {
      "cell_type": "code",
      "metadata": {
        "id": "Co0xSblnt4hi",
        "colab_type": "code",
        "outputId": "288e0a1a-2254-4348-fbe6-02869c91f474",
        "colab": {
          "base_uri": "https://localhost:8080/",
          "height": 134
        }
      },
      "source": [
        "#SGD Model\n",
        "clf=SGDClassifier()\n",
        "model = clf.fit(X_tr, y_tr)\n",
        "predicted= model.predict(X_tst)\n",
        "print(\"Accuracy: \" + str(metrics.accuracy_score(y_tst, predicted)) + \"     F1 Score:\"+ str(metrics.f1_score(y_tst, predicted,average='weighted')))\n",
        "print(SGDClassifier())"
      ],
      "execution_count": 0,
      "outputs": [
        {
          "output_type": "stream",
          "text": [
            "Accuracy: 0.236     F1 Score:0.09149913666168791\n",
            "SGDClassifier(alpha=0.0001, average=False, class_weight=None,\n",
            "              early_stopping=False, epsilon=0.1, eta0=0.0, fit_intercept=True,\n",
            "              l1_ratio=0.15, learning_rate='optimal', loss='hinge',\n",
            "              max_iter=1000, n_iter_no_change=5, n_jobs=None, penalty='l2',\n",
            "              power_t=0.5, random_state=None, shuffle=True, tol=0.001,\n",
            "              validation_fraction=0.1, verbose=0, warm_start=False)\n"
          ],
          "name": "stdout"
        }
      ]
    },
    {
      "cell_type": "markdown",
      "metadata": {
        "id": "ahWauOyTMa6c",
        "colab_type": "text"
      },
      "source": [
        "##Models with medium accuracy"
      ]
    },
    {
      "cell_type": "code",
      "metadata": {
        "id": "9TRzjCACst0t",
        "colab_type": "code",
        "colab": {}
      },
      "source": [
        "from sklearn.svm import NuSVC\n",
        "clf = NuSVC(kernel = 'linear',multi_class='auto')\n",
        "clf.fit(X_tr, y_tr)\n",
        "predicted= clf.predict(X_tst)\n",
        "print(\"Accuracy: \" + str(metrics.accuracy_score(y_tst, predicted)) + \"     F1 Score:\"+ str(metrics.f1_score(y_tst, predicted,average='weighted')))"
      ],
      "execution_count": 0,
      "outputs": []
    },
    {
      "cell_type": "code",
      "metadata": {
        "id": "1WjT9pFTMJbS",
        "colab_type": "code",
        "outputId": "25cd7496-bc01-4a30-c1f7-d9c737cb4e1c",
        "colab": {
          "base_uri": "https://localhost:8080/",
          "height": 34
        }
      },
      "source": [
        "from sklearn.svm import SVC \n",
        "clf = SVC(kernel = 'linear', C = 4)\n",
        "clf.fit(X_tr, y_tr)\n",
        "predicted= clf.predict(X_tst)\n",
        "print(\"Accuracy: \" + str(metrics.accuracy_score(y_tst, predicted)) + \"     F1 Score:\"+ str(metrics.f1_score(y_tst, predicted,average='weighted')))"
      ],
      "execution_count": 0,
      "outputs": [
        {
          "output_type": "stream",
          "text": [
            "Accuracy: 0.614     F1 Score:0.6041200373455015\n"
          ],
          "name": "stdout"
        }
      ]
    },
    {
      "cell_type": "code",
      "metadata": {
        "id": "rnrHZpacTuPS",
        "colab_type": "code",
        "outputId": "d267c3c5-313b-4510-d75f-2da2b2af1a4e",
        "colab": {
          "base_uri": "https://localhost:8080/",
          "height": 34
        }
      },
      "source": [
        "#Decision Tree Model \n",
        "clf=DecisionTreeClassifier(min_samples_leaf=3, max_depth=4)\n",
        "clf.fit(X_tr, y_tr)\n",
        "predicted= clf.predict(X_tst)\n",
        "print(\"Accuracy: \" + str(metrics.accuracy_score(y_tst, predicted)) + \"     F1 Score:\"+ str(metrics.f1_score(y_tst, predicted,average='weighted')))"
      ],
      "execution_count": 0,
      "outputs": [
        {
          "output_type": "stream",
          "text": [
            "0.669\n"
          ],
          "name": "stdout"
        }
      ]
    },
    {
      "cell_type": "markdown",
      "metadata": {
        "id": "h_28MNtHMgMW",
        "colab_type": "text"
      },
      "source": [
        "##Models with high accuracy"
      ]
    },
    {
      "cell_type": "code",
      "metadata": {
        "id": "8JO_wkQ_xSMC",
        "colab_type": "code",
        "outputId": "534bca02-2717-4258-f6e4-9e5e182dee72",
        "colab": {
          "base_uri": "https://localhost:8080/",
          "height": 34
        }
      },
      "source": [
        "#Random Forest Model\n",
        "clf=RandomForestClassifier(n_estimators=1000,min_samples_leaf=3)\n",
        "clf.fit(X, y['Severity'])\n",
        "predicted= clf.predict(X_tst)\n",
        "print(\"Accuracy: \" + str(metrics.accuracy_score(y_tst, predicted)) + \"     F1 Score:\"+ str(metrics.f1_score(y_tst, predicted,average='weighted')))# print(RandomForestClassifier())"
      ],
      "execution_count": 0,
      "outputs": [
        {
          "output_type": "stream",
          "text": [
            "Accuracy: 0.986     F1 Score:0.9860368650370775\n"
          ],
          "name": "stdout"
        }
      ]
    },
    {
      "cell_type": "code",
      "metadata": {
        "id": "yI02Mccy2P4b",
        "colab_type": "code",
        "colab": {}
      },
      "source": [
        "# #Tuning Parameters\n",
        "# rfc = RandomForestClassifier()\n",
        "# parameters = {\n",
        "#     \"n_estimators\":[5,10,50,100],\n",
        "#     \"max_depth\":[2,4,8,16,32,64,None],\n",
        "#     \"min_samples_leaf\":[1,5,10,50]\n",
        "# }\n",
        "# cv = GridSearchCV(rfc,parameters,cv=5)\n",
        "# cv.fit(X_tr,y_tr.values.ravel())\n",
        "# print(f'Best parameters are: {cv.best_params_}')\n",
        "# # print(\"\\n\")\n",
        "# mean_score = cv.cv_results_['mean_test_score']\n",
        "# std_score = cv.cv_results_['std_test_score']\n",
        "# params = cv.cv_results_['params']\n",
        "# for mean,std,params in zip(mean_score,std_score,params):\n",
        "#   print(f'{round(mean,3)} + or -{round(std,3)} for the {params}')"
      ],
      "execution_count": 0,
      "outputs": []
    },
    {
      "cell_type": "code",
      "metadata": {
        "id": "nMpIVLRsskNe",
        "colab_type": "code",
        "outputId": "ad1a3030-6a86-4c1c-cc7b-e1a00cfdbfe8",
        "colab": {
          "base_uri": "https://localhost:8080/",
          "height": 202
        }
      },
      "source": [
        "#Gradient Boost Model\n",
        "clf=GradientBoostingClassifier()\n",
        "model = clf.fit(X_tr, y_tr,)\n",
        "predicted= model.predict(X_tst)\n",
        "print(\"Accuracy: \" + str(metrics.accuracy_score(y_tst, predicted)) + \"     F1 Score:\"+ str(metrics.f1_score(y_tst, predicted,average='weighted')))\n",
        "print(GradientBoostingClassifier())"
      ],
      "execution_count": 0,
      "outputs": [
        {
          "output_type": "stream",
          "text": [
            "Accuracy: 0.891     F1 Score:0.8916254841095659\n",
            "GradientBoostingClassifier(ccp_alpha=0.0, criterion='friedman_mse', init=None,\n",
            "                           learning_rate=0.1, loss='deviance', max_depth=3,\n",
            "                           max_features=None, max_leaf_nodes=None,\n",
            "                           min_impurity_decrease=0.0, min_impurity_split=None,\n",
            "                           min_samples_leaf=1, min_samples_split=2,\n",
            "                           min_weight_fraction_leaf=0.0, n_estimators=100,\n",
            "                           n_iter_no_change=None, presort='deprecated',\n",
            "                           random_state=None, subsample=1.0, tol=0.0001,\n",
            "                           validation_fraction=0.1, verbose=0,\n",
            "                           warm_start=False)\n"
          ],
          "name": "stdout"
        }
      ]
    },
    {
      "cell_type": "code",
      "metadata": {
        "id": "k69kb-BCv4S4",
        "colab_type": "code",
        "outputId": "ffcbdb1f-278c-42b2-9dc5-2847176b31e7",
        "colab": {
          "base_uri": "https://localhost:8080/",
          "height": 101
        }
      },
      "source": [
        "#Bagging Model\n",
        "clf=BaggingClassifier(n_estimators=100)\n",
        "model = clf.fit(X_tr, y_tr)\n",
        "predicted= model.predict(X_tst)\n",
        "print(\"Accuracy: \" + str(metrics.accuracy_score(y_tst, predicted)) + \"     F1 Score:\"+ str(metrics.f1_score(y_tst, predicted,average='weighted')))\n",
        "print(BaggingClassifier())"
      ],
      "execution_count": 0,
      "outputs": [
        {
          "output_type": "stream",
          "text": [
            "Accuracy: 0.957     F1 Score:0.9570164279796425\n",
            "BaggingClassifier(base_estimator=None, bootstrap=True, bootstrap_features=False,\n",
            "                  max_features=1.0, max_samples=1.0, n_estimators=10,\n",
            "                  n_jobs=None, oob_score=False, random_state=None, verbose=0,\n",
            "                  warm_start=False)\n"
          ],
          "name": "stdout"
        }
      ]
    },
    {
      "cell_type": "markdown",
      "metadata": {
        "id": "PK0QujjOM2sc",
        "colab_type": "text"
      },
      "source": [
        "##Test data and file saving"
      ]
    },
    {
      "cell_type": "code",
      "metadata": {
        "id": "Pz6iEmm1KgC8",
        "colab_type": "code",
        "outputId": "e247d733-61f1-433c-ade7-8363412bf210",
        "colab": {
          "base_uri": "https://localhost:8080/",
          "height": 269
        }
      },
      "source": [
        "#To evaluate the model's predictions\n",
        "report = classification_report(y_tst, predicted)\n",
        "print(report)\n",
        "matrix = confusion_matrix(y_tst, predicted)\n",
        "print(matrix)"
      ],
      "execution_count": 0,
      "outputs": [
        {
          "output_type": "stream",
          "text": [
            "                                         precision    recall  f1-score   support\n",
            "\n",
            "              Highly_Fatal_And_Damaging       1.00      1.00      1.00       322\n",
            "              Minor_Damage_And_Injuries       1.00      1.00      1.00       252\n",
            "      Significant_Damage_And_Fatalities       1.00      1.00      1.00       177\n",
            "Significant_Damage_And_Serious_Injuries       1.00      1.00      1.00       249\n",
            "\n",
            "                               accuracy                           1.00      1000\n",
            "                              macro avg       1.00      1.00      1.00      1000\n",
            "                           weighted avg       1.00      1.00      1.00      1000\n",
            "\n",
            "[[322   0   0   0]\n",
            " [  0 252   0   0]\n",
            " [  0   0 177   0]\n",
            " [  0   0   0 249]]\n"
          ],
          "name": "stdout"
        }
      ]
    },
    {
      "cell_type": "code",
      "metadata": {
        "colab_type": "code",
        "id": "JS76XZj2Krpz",
        "colab": {}
      },
      "source": [
        "test_dataset = pd.read_csv('./test.csv')"
      ],
      "execution_count": 0,
      "outputs": []
    },
    {
      "cell_type": "code",
      "metadata": {
        "colab_type": "code",
        "outputId": "432cf4ea-9d8c-4132-b536-1a5e0f942637",
        "id": "vGnjvMvxKrp3",
        "colab": {
          "base_uri": "https://localhost:8080/",
          "height": 386
        }
      },
      "source": [
        "\n",
        "print(test_dataset.head())\n",
        "test_dataset_X = test_dataset[['Safety_Score','Days_Since_Inspection','Total_Safety_Complaints','Control_Metric','Turbulence_In_gforces','Cabin_Temperature','Max_Elevation',\t'Accident_Type_Code','Violations',\t'Adverse_Weather_Metric']]\n",
        "print((test_dataset_X))"
      ],
      "execution_count": 0,
      "outputs": [
        {
          "output_type": "stream",
          "text": [
            "   Safety_Score  Days_Since_Inspection  ...  Adverse_Weather_Metric  Accident_ID\n",
            "0     19.497717                     16  ...                0.069692            1\n",
            "1     58.173516                     15  ...                0.002777           10\n",
            "2     33.287671                     15  ...                0.004316           14\n",
            "3      3.287671                     21  ...                0.199990           17\n",
            "4     10.867580                     18  ...                0.483696           21\n",
            "\n",
            "[5 rows x 11 columns]\n",
            "      Safety_Score  Days_Since_Inspection  ...  Violations  Adverse_Weather_Metric\n",
            "0        19.497717                     16  ...           2                0.069692\n",
            "1        58.173516                     15  ...           2                0.002777\n",
            "2        33.287671                     15  ...           1                0.004316\n",
            "3         3.287671                     21  ...           2                0.199990\n",
            "4        10.867580                     18  ...           2                0.483696\n",
            "...            ...                    ...  ...         ...                     ...\n",
            "2495     68.127854                      8  ...           2                0.659387\n",
            "2496     54.840183                      9  ...           1                0.005010\n",
            "2497     36.712329                     14  ...           2                0.008629\n",
            "2498     38.721461                     13  ...           1                0.006247\n",
            "2499     36.073059                     11  ...           0                0.024409\n",
            "\n",
            "[2500 rows x 10 columns]\n"
          ],
          "name": "stdout"
        }
      ]
    },
    {
      "cell_type": "code",
      "metadata": {
        "colab_type": "code",
        "outputId": "1ca6400f-b942-49c1-98b3-441358cc142f",
        "id": "XodgLkVmKrp5",
        "colab": {
          "base_uri": "https://localhost:8080/",
          "height": 252
        }
      },
      "source": [
        "test_predict = clf.predict(test_dataset_X)\n",
        "y_submission = pd.concat([test_dataset[['Accident_ID']],pd.DataFrame(test_predict,columns=['Severity'])], axis=1, sort=False)\n",
        "print(y_submission)\n"
      ],
      "execution_count": 0,
      "outputs": [
        {
          "output_type": "stream",
          "text": [
            "      Accident_ID                                 Severity\n",
            "0               1                Highly_Fatal_And_Damaging\n",
            "1              10        Significant_Damage_And_Fatalities\n",
            "2              14  Significant_Damage_And_Serious_Injuries\n",
            "3              17                Highly_Fatal_And_Damaging\n",
            "4              21        Significant_Damage_And_Fatalities\n",
            "...           ...                                      ...\n",
            "2495        12484  Significant_Damage_And_Serious_Injuries\n",
            "2496        12487  Significant_Damage_And_Serious_Injuries\n",
            "2497        12488  Significant_Damage_And_Serious_Injuries\n",
            "2498        12491  Significant_Damage_And_Serious_Injuries\n",
            "2499        12493                Highly_Fatal_And_Damaging\n",
            "\n",
            "[2500 rows x 2 columns]\n"
          ],
          "name": "stdout"
        }
      ]
    },
    {
      "cell_type": "code",
      "metadata": {
        "colab_type": "code",
        "id": "5HxRnwvoKrp8",
        "colab": {}
      },
      "source": [
        "y_submission.to_csv('./y_submission_rf_dat.csv',index=False)\n",
        "# score_not_normalize - 85.33359\n",
        "# score_normalize - 84.22388\n",
        "pickle.dump(clf, open('./weights_rf_dat.sav', 'wb'))"
      ],
      "execution_count": 0,
      "outputs": []
    },
    {
      "cell_type": "markdown",
      "metadata": {
        "id": "B9Bom_2xLX8w",
        "colab_type": "text"
      },
      "source": [
        "# Random Forest"
      ]
    },
    {
      "cell_type": "code",
      "metadata": {
        "id": "Z-hN5HvgDSWo",
        "colab_type": "code",
        "outputId": "87c5ddfa-01dd-42d8-cd91-3001997bb2a1",
        "colab": {
          "base_uri": "https://localhost:8080/",
          "height": 168
        }
      },
      "source": [
        "#Random Forest Model\n",
        "# for learning_rate in [0.01,0.03,0.05,0.1,0.3,0.33,0.36,0.4,0.5,0.6,0.7,0.8,0.9,1,3] :\n",
        "\n",
        "clf=RandomForestClassifier(n_estimators=200,min_samples_leaf=3)\n",
        "clf.fit(X_tr, y_tr)\n",
        "predicted= clf.predict(X_tst)\n",
        "print(metrics.accuracy_score(y_tst, predicted))\n",
        "print(RandomForestClassifier())"
      ],
      "execution_count": 0,
      "outputs": [
        {
          "output_type": "stream",
          "text": [
            "0.909\n",
            "RandomForestClassifier(bootstrap=True, ccp_alpha=0.0, class_weight=None,\n",
            "                       criterion='gini', max_depth=None, max_features='auto',\n",
            "                       max_leaf_nodes=None, max_samples=None,\n",
            "                       min_impurity_decrease=0.0, min_impurity_split=None,\n",
            "                       min_samples_leaf=1, min_samples_split=2,\n",
            "                       min_weight_fraction_leaf=0.0, n_estimators=100,\n",
            "                       n_jobs=None, oob_score=False, random_state=None,\n",
            "                       verbose=0, warm_start=False)\n"
          ],
          "name": "stdout"
        }
      ]
    },
    {
      "cell_type": "code",
      "metadata": {
        "id": "zr-WD9hbDSJQ",
        "colab_type": "code",
        "outputId": "5dd40f54-7fc4-4edb-b7d7-4621bc0aa921",
        "colab": {
          "base_uri": "https://localhost:8080/",
          "height": 162
        }
      },
      "source": [
        "print(predicted)"
      ],
      "execution_count": 0,
      "outputs": [
        {
          "output_type": "error",
          "ename": "NameError",
          "evalue": "ignored",
          "traceback": [
            "\u001b[0;31m---------------------------------------------------------------------------\u001b[0m",
            "\u001b[0;31mNameError\u001b[0m                                 Traceback (most recent call last)",
            "\u001b[0;32m<ipython-input-2-610e78f865fc>\u001b[0m in \u001b[0;36m<module>\u001b[0;34m()\u001b[0m\n\u001b[0;32m----> 1\u001b[0;31m \u001b[0mprint\u001b[0m\u001b[0;34m(\u001b[0m\u001b[0mpredicted\u001b[0m\u001b[0;34m)\u001b[0m\u001b[0;34m\u001b[0m\u001b[0;34m\u001b[0m\u001b[0m\n\u001b[0m",
            "\u001b[0;31mNameError\u001b[0m: name 'predicted' is not defined"
          ]
        }
      ]
    },
    {
      "cell_type": "code",
      "metadata": {
        "id": "h-2pJKN-K74F",
        "colab_type": "code",
        "colab": {}
      },
      "source": [
        "print(y_tst)"
      ],
      "execution_count": 0,
      "outputs": []
    },
    {
      "cell_type": "code",
      "metadata": {
        "id": "5eTStWZrFmOE",
        "colab_type": "code",
        "colab": {}
      },
      "source": [
        "#To evaluate the model's predictions\n",
        "report = classification_report(y_tst, predicted)\n",
        "print(report)\n",
        "matrix = confusion_matrix(y_tst, predicted)\n",
        "print(matrix)"
      ],
      "execution_count": 0,
      "outputs": []
    },
    {
      "cell_type": "code",
      "metadata": {
        "id": "tRT6Gc9qF4Ng",
        "colab_type": "code",
        "colab": {}
      },
      "source": [
        "test_dataset = pd.read_csv('./test.csv')"
      ],
      "execution_count": 0,
      "outputs": []
    },
    {
      "cell_type": "code",
      "metadata": {
        "id": "L3sweYpIGDRN",
        "colab_type": "code",
        "outputId": "165779f8-4e32-47c7-b9f6-7d385d1ce809",
        "colab": {
          "base_uri": "https://localhost:8080/",
          "height": 386
        }
      },
      "source": [
        "print(test_dataset.head())\n",
        "test_dataset_X = test_dataset[['Safety_Score','Days_Since_Inspection','Total_Safety_Complaints','Control_Metric','Turbulence_In_gforces','Cabin_Temperature','Accident_Type_Code','Max_Elevation',\t'Violations',\t'Adverse_Weather_Metric']]\n",
        "print((test_dataset_X))"
      ],
      "execution_count": 0,
      "outputs": [
        {
          "output_type": "stream",
          "text": [
            "   Safety_Score  Days_Since_Inspection  ...  Adverse_Weather_Metric  Accident_ID\n",
            "0     19.497717                     16  ...                0.069692            1\n",
            "1     58.173516                     15  ...                0.002777           10\n",
            "2     33.287671                     15  ...                0.004316           14\n",
            "3      3.287671                     21  ...                0.199990           17\n",
            "4     10.867580                     18  ...                0.483696           21\n",
            "\n",
            "[5 rows x 11 columns]\n",
            "      Safety_Score  Days_Since_Inspection  ...  Violations  Adverse_Weather_Metric\n",
            "0        19.497717                     16  ...           2                0.069692\n",
            "1        58.173516                     15  ...           2                0.002777\n",
            "2        33.287671                     15  ...           1                0.004316\n",
            "3         3.287671                     21  ...           2                0.199990\n",
            "4        10.867580                     18  ...           2                0.483696\n",
            "...            ...                    ...  ...         ...                     ...\n",
            "2495     68.127854                      8  ...           2                0.659387\n",
            "2496     54.840183                      9  ...           1                0.005010\n",
            "2497     36.712329                     14  ...           2                0.008629\n",
            "2498     38.721461                     13  ...           1                0.006247\n",
            "2499     36.073059                     11  ...           0                0.024409\n",
            "\n",
            "[2500 rows x 10 columns]\n"
          ],
          "name": "stdout"
        }
      ]
    },
    {
      "cell_type": "code",
      "metadata": {
        "id": "s3xmVzNZE4ZU",
        "colab_type": "code",
        "colab": {}
      },
      "source": [
        "test_predict = clf.predict(test_dataset_X)"
      ],
      "execution_count": 0,
      "outputs": []
    },
    {
      "cell_type": "code",
      "metadata": {
        "id": "Jv4IBLkYGsFp",
        "colab_type": "code",
        "outputId": "ac5e7913-3e34-45b3-9221-718bbd98b3b7",
        "colab": {
          "base_uri": "https://localhost:8080/",
          "height": 84
        }
      },
      "source": [
        "print(test_predict)"
      ],
      "execution_count": 0,
      "outputs": [
        {
          "output_type": "stream",
          "text": [
            "['Highly_Fatal_And_Damaging' 'Significant_Damage_And_Fatalities'\n",
            " 'Significant_Damage_And_Serious_Injuries' ...\n",
            " 'Significant_Damage_And_Serious_Injuries'\n",
            " 'Significant_Damage_And_Serious_Injuries' 'Highly_Fatal_And_Damaging']\n"
          ],
          "name": "stdout"
        }
      ]
    },
    {
      "cell_type": "code",
      "metadata": {
        "id": "tQb0pJzbHWgV",
        "colab_type": "code",
        "colab": {}
      },
      "source": [
        "y_submission = pd.concat([test_dataset[['Accident_ID']],pd.DataFrame(test_predict,columns=['Severity'])], axis=1, sort=False)"
      ],
      "execution_count": 0,
      "outputs": []
    },
    {
      "cell_type": "code",
      "metadata": {
        "id": "v7ARlAoSIN0k",
        "colab_type": "code",
        "outputId": "0cd41bcc-f5d5-4fa5-b490-cbcfd1dd6b6b",
        "colab": {
          "base_uri": "https://localhost:8080/",
          "height": 252
        }
      },
      "source": [
        "print(y_submission)"
      ],
      "execution_count": 0,
      "outputs": [
        {
          "output_type": "stream",
          "text": [
            "      Accident_ID                                 Severity\n",
            "0               1                Highly_Fatal_And_Damaging\n",
            "1              10        Significant_Damage_And_Fatalities\n",
            "2              14  Significant_Damage_And_Serious_Injuries\n",
            "3              17  Significant_Damage_And_Serious_Injuries\n",
            "4              21        Significant_Damage_And_Fatalities\n",
            "...           ...                                      ...\n",
            "2495        12484                Highly_Fatal_And_Damaging\n",
            "2496        12487  Significant_Damage_And_Serious_Injuries\n",
            "2497        12488  Significant_Damage_And_Serious_Injuries\n",
            "2498        12491  Significant_Damage_And_Serious_Injuries\n",
            "2499        12493                Highly_Fatal_And_Damaging\n",
            "\n",
            "[2500 rows x 2 columns]\n"
          ],
          "name": "stdout"
        }
      ]
    },
    {
      "cell_type": "code",
      "metadata": {
        "id": "6dzUI1FMJYL3",
        "colab_type": "code",
        "colab": {}
      },
      "source": [
        "y_submission.to_csv('./y_submission.csv',index=False)\n",
        "# score - 80.94032"
      ],
      "execution_count": 0,
      "outputs": []
    },
    {
      "cell_type": "code",
      "metadata": {
        "id": "s3fyWQu7J22q",
        "colab_type": "code",
        "colab": {}
      },
      "source": [
        "pickle.dump(clf, open('./weights_rand_forest_1.sav', 'wb'))"
      ],
      "execution_count": 0,
      "outputs": []
    },
    {
      "cell_type": "markdown",
      "metadata": {
        "colab_type": "text",
        "id": "F5q5KN6MMtqZ"
      },
      "source": [
        "# Random Forest 2"
      ]
    },
    {
      "cell_type": "code",
      "metadata": {
        "id": "E9Z-18vcMwLX",
        "colab_type": "code",
        "colab": {}
      },
      "source": [
        "X_tr, X_tst, y_tr, y_tst = train_test_split(X[['Safety_Score','Days_Since_Inspection','Total_Safety_Complaints','Turbulence_In_gforces']], y['Severity'], test_size=0.4)\n"
      ],
      "execution_count": 0,
      "outputs": []
    },
    {
      "cell_type": "code",
      "metadata": {
        "colab_type": "code",
        "outputId": "fee7cab4-7ace-4bac-8597-28d3f37e96e9",
        "id": "5vV38yUcMtqa",
        "colab": {
          "base_uri": "https://localhost:8080/",
          "height": 168
        }
      },
      "source": [
        "#Random Forest Model\n",
        "clf=RandomForestClassifier(n_estimators=200,min_samples_leaf=3)\n",
        "clf.fit(X_tr, y_tr)\n",
        "predicted= clf.predict(X_tst)\n",
        "print(metrics.accuracy_score(y_tst, predicted))\n",
        "print(RandomForestClassifier())"
      ],
      "execution_count": 0,
      "outputs": [
        {
          "output_type": "stream",
          "text": [
            "0.83275\n",
            "RandomForestClassifier(bootstrap=True, ccp_alpha=0.0, class_weight=None,\n",
            "                       criterion='gini', max_depth=None, max_features='auto',\n",
            "                       max_leaf_nodes=None, max_samples=None,\n",
            "                       min_impurity_decrease=0.0, min_impurity_split=None,\n",
            "                       min_samples_leaf=1, min_samples_split=2,\n",
            "                       min_weight_fraction_leaf=0.0, n_estimators=100,\n",
            "                       n_jobs=None, oob_score=False, random_state=None,\n",
            "                       verbose=0, warm_start=False)\n"
          ],
          "name": "stdout"
        }
      ]
    },
    {
      "cell_type": "code",
      "metadata": {
        "id": "hTYx3tGfg8zC",
        "colab_type": "code",
        "outputId": "b8b3fa75-d467-4073-a9d0-718009b26a77",
        "colab": {
          "base_uri": "https://localhost:8080/",
          "height": 353
        }
      },
      "source": [
        "from sklearn.ensemble import RandomForestRegressor\n",
        "rf = RandomForestRegressor(random_state = seed)\n",
        "from pprint import pprint\n",
        "# Look at parameters used by our current forest\n",
        "print('Parameters currently in use:\\n')\n",
        "pprint(rf.get_params())"
      ],
      "execution_count": 0,
      "outputs": [
        {
          "output_type": "stream",
          "text": [
            "Parameters currently in use:\n",
            "\n",
            "{'bootstrap': True,\n",
            " 'ccp_alpha': 0.0,\n",
            " 'criterion': 'mse',\n",
            " 'max_depth': None,\n",
            " 'max_features': 'auto',\n",
            " 'max_leaf_nodes': None,\n",
            " 'max_samples': None,\n",
            " 'min_impurity_decrease': 0.0,\n",
            " 'min_impurity_split': None,\n",
            " 'min_samples_leaf': 1,\n",
            " 'min_samples_split': 2,\n",
            " 'min_weight_fraction_leaf': 0.0,\n",
            " 'n_estimators': 100,\n",
            " 'n_jobs': None,\n",
            " 'oob_score': False,\n",
            " 'random_state': 1,\n",
            " 'verbose': 0,\n",
            " 'warm_start': False}\n"
          ],
          "name": "stdout"
        }
      ]
    },
    {
      "cell_type": "code",
      "metadata": {
        "id": "PY2cc1FQiN4r",
        "colab_type": "code",
        "colab": {}
      },
      "source": [
        "onehotencoder = preprocessing.OneHotEncoder(categories = 'auto' )\n",
        "y_tr=y_tr.values\n",
        "y_one_hot = onehotencoder.fit_transform(y_tr.reshape(-1,1)).toarray()"
      ],
      "execution_count": 0,
      "outputs": []
    },
    {
      "cell_type": "code",
      "metadata": {
        "id": "u20iHeNfg8wR",
        "colab_type": "code",
        "outputId": "2d09f8ae-4a38-47f4-cf56-3c0a6160223b",
        "colab": {
          "base_uri": "https://localhost:8080/",
          "height": 118
        }
      },
      "source": [
        "from sklearn.model_selection import RandomizedSearchCV\n",
        "# Number of trees in random forest\n",
        "n_estimators = [int(x) for x in np.linspace(start = 200, stop = 2000, num = 10)]\n",
        "# Number of features to consider at every split\n",
        "max_features = ['auto', 'sqrt']\n",
        "# Maximum number of levels in tree\n",
        "max_depth = [int(x) for x in np.linspace(10, 110, num = 11)]\n",
        "max_depth.append(None)\n",
        "# Minimum number of samples required to split a node\n",
        "min_samples_split = [2, 5, 10]\n",
        "# Minimum number of samples required at each leaf node\n",
        "min_samples_leaf = [1, 2, 4]\n",
        "# Method of selecting samples for training each tree\n",
        "bootstrap = [True, False]\n",
        "# Create the random grid\n",
        "random_grid = {'n_estimators': n_estimators,\n",
        "               'max_features': max_features,\n",
        "               'max_depth': max_depth,\n",
        "               'min_samples_split': min_samples_split,\n",
        "               'min_samples_leaf': min_samples_leaf,\n",
        "               'bootstrap': bootstrap}\n",
        "pprint(random_grid)"
      ],
      "execution_count": 0,
      "outputs": [
        {
          "output_type": "stream",
          "text": [
            "{'bootstrap': [True, False],\n",
            " 'max_depth': [10, 20, 30, 40, 50, 60, 70, 80, 90, 100, 110, None],\n",
            " 'max_features': ['auto', 'sqrt'],\n",
            " 'min_samples_leaf': [1, 2, 4],\n",
            " 'min_samples_split': [2, 5, 10],\n",
            " 'n_estimators': [200, 400, 600, 800, 1000, 1200, 1400, 1600, 1800, 2000]}\n"
          ],
          "name": "stdout"
        }
      ]
    },
    {
      "cell_type": "code",
      "metadata": {
        "id": "Dj8ijsF1g8tt",
        "colab_type": "code",
        "outputId": "a508b69d-c5fa-4eea-aed1-e0e293740822",
        "colab": {
          "base_uri": "https://localhost:8080/",
          "height": 625
        }
      },
      "source": [
        "#  Use the random grid to search for best hyperparameters\n",
        "# First create the base model to tune\n",
        "rf = RandomForestRegressor()\n",
        "# Random search of parameters, using 3 fold cross validation, \n",
        "# search across 100 different combinations, and use all available cores\n",
        "rf_random = RandomizedSearchCV(estimator = rf, param_distributions = random_grid, n_iter = 100, cv = 3, verbose=2, random_state=seed, n_jobs = -1)\n",
        "# Fit the random search model\n",
        "rf_random.fit(X_tr, y_one_hot)"
      ],
      "execution_count": 0,
      "outputs": [
        {
          "output_type": "stream",
          "text": [
            "Fitting 3 folds for each of 100 candidates, totalling 300 fits\n"
          ],
          "name": "stdout"
        },
        {
          "output_type": "stream",
          "text": [
            "[Parallel(n_jobs=-1)]: Using backend LokyBackend with 4 concurrent workers.\n",
            "/usr/local/lib/python3.6/dist-packages/joblib/externals/loky/process_executor.py:706: UserWarning: A worker stopped while some jobs were given to the executor. This can be caused by a too short worker timeout or by a memory leak.\n",
            "  \"timeout or by a memory leak.\", UserWarning\n",
            "[Parallel(n_jobs=-1)]: Done  33 tasks      | elapsed:  5.6min\n",
            "[Parallel(n_jobs=-1)]: Done 154 tasks      | elapsed: 18.8min\n",
            "[Parallel(n_jobs=-1)]: Done 300 out of 300 | elapsed: 37.6min finished\n"
          ],
          "name": "stderr"
        },
        {
          "output_type": "execute_result",
          "data": {
            "text/plain": [
              "RandomizedSearchCV(cv=3, error_score=nan,\n",
              "                   estimator=RandomForestRegressor(bootstrap=True,\n",
              "                                                   ccp_alpha=0.0,\n",
              "                                                   criterion='mse',\n",
              "                                                   max_depth=None,\n",
              "                                                   max_features='auto',\n",
              "                                                   max_leaf_nodes=None,\n",
              "                                                   max_samples=None,\n",
              "                                                   min_impurity_decrease=0.0,\n",
              "                                                   min_impurity_split=None,\n",
              "                                                   min_samples_leaf=1,\n",
              "                                                   min_samples_split=2,\n",
              "                                                   min_weight_fraction_leaf=0.0,\n",
              "                                                   n_estimators=100,\n",
              "                                                   n_jobs=None, oob_score=Fals...\n",
              "                   iid='deprecated', n_iter=100, n_jobs=-1,\n",
              "                   param_distributions={'bootstrap': [True, False],\n",
              "                                        'max_depth': [10, 20, 30, 40, 50, 60,\n",
              "                                                      70, 80, 90, 100, 110,\n",
              "                                                      None],\n",
              "                                        'max_features': ['auto', 'sqrt'],\n",
              "                                        'min_samples_leaf': [1, 2, 4],\n",
              "                                        'min_samples_split': [2, 5, 10],\n",
              "                                        'n_estimators': [200, 400, 600, 800,\n",
              "                                                         1000, 1200, 1400, 1600,\n",
              "                                                         1800, 2000]},\n",
              "                   pre_dispatch='2*n_jobs', random_state=1, refit=True,\n",
              "                   return_train_score=False, scoring=None, verbose=2)"
            ]
          },
          "metadata": {
            "tags": []
          },
          "execution_count": 106
        }
      ]
    },
    {
      "cell_type": "code",
      "metadata": {
        "id": "wo76FDa9g8rY",
        "colab_type": "code",
        "outputId": "423e41b7-2385-486e-beeb-bece13a14c53",
        "colab": {
          "base_uri": "https://localhost:8080/",
          "height": 118
        }
      },
      "source": [
        "rf_random.best_params_\n"
      ],
      "execution_count": 0,
      "outputs": [
        {
          "output_type": "execute_result",
          "data": {
            "text/plain": [
              "{'bootstrap': True,\n",
              " 'max_depth': 110,\n",
              " 'max_features': 'auto',\n",
              " 'min_samples_leaf': 1,\n",
              " 'min_samples_split': 2,\n",
              " 'n_estimators': 1600}"
            ]
          },
          "metadata": {
            "tags": []
          },
          "execution_count": 107
        }
      ]
    },
    {
      "cell_type": "code",
      "metadata": {
        "id": "INrrC1Exg8pP",
        "colab_type": "code",
        "outputId": "c91dff6e-c90b-4c2e-cb91-c56f024529db",
        "colab": {
          "base_uri": "https://localhost:8080/",
          "height": 168
        }
      },
      "source": [
        "#Random Forest Model\n",
        "clf=RandomForestClassifier(n_estimators=1600,min_samples_leaf=1,min_samples_split=2,max_features='auto',max_depth=110,bootstrap= True)\n",
        "clf.fit(X,y['Severity'])\n",
        "predicted= clf.predict(X_tst)\n",
        "print(metrics.accuracy_score(y_tst, predicted))\n",
        "print(RandomForestClassifier())"
      ],
      "execution_count": 0,
      "outputs": [
        {
          "output_type": "stream",
          "text": [
            "1.0\n",
            "RandomForestClassifier(bootstrap=True, ccp_alpha=0.0, class_weight=None,\n",
            "                       criterion='gini', max_depth=None, max_features='auto',\n",
            "                       max_leaf_nodes=None, max_samples=None,\n",
            "                       min_impurity_decrease=0.0, min_impurity_split=None,\n",
            "                       min_samples_leaf=1, min_samples_split=2,\n",
            "                       min_weight_fraction_leaf=0.0, n_estimators=100,\n",
            "                       n_jobs=None, oob_score=False, random_state=None,\n",
            "                       verbose=0, warm_start=False)\n"
          ],
          "name": "stdout"
        }
      ]
    },
    {
      "cell_type": "code",
      "metadata": {
        "id": "4uLd5jC2g8mu",
        "colab_type": "code",
        "colab": {}
      },
      "source": [
        ""
      ],
      "execution_count": 0,
      "outputs": []
    },
    {
      "cell_type": "code",
      "metadata": {
        "id": "FM3eRfcSg8gy",
        "colab_type": "code",
        "colab": {}
      },
      "source": [
        ""
      ],
      "execution_count": 0,
      "outputs": []
    },
    {
      "cell_type": "code",
      "metadata": {
        "colab_type": "code",
        "id": "UYb4YQQuMtqi",
        "outputId": "570cc12f-27af-4cef-f946-c3746c81d948",
        "colab": {
          "base_uri": "https://localhost:8080/",
          "height": 269
        }
      },
      "source": [
        "#To evaluate the model's predictions\n",
        "report = classification_report(y_tst, predicted)\n",
        "print(report)\n",
        "matrix = confusion_matrix(y_tst, predicted)\n",
        "print(matrix)"
      ],
      "execution_count": 0,
      "outputs": [
        {
          "output_type": "stream",
          "text": [
            "                                         precision    recall  f1-score   support\n",
            "\n",
            "              Highly_Fatal_And_Damaging       0.96      0.93      0.95       322\n",
            "              Minor_Damage_And_Injuries       0.91      0.96      0.93       252\n",
            "      Significant_Damage_And_Fatalities       0.95      0.93      0.94       177\n",
            "Significant_Damage_And_Serious_Injuries       0.94      0.94      0.94       249\n",
            "\n",
            "                               accuracy                           0.94      1000\n",
            "                              macro avg       0.94      0.94      0.94      1000\n",
            "                           weighted avg       0.94      0.94      0.94      1000\n",
            "\n",
            "[[300   9   5   8]\n",
            " [  4 242   3   3]\n",
            " [  3   6 165   3]\n",
            " [  4  10   0 235]]\n"
          ],
          "name": "stdout"
        }
      ]
    },
    {
      "cell_type": "code",
      "metadata": {
        "colab_type": "code",
        "id": "RS43iQXiMtqm",
        "colab": {}
      },
      "source": [
        "test_dataset = pd.read_csv('./test.csv')"
      ],
      "execution_count": 0,
      "outputs": []
    },
    {
      "cell_type": "code",
      "metadata": {
        "colab_type": "code",
        "outputId": "6fbb2115-a190-4652-d408-a21bcba97656",
        "id": "-3UJFzFpMtqo",
        "colab": {
          "base_uri": "https://localhost:8080/",
          "height": 386
        }
      },
      "source": [
        "print(test_dataset.head())\n",
        "test_dataset_X = test_dataset[['Safety_Score','Days_Since_Inspection','Total_Safety_Complaints','Turbulence_In_gforces']]\n",
        "print((test_dataset_X))"
      ],
      "execution_count": 0,
      "outputs": [
        {
          "output_type": "stream",
          "text": [
            "   Safety_Score  Days_Since_Inspection  ...  Adverse_Weather_Metric  Accident_ID\n",
            "0     19.497717                     16  ...                0.069692            1\n",
            "1     58.173516                     15  ...                0.002777           10\n",
            "2     33.287671                     15  ...                0.004316           14\n",
            "3      3.287671                     21  ...                0.199990           17\n",
            "4     10.867580                     18  ...                0.483696           21\n",
            "\n",
            "[5 rows x 11 columns]\n",
            "      Safety_Score  ...  Turbulence_In_gforces\n",
            "0        19.497717  ...               0.388959\n",
            "1        58.173516  ...               0.250841\n",
            "2        33.287671  ...               0.336669\n",
            "3         3.287671  ...               0.421775\n",
            "4        10.867580  ...               0.313228\n",
            "...            ...  ...                    ...\n",
            "2495     68.127854  ...               0.470819\n",
            "2496     54.840183  ...               0.417087\n",
            "2497     36.712329  ...               0.313950\n",
            "2498     38.721461  ...               0.275003\n",
            "2499     36.073059  ...               0.256250\n",
            "\n",
            "[2500 rows x 4 columns]\n"
          ],
          "name": "stdout"
        }
      ]
    },
    {
      "cell_type": "code",
      "metadata": {
        "colab_type": "code",
        "id": "Rja2sXYeMtqs",
        "outputId": "57f297e5-7bc4-4465-9d79-1bb804b1a60e",
        "colab": {
          "base_uri": "https://localhost:8080/",
          "height": 303
        }
      },
      "source": [
        "test_predict = clf.predict(test_dataset_X)"
      ],
      "execution_count": 0,
      "outputs": [
        {
          "output_type": "error",
          "ename": "ValueError",
          "evalue": "ignored",
          "traceback": [
            "\u001b[0;31m---------------------------------------------------------------------------\u001b[0m",
            "\u001b[0;31mValueError\u001b[0m                                Traceback (most recent call last)",
            "\u001b[0;32m<ipython-input-115-b52775725188>\u001b[0m in \u001b[0;36m<module>\u001b[0;34m()\u001b[0m\n\u001b[0;32m----> 1\u001b[0;31m \u001b[0mtest_predict\u001b[0m \u001b[0;34m=\u001b[0m \u001b[0mclf\u001b[0m\u001b[0;34m.\u001b[0m\u001b[0mpredict\u001b[0m\u001b[0;34m(\u001b[0m\u001b[0mtest_dataset_X\u001b[0m\u001b[0;34m)\u001b[0m\u001b[0;34m\u001b[0m\u001b[0;34m\u001b[0m\u001b[0m\n\u001b[0m",
            "\u001b[0;32m/usr/local/lib/python3.6/dist-packages/sklearn/ensemble/_forest.py\u001b[0m in \u001b[0;36mpredict\u001b[0;34m(self, X)\u001b[0m\n\u001b[1;32m    610\u001b[0m             \u001b[0mThe\u001b[0m \u001b[0mpredicted\u001b[0m \u001b[0mclasses\u001b[0m\u001b[0;34m.\u001b[0m\u001b[0;34m\u001b[0m\u001b[0;34m\u001b[0m\u001b[0m\n\u001b[1;32m    611\u001b[0m         \"\"\"\n\u001b[0;32m--> 612\u001b[0;31m         \u001b[0mproba\u001b[0m \u001b[0;34m=\u001b[0m \u001b[0mself\u001b[0m\u001b[0;34m.\u001b[0m\u001b[0mpredict_proba\u001b[0m\u001b[0;34m(\u001b[0m\u001b[0mX\u001b[0m\u001b[0;34m)\u001b[0m\u001b[0;34m\u001b[0m\u001b[0;34m\u001b[0m\u001b[0m\n\u001b[0m\u001b[1;32m    613\u001b[0m \u001b[0;34m\u001b[0m\u001b[0m\n\u001b[1;32m    614\u001b[0m         \u001b[0;32mif\u001b[0m \u001b[0mself\u001b[0m\u001b[0;34m.\u001b[0m\u001b[0mn_outputs_\u001b[0m \u001b[0;34m==\u001b[0m \u001b[0;36m1\u001b[0m\u001b[0;34m:\u001b[0m\u001b[0;34m\u001b[0m\u001b[0;34m\u001b[0m\u001b[0m\n",
            "\u001b[0;32m/usr/local/lib/python3.6/dist-packages/sklearn/ensemble/_forest.py\u001b[0m in \u001b[0;36mpredict_proba\u001b[0;34m(self, X)\u001b[0m\n\u001b[1;32m    654\u001b[0m         \u001b[0mcheck_is_fitted\u001b[0m\u001b[0;34m(\u001b[0m\u001b[0mself\u001b[0m\u001b[0;34m)\u001b[0m\u001b[0;34m\u001b[0m\u001b[0;34m\u001b[0m\u001b[0m\n\u001b[1;32m    655\u001b[0m         \u001b[0;31m# Check data\u001b[0m\u001b[0;34m\u001b[0m\u001b[0;34m\u001b[0m\u001b[0;34m\u001b[0m\u001b[0m\n\u001b[0;32m--> 656\u001b[0;31m         \u001b[0mX\u001b[0m \u001b[0;34m=\u001b[0m \u001b[0mself\u001b[0m\u001b[0;34m.\u001b[0m\u001b[0m_validate_X_predict\u001b[0m\u001b[0;34m(\u001b[0m\u001b[0mX\u001b[0m\u001b[0;34m)\u001b[0m\u001b[0;34m\u001b[0m\u001b[0;34m\u001b[0m\u001b[0m\n\u001b[0m\u001b[1;32m    657\u001b[0m \u001b[0;34m\u001b[0m\u001b[0m\n\u001b[1;32m    658\u001b[0m         \u001b[0;31m# Assign chunk of trees to jobs\u001b[0m\u001b[0;34m\u001b[0m\u001b[0;34m\u001b[0m\u001b[0;34m\u001b[0m\u001b[0m\n",
            "\u001b[0;32m/usr/local/lib/python3.6/dist-packages/sklearn/ensemble/_forest.py\u001b[0m in \u001b[0;36m_validate_X_predict\u001b[0;34m(self, X)\u001b[0m\n\u001b[1;32m    410\u001b[0m         \u001b[0mcheck_is_fitted\u001b[0m\u001b[0;34m(\u001b[0m\u001b[0mself\u001b[0m\u001b[0;34m)\u001b[0m\u001b[0;34m\u001b[0m\u001b[0;34m\u001b[0m\u001b[0m\n\u001b[1;32m    411\u001b[0m \u001b[0;34m\u001b[0m\u001b[0m\n\u001b[0;32m--> 412\u001b[0;31m         \u001b[0;32mreturn\u001b[0m \u001b[0mself\u001b[0m\u001b[0;34m.\u001b[0m\u001b[0mestimators_\u001b[0m\u001b[0;34m[\u001b[0m\u001b[0;36m0\u001b[0m\u001b[0;34m]\u001b[0m\u001b[0;34m.\u001b[0m\u001b[0m_validate_X_predict\u001b[0m\u001b[0;34m(\u001b[0m\u001b[0mX\u001b[0m\u001b[0;34m,\u001b[0m \u001b[0mcheck_input\u001b[0m\u001b[0;34m=\u001b[0m\u001b[0;32mTrue\u001b[0m\u001b[0;34m)\u001b[0m\u001b[0;34m\u001b[0m\u001b[0;34m\u001b[0m\u001b[0m\n\u001b[0m\u001b[1;32m    413\u001b[0m \u001b[0;34m\u001b[0m\u001b[0m\n\u001b[1;32m    414\u001b[0m     \u001b[0;34m@\u001b[0m\u001b[0mproperty\u001b[0m\u001b[0;34m\u001b[0m\u001b[0;34m\u001b[0m\u001b[0m\n",
            "\u001b[0;32m/usr/local/lib/python3.6/dist-packages/sklearn/tree/_classes.py\u001b[0m in \u001b[0;36m_validate_X_predict\u001b[0;34m(self, X, check_input)\u001b[0m\n\u001b[1;32m    389\u001b[0m                              \u001b[0;34m\"match the input. Model n_features is %s and \"\u001b[0m\u001b[0;34m\u001b[0m\u001b[0;34m\u001b[0m\u001b[0m\n\u001b[1;32m    390\u001b[0m                              \u001b[0;34m\"input n_features is %s \"\u001b[0m\u001b[0;34m\u001b[0m\u001b[0;34m\u001b[0m\u001b[0m\n\u001b[0;32m--> 391\u001b[0;31m                              % (self.n_features_, n_features))\n\u001b[0m\u001b[1;32m    392\u001b[0m \u001b[0;34m\u001b[0m\u001b[0m\n\u001b[1;32m    393\u001b[0m         \u001b[0;32mreturn\u001b[0m \u001b[0mX\u001b[0m\u001b[0;34m\u001b[0m\u001b[0;34m\u001b[0m\u001b[0m\n",
            "\u001b[0;31mValueError\u001b[0m: Number of features of the model must match the input. Model n_features is 10 and input n_features is 4 "
          ]
        }
      ]
    },
    {
      "cell_type": "code",
      "metadata": {
        "colab_type": "code",
        "outputId": "b25e03c5-8c4f-4dfe-d4cc-5bab2b14fea9",
        "id": "4bjRxaBGMtqu",
        "colab": {
          "base_uri": "https://localhost:8080/",
          "height": 84
        }
      },
      "source": [
        "print(test_predict)"
      ],
      "execution_count": 0,
      "outputs": [
        {
          "output_type": "stream",
          "text": [
            "['Highly_Fatal_And_Damaging' 'Significant_Damage_And_Fatalities'\n",
            " 'Significant_Damage_And_Serious_Injuries' ...\n",
            " 'Significant_Damage_And_Serious_Injuries'\n",
            " 'Significant_Damage_And_Serious_Injuries' 'Highly_Fatal_And_Damaging']\n"
          ],
          "name": "stdout"
        }
      ]
    },
    {
      "cell_type": "code",
      "metadata": {
        "colab_type": "code",
        "id": "i2aPMNVxMtqw",
        "colab": {}
      },
      "source": [
        "y_submission = pd.concat([test_dataset[['Accident_ID']],pd.DataFrame(test_predict,columns=['Severity'])], axis=1, sort=False)"
      ],
      "execution_count": 0,
      "outputs": []
    },
    {
      "cell_type": "code",
      "metadata": {
        "colab_type": "code",
        "outputId": "79872060-e562-440d-b3f1-ba4964712b79",
        "id": "za7nvXkoMtqy",
        "colab": {
          "base_uri": "https://localhost:8080/",
          "height": 252
        }
      },
      "source": [
        "print(y_submission)"
      ],
      "execution_count": 0,
      "outputs": [
        {
          "output_type": "stream",
          "text": [
            "      Accident_ID                                 Severity\n",
            "0               1                Highly_Fatal_And_Damaging\n",
            "1              10        Significant_Damage_And_Fatalities\n",
            "2              14  Significant_Damage_And_Serious_Injuries\n",
            "3              17                Highly_Fatal_And_Damaging\n",
            "4              21                Highly_Fatal_And_Damaging\n",
            "...           ...                                      ...\n",
            "2495        12484                Minor_Damage_And_Injuries\n",
            "2496        12487  Significant_Damage_And_Serious_Injuries\n",
            "2497        12488  Significant_Damage_And_Serious_Injuries\n",
            "2498        12491  Significant_Damage_And_Serious_Injuries\n",
            "2499        12493                Highly_Fatal_And_Damaging\n",
            "\n",
            "[2500 rows x 2 columns]\n"
          ],
          "name": "stdout"
        }
      ]
    },
    {
      "cell_type": "code",
      "metadata": {
        "colab_type": "code",
        "id": "nCimzm8hMtq3",
        "colab": {}
      },
      "source": [
        "y_submission.to_csv('./y_submission_2.csv',index=False)\n",
        "# submission 2 -73% test"
      ],
      "execution_count": 0,
      "outputs": []
    },
    {
      "cell_type": "code",
      "metadata": {
        "colab_type": "code",
        "id": "A3vRojMRMtq5",
        "colab": {}
      },
      "source": [
        "pickle.dump(clf, open('./weights_rand_forest_2.sav', 'wb'))"
      ],
      "execution_count": 0,
      "outputs": []
    },
    {
      "cell_type": "code",
      "metadata": {
        "colab_type": "code",
        "id": "jjDRryYvMtq7",
        "colab": {}
      },
      "source": [
        ""
      ],
      "execution_count": 0,
      "outputs": []
    },
    {
      "cell_type": "code",
      "metadata": {
        "colab_type": "code",
        "id": "yzOt8t0cMtq9",
        "colab": {}
      },
      "source": [
        ""
      ],
      "execution_count": 0,
      "outputs": []
    },
    {
      "cell_type": "markdown",
      "metadata": {
        "id": "dHlISzj_4ne5",
        "colab_type": "text"
      },
      "source": [
        "# XGBoost"
      ]
    },
    {
      "cell_type": "code",
      "metadata": {
        "id": "soMGVOIq4qHV",
        "colab_type": "code",
        "outputId": "91db5359-426c-4560-d679-94491d99c37e",
        "colab": {
          "base_uri": "https://localhost:8080/",
          "height": 823
        }
      },
      "source": [
        "# test_size = 0.2 0.3 - 0.9565\n",
        "# test_size - 0.1 # learning rate: 0.9    Accuracy: 0.971     F1 Score:0.9709998840168548\n",
        "# test_size - 0.05 learning rate: 0.7    Accuracy: 0.96     F1 Score:0.9598699440788372\n",
        "# test_size - 0.15 learning rate: 0.6    Accuracy: 0.952     F1 Score:0.9519948655531886\n",
        "\n",
        "for learning_rate in [0.01,0.03,0.05,0.1,0.3,0.33,0.36,0.4,0.43,0.46,0.5,0.55,0.6,0.62,0.65,0.68,0.7,0.8,0.85,0.86,0.9,1,2,3] :\n",
        "# learning_rate = 0.9\n",
        "  clf=XGBClassifier(booster='gbtree',objective='multi:softmax',num_class =4,eval_metric = 'auc', \n",
        "                      learning_rate=learning_rate,n_estimators=50,\n",
        "                      max_depth=5, min_child_weigth = 5,gamma=0,subsample=0.9, colsample_bytree = 0.7,scale_pos_weight = 1,seed = 27)\n",
        "      \n",
        "  model = clf.fit(X_tr, y_tr)\n",
        "  predicted= model.predict(X_tst)\n",
        "  print('Test set'  +  'learning rate: '+ str(learning_rate) +\"    Accuracy: \" + str(metrics.accuracy_score(y_tst, predicted)) + \"     F1 Score:\"+ str(metrics.f1_score(y_tst, predicted,average='weighted')) )\n",
        "  predicted= model.predict(X_tr)\n",
        "  print('Training set'  +  'learning rate: '+ str(learning_rate) +\"    Accuracy: \" + str(metrics.accuracy_score(y_tr, predicted)) + \"     F1 Score:\"+ str(metrics.f1_score(y_tr, predicted,average='weighted')) )\n"
      ],
      "execution_count": 0,
      "outputs": [
        {
          "output_type": "stream",
          "text": [
            "Test setlearning rate: 0.01    Accuracy: 0.807     F1 Score:0.8070707234152454\n",
            "Training setlearning rate: 0.01    Accuracy: 0.7985555555555556     F1 Score:0.7985245114791164\n",
            "Test setlearning rate: 0.03    Accuracy: 0.839     F1 Score:0.8390088045361258\n",
            "Training setlearning rate: 0.03    Accuracy: 0.8465555555555555     F1 Score:0.8467563586761109\n",
            "Test setlearning rate: 0.05    Accuracy: 0.884     F1 Score:0.8837165036990221\n",
            "Training setlearning rate: 0.05    Accuracy: 0.891     F1 Score:0.8911962468535565\n",
            "Test setlearning rate: 0.1    Accuracy: 0.926     F1 Score:0.9260291433026592\n",
            "Training setlearning rate: 0.1    Accuracy: 0.9437777777777778     F1 Score:0.9438856871571716\n",
            "Test setlearning rate: 0.3    Accuracy: 0.956     F1 Score:0.9559682878329859\n",
            "Training setlearning rate: 0.3    Accuracy: 0.9865555555555555     F1 Score:0.9865502081877354\n",
            "Test setlearning rate: 0.33    Accuracy: 0.956     F1 Score:0.9559396853398702\n",
            "Training setlearning rate: 0.33    Accuracy: 0.9886666666666667     F1 Score:0.9886621049431749\n",
            "Test setlearning rate: 0.36    Accuracy: 0.954     F1 Score:0.9539856179584784\n",
            "Training setlearning rate: 0.36    Accuracy: 0.9918888888888889     F1 Score:0.9918865106140321\n",
            "Test setlearning rate: 0.4    Accuracy: 0.961     F1 Score:0.960963503649635\n",
            "Training setlearning rate: 0.4    Accuracy: 0.9926666666666667     F1 Score:0.9926651653657399\n",
            "Test setlearning rate: 0.43    Accuracy: 0.962     F1 Score:0.9619788835269744\n",
            "Training setlearning rate: 0.43    Accuracy: 0.9948888888888889     F1 Score:0.9948891444872093\n",
            "Test setlearning rate: 0.46    Accuracy: 0.958     F1 Score:0.9579483572401283\n",
            "Training setlearning rate: 0.46    Accuracy: 0.9956666666666667     F1 Score:0.9956664832075995\n",
            "Test setlearning rate: 0.5    Accuracy: 0.954     F1 Score:0.9539916056154772\n",
            "Training setlearning rate: 0.5    Accuracy: 0.9965555555555555     F1 Score:0.9965551449668457\n",
            "Test setlearning rate: 0.55    Accuracy: 0.962     F1 Score:0.961953586817985\n",
            "Training setlearning rate: 0.55    Accuracy: 0.9975555555555555     F1 Score:0.9975555190368222\n",
            "Test setlearning rate: 0.6    Accuracy: 0.965     F1 Score:0.9649616159708793\n",
            "Training setlearning rate: 0.6    Accuracy: 0.9983333333333333     F1 Score:0.9983332118486166\n",
            "Test setlearning rate: 0.62    Accuracy: 0.961     F1 Score:0.9609738835389023\n",
            "Training setlearning rate: 0.62    Accuracy: 0.9985555555555555     F1 Score:0.9985556093443989\n",
            "Test setlearning rate: 0.65    Accuracy: 0.959     F1 Score:0.958988319037157\n",
            "Training setlearning rate: 0.65    Accuracy: 0.9988888888888889     F1 Score:0.998888738074513\n",
            "Test setlearning rate: 0.68    Accuracy: 0.964     F1 Score:0.9639749375542026\n",
            "Training setlearning rate: 0.68    Accuracy: 0.9997777777777778     F1 Score:0.9997777849233899\n",
            "Test setlearning rate: 0.7    Accuracy: 0.962     F1 Score:0.9619859095424692\n",
            "Training setlearning rate: 0.7    Accuracy: 0.9996666666666667     F1 Score:0.999666688394468\n",
            "Test setlearning rate: 0.8    Accuracy: 0.966     F1 Score:0.9659630976312223\n",
            "Training setlearning rate: 0.8    Accuracy: 1.0     F1 Score:1.0\n",
            "Test setlearning rate: 0.85    Accuracy: 0.968     F1 Score:0.9679839283700297\n",
            "Training setlearning rate: 0.85    Accuracy: 1.0     F1 Score:1.0\n",
            "Test setlearning rate: 0.86    Accuracy: 0.963     F1 Score:0.9629643308735983\n",
            "Training setlearning rate: 0.86    Accuracy: 1.0     F1 Score:1.0\n",
            "Test setlearning rate: 0.9    Accuracy: 0.957     F1 Score:0.9569706896994385\n",
            "Training setlearning rate: 0.9    Accuracy: 1.0     F1 Score:1.0\n",
            "Test setlearning rate: 1    Accuracy: 0.963     F1 Score:0.9629769722238279\n",
            "Training setlearning rate: 1    Accuracy: 1.0     F1 Score:1.0\n",
            "Test setlearning rate: 2    Accuracy: 0.955     F1 Score:0.9549706766677796\n",
            "Training setlearning rate: 2    Accuracy: 1.0     F1 Score:1.0\n",
            "Test setlearning rate: 3    Accuracy: 0.361     F1 Score:0.3399698033102492\n",
            "Training setlearning rate: 3    Accuracy: 0.3606666666666667     F1 Score:0.34790005516309336\n"
          ],
          "name": "stdout"
        }
      ]
    },
    {
      "cell_type": "code",
      "metadata": {
        "id": "ck4uzfN9UHho",
        "colab_type": "code",
        "outputId": "51601947-ae2e-4709-f5ec-e44d2ed6fbe4",
        "colab": {
          "base_uri": "https://localhost:8080/",
          "height": 151
        }
      },
      "source": [
        "print(clf)"
      ],
      "execution_count": 0,
      "outputs": [
        {
          "output_type": "stream",
          "text": [
            "XGBClassifier(base_score=0.5, booster='gbtree', colsample_bylevel=1,\n",
            "              colsample_bynode=1, colsample_bytree=0.9, eval_metric='auc',\n",
            "              gamma=0, learning_rate=3, max_delta_step=0, max_depth=5,\n",
            "              min_child_weight=1, min_child_weigth=3, missing=None,\n",
            "              n_estimators=120, n_jobs=1, nthread=None, num_class=4,\n",
            "              objective='multi:softprob', random_state=0, reg_alpha=0,\n",
            "              reg_lambda=1, scale_pos_weight=1, seed=27, silent=None,\n",
            "              subsample=0.7, verbosity=1)\n"
          ],
          "name": "stdout"
        }
      ]
    },
    {
      "cell_type": "code",
      "metadata": {
        "id": "nJibvciuMKqL",
        "colab_type": "code",
        "colab": {}
      },
      "source": [
        "# learning rate: 0.01    Accuracy: 0.866     F1 Score:0.8663424391636447\n",
        "# learning rate: 0.03    Accuracy: 0.938     F1 Score:0.9382056446053553\n",
        "# learning rate: 0.05    Accuracy: 0.955     F1 Score:0.9549809896249455\n",
        "# learning rate: 0.1    Accuracy: 0.961     F1 Score:0.9609117076882188\n",
        "# learning rate: 0.3    Accuracy: 0.969     F1 Score:0.9689758178901036\n",
        "# learning rate: 0.33    Accuracy: 0.974     F1 Score:0.9739929383939829\n",
        "# learning rate: 0.36    Accuracy: 0.97     F1 Score:0.9699437459912866\n",
        "# learning rate: 0.4    Accuracy: 0.969     F1 Score:0.9689576292037758\n",
        "# learning rate: 0.5    Accuracy: 0.966     F1 Score:0.9660181603315411\n",
        "# learning rate: 0.6    Accuracy: 0.97     F1 Score:0.9699693951422174\n",
        "# learning rate: 0.7    Accuracy: 0.97     F1 Score:0.9699524434192655\n",
        "# learning rate: 0.8    Accuracy: 0.963     F1 Score:0.962948281846581\n",
        "# learning rate: 0.9    Accuracy: 0.971     F1 Score:0.9709998840168548\n",
        "# learning rate: 1    Accuracy: 0.961     F1 Score:0.9609400478197404\n",
        "# learning rate: 2    Accuracy: 0.947     F1 Score:0.9469604033448432\n",
        "# learning rate: 3    Accuracy: 0.537     F1 Score:0.5366988888294075"
      ],
      "execution_count": 0,
      "outputs": []
    },
    {
      "cell_type": "code",
      "metadata": {
        "id": "yogg8MwDG9-4",
        "colab_type": "code",
        "outputId": "0eecf2fc-d5d3-4521-c49a-26a3cec51cb4",
        "colab": {
          "base_uri": "https://localhost:8080/",
          "height": 50
        }
      },
      "source": [
        "clf=XGBClassifier(booster='gbtree',objective='multi:softmax',num_class =4,eval_metric = 'auc', \n",
        "                      learning_rate=0.8,n_estimators=50,\n",
        "                      max_depth=5, min_child_weigth = 5,gamma=0,subsample=0.9, colsample_bytree = 0.7,scale_pos_weight = 1,seed = 27)\n",
        "model = clf.fit(X_tr, y_tr)\n",
        "predicted= model.predict(X_tst)\n",
        "print('Test set'  +  'learning rate: '+ str(learning_rate) +\"    Accuracy: \" + str(metrics.accuracy_score(y_tst, predicted)) + \"     F1 Score:\"+ str(metrics.f1_score(y_tst, predicted,average='weighted')) )\n",
        "predicted_train= model.predict(X_tr)\n",
        "print('Training set'  +  'learning rate: '+ str(learning_rate) +\"    Accuracy: \" + str(metrics.accuracy_score(y_tr, predicted_train)) + \"     F1 Score:\"+ str(metrics.f1_score(y_tr, predicted_train,average='weighted')) )\n"
      ],
      "execution_count": 0,
      "outputs": [
        {
          "output_type": "stream",
          "text": [
            "Test setlearning rate: 3    Accuracy: 0.966     F1 Score:0.9659630976312223\n",
            "Training setlearning rate: 3    Accuracy: 1.0     F1 Score:1.0\n"
          ],
          "name": "stdout"
        }
      ]
    },
    {
      "cell_type": "code",
      "metadata": {
        "id": "MNn1w6_p4qEM",
        "colab_type": "code",
        "outputId": "ee55c6e5-7da2-4388-d1f1-0e3e10af69d0",
        "colab": {
          "base_uri": "https://localhost:8080/",
          "height": 269
        }
      },
      "source": [
        "#To evaluate the model's predictions\n",
        "report = classification_report(y_tst, predicted)\n",
        "print(report)\n",
        "matrix = confusion_matrix(y_tst, predicted)\n",
        "print(matrix)"
      ],
      "execution_count": 0,
      "outputs": [
        {
          "output_type": "stream",
          "text": [
            "                                         precision    recall  f1-score   support\n",
            "\n",
            "              Highly_Fatal_And_Damaging       0.96      0.95      0.96       304\n",
            "              Minor_Damage_And_Injuries       0.97      0.98      0.98       254\n",
            "      Significant_Damage_And_Fatalities       0.96      0.98      0.97       167\n",
            "Significant_Damage_And_Serious_Injuries       0.97      0.96      0.96       275\n",
            "\n",
            "                               accuracy                           0.97      1000\n",
            "                              macro avg       0.97      0.97      0.97      1000\n",
            "                           weighted avg       0.97      0.97      0.97      1000\n",
            "\n",
            "[[290   4   4   6]\n",
            " [  3 249   1   1]\n",
            " [  1   0 164   2]\n",
            " [  8   3   1 263]]\n"
          ],
          "name": "stdout"
        }
      ]
    },
    {
      "cell_type": "markdown",
      "metadata": {
        "id": "LB0rrsQELkFE",
        "colab_type": "text"
      },
      "source": [
        "## Test data and file saving"
      ]
    },
    {
      "cell_type": "code",
      "metadata": {
        "id": "fzOwOLXY4qA9",
        "colab_type": "code",
        "colab": {}
      },
      "source": [
        "test_dataset = pd.read_csv('./test.csv')"
      ],
      "execution_count": 0,
      "outputs": []
    },
    {
      "cell_type": "code",
      "metadata": {
        "id": "1XAMUrcv4p-3",
        "colab_type": "code",
        "outputId": "2d44f415-cd37-467b-c7a4-6e29ce414f49",
        "colab": {
          "base_uri": "https://localhost:8080/",
          "height": 386
        }
      },
      "source": [
        "\n",
        "print(test_dataset.head())\n",
        "test_dataset_X = test_dataset[['Safety_Score','Days_Since_Inspection','Total_Safety_Complaints','Control_Metric','Turbulence_In_gforces','Cabin_Temperature','Accident_Type_Code','Max_Elevation',\t'Violations',\t'Adverse_Weather_Metric']]\n",
        "print((test_dataset_X))"
      ],
      "execution_count": 0,
      "outputs": [
        {
          "output_type": "stream",
          "text": [
            "   Safety_Score  Days_Since_Inspection  ...  Adverse_Weather_Metric  Accident_ID\n",
            "0     19.497717                     16  ...                0.069692            1\n",
            "1     58.173516                     15  ...                0.002777           10\n",
            "2     33.287671                     15  ...                0.004316           14\n",
            "3      3.287671                     21  ...                0.199990           17\n",
            "4     10.867580                     18  ...                0.483696           21\n",
            "\n",
            "[5 rows x 11 columns]\n",
            "      Safety_Score  Days_Since_Inspection  ...  Violations  Adverse_Weather_Metric\n",
            "0        19.497717                     16  ...           2                0.069692\n",
            "1        58.173516                     15  ...           2                0.002777\n",
            "2        33.287671                     15  ...           1                0.004316\n",
            "3         3.287671                     21  ...           2                0.199990\n",
            "4        10.867580                     18  ...           2                0.483696\n",
            "...            ...                    ...  ...         ...                     ...\n",
            "2495     68.127854                      8  ...           2                0.659387\n",
            "2496     54.840183                      9  ...           1                0.005010\n",
            "2497     36.712329                     14  ...           2                0.008629\n",
            "2498     38.721461                     13  ...           1                0.006247\n",
            "2499     36.073059                     11  ...           0                0.024409\n",
            "\n",
            "[2500 rows x 10 columns]\n"
          ],
          "name": "stdout"
        }
      ]
    },
    {
      "cell_type": "code",
      "metadata": {
        "id": "CJUIO5V56Nor",
        "colab_type": "code",
        "outputId": "ef5e0a1d-8394-4352-ce4e-3ac705ff7750",
        "colab": {
          "base_uri": "https://localhost:8080/",
          "height": 252
        }
      },
      "source": [
        "test_predict = clf.predict(test_dataset_X)\n",
        "y_submission = pd.concat([test_dataset[['Accident_ID']],pd.DataFrame(test_predict,columns=['Severity'])], axis=1, sort=False)\n",
        "print(y_submission)\n"
      ],
      "execution_count": 0,
      "outputs": [
        {
          "output_type": "stream",
          "text": [
            "      Accident_ID                                 Severity\n",
            "0               1                Highly_Fatal_And_Damaging\n",
            "1              10        Significant_Damage_And_Fatalities\n",
            "2              14  Significant_Damage_And_Serious_Injuries\n",
            "3              17                Highly_Fatal_And_Damaging\n",
            "4              21                Highly_Fatal_And_Damaging\n",
            "...           ...                                      ...\n",
            "2495        12484                Highly_Fatal_And_Damaging\n",
            "2496        12487  Significant_Damage_And_Serious_Injuries\n",
            "2497        12488  Significant_Damage_And_Serious_Injuries\n",
            "2498        12491  Significant_Damage_And_Serious_Injuries\n",
            "2499        12493                Highly_Fatal_And_Damaging\n",
            "\n",
            "[2500 rows x 2 columns]\n"
          ],
          "name": "stdout"
        }
      ]
    },
    {
      "cell_type": "code",
      "metadata": {
        "id": "fzDKAA1s6YIS",
        "colab_type": "code",
        "colab": {}
      },
      "source": [
        "y_submission.to_csv('./y_submission_xg_boost_12.csv',index=False)\n",
        "# score_not_normalize - 85.33359\n",
        "# score_normalize - 84.22388\n",
        "pickle.dump(clf, open('./weights_xg_boost_12.sav', 'wb'))"
      ],
      "execution_count": 0,
      "outputs": []
    },
    {
      "cell_type": "markdown",
      "metadata": {
        "id": "rllGqn4kOjzu",
        "colab_type": "text"
      },
      "source": [
        "# ANN"
      ]
    },
    {
      "cell_type": "code",
      "metadata": {
        "id": "RSZ24a_qPe-0",
        "colab_type": "code",
        "colab": {}
      },
      "source": [
        "from keras.models import Sequential\n",
        "from keras.layers import Dense,Embedding,LSTM,Dropout,Activation\n",
        "\n",
        "from sklearn import preprocessing\n",
        "import sys"
      ],
      "execution_count": 0,
      "outputs": []
    },
    {
      "cell_type": "code",
      "metadata": {
        "id": "z00spWrCP6tH",
        "colab_type": "code",
        "outputId": "e7652844-54f0-45e4-f5d9-22a7ed49b117",
        "colab": {
          "base_uri": "https://localhost:8080/",
          "height": 195
        }
      },
      "source": [
        "onehotencoder = preprocessing.OneHotEncoder(categories = 'auto' )\n",
        "y=y.values\n",
        "y_one_hot = onehotencoder.fit_transform(y.reshape(-1,1)).toarray()"
      ],
      "execution_count": 0,
      "outputs": [
        {
          "output_type": "error",
          "ename": "AttributeError",
          "evalue": "ignored",
          "traceback": [
            "\u001b[0;31m---------------------------------------------------------------------------\u001b[0m",
            "\u001b[0;31mAttributeError\u001b[0m                            Traceback (most recent call last)",
            "\u001b[0;32m<ipython-input-23-b075e3c03cea>\u001b[0m in \u001b[0;36m<module>\u001b[0;34m()\u001b[0m\n\u001b[1;32m      1\u001b[0m \u001b[0monehotencoder\u001b[0m \u001b[0;34m=\u001b[0m \u001b[0mpreprocessing\u001b[0m\u001b[0;34m.\u001b[0m\u001b[0mOneHotEncoder\u001b[0m\u001b[0;34m(\u001b[0m\u001b[0mcategories\u001b[0m \u001b[0;34m=\u001b[0m \u001b[0;34m'auto'\u001b[0m \u001b[0;34m)\u001b[0m\u001b[0;34m\u001b[0m\u001b[0;34m\u001b[0m\u001b[0m\n\u001b[0;32m----> 2\u001b[0;31m \u001b[0my\u001b[0m\u001b[0;34m=\u001b[0m\u001b[0my\u001b[0m\u001b[0;34m.\u001b[0m\u001b[0mvalues\u001b[0m\u001b[0;34m\u001b[0m\u001b[0;34m\u001b[0m\u001b[0m\n\u001b[0m\u001b[1;32m      3\u001b[0m \u001b[0my_one_hot\u001b[0m \u001b[0;34m=\u001b[0m \u001b[0monehotencoder\u001b[0m\u001b[0;34m.\u001b[0m\u001b[0mfit_transform\u001b[0m\u001b[0;34m(\u001b[0m\u001b[0my\u001b[0m\u001b[0;34m.\u001b[0m\u001b[0mreshape\u001b[0m\u001b[0;34m(\u001b[0m\u001b[0;34m-\u001b[0m\u001b[0;36m1\u001b[0m\u001b[0;34m,\u001b[0m\u001b[0;36m1\u001b[0m\u001b[0;34m)\u001b[0m\u001b[0;34m)\u001b[0m\u001b[0;34m.\u001b[0m\u001b[0mtoarray\u001b[0m\u001b[0;34m(\u001b[0m\u001b[0;34m)\u001b[0m\u001b[0;34m\u001b[0m\u001b[0;34m\u001b[0m\u001b[0m\n",
            "\u001b[0;31mAttributeError\u001b[0m: 'numpy.ndarray' object has no attribute 'values'"
          ]
        }
      ]
    },
    {
      "cell_type": "code",
      "metadata": {
        "id": "g_i-me9IP6kW",
        "colab_type": "code",
        "colab": {}
      },
      "source": [
        "X_train,X_test,y_train,y_test = train_test_split(X,y_one_hot,test_size = 0.2)\n"
      ],
      "execution_count": 0,
      "outputs": []
    },
    {
      "cell_type": "code",
      "metadata": {
        "colab_type": "code",
        "id": "xXCkOimFNOeS",
        "colab": {}
      },
      "source": [
        "X_tr, X_tst, y_tr, y_tst = train_test_split(X, y_one_hot, test_size=0.1,random_state = seed)"
      ],
      "execution_count": 0,
      "outputs": []
    },
    {
      "cell_type": "code",
      "metadata": {
        "colab_type": "code",
        "id": "yYEIJ-McNOep",
        "colab": {}
      },
      "source": [
        "X_tr, X_cross, y_tr, y_cross = train_test_split(X_tr, y_tr, test_size=0.12,random_state = seed)"
      ],
      "execution_count": 0,
      "outputs": []
    },
    {
      "cell_type": "code",
      "metadata": {
        "id": "qic3e7uNOm0q",
        "colab_type": "code",
        "outputId": "45e9a09b-7df1-4591-fd9f-bea57c087e4a",
        "colab": {
          "base_uri": "https://localhost:8080/",
          "height": 128
        }
      },
      "source": [
        "# model = Sequential()\n",
        "# model.add(Dense(25, input_dim=X.shape[1], activation='relu'))\n",
        "# model.add(Dropout(0.3))\n",
        "# # model.add(Dense(20, activation='relu'))\n",
        "# # model.add(Dense(25, activation='relu'))\n",
        "# model.add(Dense(100, activation='relu'))\n",
        "# model.add(Dropout(0.7))\n",
        "# model.add(Dense(25, activation='relu'))\n",
        "# model.add(Dense(15, activation='relu'))\n",
        "# model.add(Dense(15, activation='relu'))\n",
        "\n",
        "# model.add(Dropout(0.5))\n",
        "# model.add(Dense(10, activation='relu'))\n",
        "# model.add(Dense(8, activation='relu'))\n",
        "# model.add(Dense(6, activation='relu'))\n",
        "# model.add(Dense(4, activation='softmax'))\n",
        "\n"
      ],
      "execution_count": 0,
      "outputs": [
        {
          "output_type": "error",
          "ename": "SyntaxError",
          "evalue": "ignored",
          "traceback": [
            "\u001b[0;36m  File \u001b[0;32m\"<ipython-input-36-a4dce269959d>\"\u001b[0;36m, line \u001b[0;32m15\u001b[0m\n\u001b[0;31m    model.add(Activation('relu'))\u001b[0m\n\u001b[0m        ^\u001b[0m\n\u001b[0;31mSyntaxError\u001b[0m\u001b[0;31m:\u001b[0m invalid syntax\n"
          ]
        }
      ]
    },
    {
      "cell_type": "code",
      "metadata": {
        "id": "E040jtSORXGk",
        "colab_type": "code",
        "colab": {}
      },
      "source": [
        "model = Sequential()\n",
        "model.add(Dense(25, input_dim=X.shape[1], activation='relu'))\n",
        "model.add(Dense(100))\n",
        "model.add(Dropout(0.5))\n",
        "model.add(Activation('relu'))\n",
        "model.add(Dense(25))\n",
        "model.add(Dropout(0.5))\n",
        "model.add(Activation('relu'))\n",
        "model.add(Dense(15))\n",
        "model.add(Dropout(0.5))\n",
        "model.add(Activation('relu'))\n",
        "model.add(Dense(15))\n",
        "model.add(Dropout(0.5))\n",
        "model.add(Activation('relu'))\n",
        "model.add(Dense(4, activation='softmax'))\n"
      ],
      "execution_count": 0,
      "outputs": []
    },
    {
      "cell_type": "code",
      "metadata": {
        "id": "X-thoSBhQCML",
        "colab_type": "code",
        "outputId": "d089341e-c3fc-4921-8613-ddf5a2251c22",
        "colab": {
          "base_uri": "https://localhost:8080/",
          "height": 1000
        }
      },
      "source": [
        "#Compile\n",
        "model.compile(loss='categorical_crossentropy', optimizer='adam', metrics=['accuracy'])\n",
        "\n",
        "# Fit Keras Model.\n",
        "history = model.fit(X_train, y_train, epochs=150, batch_size=64)\n",
        "\n",
        "# Make Predictions\n",
        "y_pred = model.predict(X_test)\n",
        "#Converting predictions to label\n",
        "pred = list()\n",
        "for i in range(len(y_pred)):\n",
        "    pred.append(np.argmax(y_pred[i]))\n",
        "#Converting one hot encoded test label to label\n",
        "test = list()\n",
        "for i in range(len(y_test)):\n",
        "    test.append(np.argmax(y_test[i]))\n",
        "\n",
        "from sklearn.metrics import accuracy_score\n",
        "a = accuracy_score(pred,test)\n",
        "print('Accuracy is:'+ str(a*100) + \"F1 Score:\"+ str(metrics.f1_score(test, pred,average='weighted')))\n",
        "\n",
        "\n",
        "\n",
        "\n",
        "# Make Predictions\n",
        "y_pred_train = model.predict(X_train)\n",
        "#Converting predictions to label\n",
        "pred_train = list()\n",
        "for i in range(len(y_pred_train)):\n",
        "    pred_train.append(np.argmax(y_pred_train[i]))\n",
        "#Converting one hot encoded test label to label\n",
        "train = list()\n",
        "for i in range(len(y_train)):\n",
        "    train.append(np.argmax(y_train[i]))\n",
        "\n",
        "from sklearn.metrics import accuracy_score\n",
        "a = accuracy_score(pred_train,train)\n",
        "print('Accuracy is:'+ str(a*100) + \"F1 Score:\"+ str(metrics.f1_score(train, pred_train,average='weighted')))"
      ],
      "execution_count": 0,
      "outputs": [
        {
          "output_type": "stream",
          "text": [
            "Epoch 1/150\n",
            "8000/8000 [==============================] - 2s 213us/step - loss: 1.9049 - acc: 0.3046\n",
            "Epoch 2/150\n",
            "8000/8000 [==============================] - 1s 86us/step - loss: 1.8938 - acc: 0.3068\n",
            "Epoch 3/150\n",
            "8000/8000 [==============================] - 1s 85us/step - loss: 1.8125 - acc: 0.3047\n",
            "Epoch 4/150\n",
            "8000/8000 [==============================] - 1s 84us/step - loss: 1.7418 - acc: 0.3083\n",
            "Epoch 5/150\n",
            "8000/8000 [==============================] - 1s 87us/step - loss: 1.7581 - acc: 0.3076\n",
            "Epoch 6/150\n",
            "8000/8000 [==============================] - 1s 84us/step - loss: 1.7905 - acc: 0.3062\n",
            "Epoch 7/150\n",
            "8000/8000 [==============================] - 1s 89us/step - loss: 1.7809 - acc: 0.3040\n",
            "Epoch 8/150\n",
            "8000/8000 [==============================] - 1s 82us/step - loss: 1.7217 - acc: 0.3059\n",
            "Epoch 9/150\n",
            "8000/8000 [==============================] - 1s 85us/step - loss: 1.7597 - acc: 0.3065\n",
            "Epoch 10/150\n",
            "8000/8000 [==============================] - 1s 85us/step - loss: 1.7458 - acc: 0.3062\n",
            "Epoch 11/150\n",
            "8000/8000 [==============================] - 1s 83us/step - loss: 1.7554 - acc: 0.3084\n",
            "Epoch 12/150\n",
            "8000/8000 [==============================] - 1s 85us/step - loss: 1.7238 - acc: 0.3059\n",
            "Epoch 13/150\n",
            "8000/8000 [==============================] - 1s 84us/step - loss: 1.7469 - acc: 0.3064\n",
            "Epoch 14/150\n",
            "8000/8000 [==============================] - 1s 85us/step - loss: 1.7360 - acc: 0.3044\n",
            "Epoch 15/150\n",
            "8000/8000 [==============================] - 1s 85us/step - loss: 1.6861 - acc: 0.3071\n",
            "Epoch 16/150\n",
            "8000/8000 [==============================] - 1s 85us/step - loss: 1.6978 - acc: 0.3065\n",
            "Epoch 17/150\n",
            "8000/8000 [==============================] - 1s 83us/step - loss: 1.7536 - acc: 0.3058\n",
            "Epoch 18/150\n",
            "8000/8000 [==============================] - 1s 88us/step - loss: 1.7439 - acc: 0.3038\n",
            "Epoch 19/150\n",
            "8000/8000 [==============================] - 1s 86us/step - loss: 1.7156 - acc: 0.3049\n",
            "Epoch 20/150\n",
            "8000/8000 [==============================] - 1s 87us/step - loss: 1.7316 - acc: 0.3035\n",
            "Epoch 21/150\n",
            "8000/8000 [==============================] - 1s 83us/step - loss: 1.7260 - acc: 0.3071\n",
            "Epoch 22/150\n",
            "8000/8000 [==============================] - 1s 84us/step - loss: 1.7018 - acc: 0.3049\n",
            "Epoch 23/150\n",
            "8000/8000 [==============================] - 1s 86us/step - loss: 1.6721 - acc: 0.3085\n",
            "Epoch 24/150\n",
            "8000/8000 [==============================] - 1s 84us/step - loss: 1.7222 - acc: 0.3058\n",
            "Epoch 25/150\n",
            "8000/8000 [==============================] - 1s 85us/step - loss: 1.6822 - acc: 0.3040\n",
            "Epoch 26/150\n",
            "8000/8000 [==============================] - 1s 85us/step - loss: 1.7218 - acc: 0.3040\n",
            "Epoch 27/150\n",
            "8000/8000 [==============================] - 1s 85us/step - loss: 1.4219 - acc: 0.3070\n",
            "Epoch 28/150\n",
            "8000/8000 [==============================] - 1s 83us/step - loss: 1.4365 - acc: 0.3051\n",
            "Epoch 29/150\n",
            "8000/8000 [==============================] - 1s 82us/step - loss: 1.4265 - acc: 0.3058\n",
            "Epoch 30/150\n",
            "8000/8000 [==============================] - 1s 85us/step - loss: 1.4283 - acc: 0.3058\n",
            "Epoch 31/150\n",
            "8000/8000 [==============================] - 1s 84us/step - loss: 1.4113 - acc: 0.3061\n",
            "Epoch 32/150\n",
            "8000/8000 [==============================] - 1s 84us/step - loss: 1.4336 - acc: 0.3051\n",
            "Epoch 33/150\n",
            "8000/8000 [==============================] - 1s 85us/step - loss: 1.4257 - acc: 0.3055\n",
            "Epoch 34/150\n",
            "8000/8000 [==============================] - 1s 84us/step - loss: 1.4005 - acc: 0.3064\n",
            "Epoch 35/150\n",
            "8000/8000 [==============================] - 1s 83us/step - loss: 1.4142 - acc: 0.3066\n",
            "Epoch 36/150\n",
            "8000/8000 [==============================] - 1s 83us/step - loss: 1.3985 - acc: 0.3070\n",
            "Epoch 37/150\n",
            "8000/8000 [==============================] - 1s 84us/step - loss: 1.3892 - acc: 0.3055\n",
            "Epoch 38/150\n",
            "8000/8000 [==============================] - 1s 84us/step - loss: 1.3914 - acc: 0.3066\n",
            "Epoch 39/150\n",
            "8000/8000 [==============================] - 1s 82us/step - loss: 1.4126 - acc: 0.3065\n",
            "Epoch 40/150\n",
            "8000/8000 [==============================] - 1s 85us/step - loss: 1.4087 - acc: 0.3064\n",
            "Epoch 41/150\n",
            "8000/8000 [==============================] - 1s 83us/step - loss: 1.4020 - acc: 0.3049\n",
            "Epoch 42/150\n",
            "8000/8000 [==============================] - 1s 86us/step - loss: 1.3887 - acc: 0.3066\n",
            "Epoch 43/150\n",
            "8000/8000 [==============================] - 1s 86us/step - loss: 1.3903 - acc: 0.3068\n",
            "Epoch 44/150\n",
            "8000/8000 [==============================] - 1s 86us/step - loss: 1.3808 - acc: 0.3064\n",
            "Epoch 45/150\n",
            "8000/8000 [==============================] - 1s 84us/step - loss: 1.3891 - acc: 0.3058\n",
            "Epoch 46/150\n",
            "8000/8000 [==============================] - 1s 86us/step - loss: 1.4054 - acc: 0.3061\n",
            "Epoch 47/150\n",
            "8000/8000 [==============================] - 1s 82us/step - loss: 1.6301 - acc: 0.3056\n",
            "Epoch 48/150\n",
            "8000/8000 [==============================] - 1s 85us/step - loss: 1.4593 - acc: 0.3045\n",
            "Epoch 49/150\n",
            "8000/8000 [==============================] - 1s 86us/step - loss: 1.3870 - acc: 0.3058\n",
            "Epoch 50/150\n",
            "8000/8000 [==============================] - 1s 85us/step - loss: 1.3838 - acc: 0.3060\n",
            "Epoch 51/150\n",
            "8000/8000 [==============================] - 1s 84us/step - loss: 1.3869 - acc: 0.3061\n",
            "Epoch 52/150\n",
            "8000/8000 [==============================] - 1s 83us/step - loss: 1.3758 - acc: 0.3065\n",
            "Epoch 53/150\n",
            "8000/8000 [==============================] - 1s 84us/step - loss: 1.3773 - acc: 0.3064\n",
            "Epoch 54/150\n",
            "8000/8000 [==============================] - 1s 84us/step - loss: 1.3856 - acc: 0.3064\n",
            "Epoch 55/150\n",
            "8000/8000 [==============================] - 1s 83us/step - loss: 1.3953 - acc: 0.3062\n",
            "Epoch 56/150\n",
            "8000/8000 [==============================] - 1s 84us/step - loss: 1.3789 - acc: 0.3069\n",
            "Epoch 57/150\n",
            "8000/8000 [==============================] - 1s 85us/step - loss: 1.3803 - acc: 0.3066\n",
            "Epoch 58/150\n",
            "8000/8000 [==============================] - 1s 83us/step - loss: 1.3860 - acc: 0.3068\n",
            "Epoch 59/150\n",
            "8000/8000 [==============================] - 1s 89us/step - loss: 1.3804 - acc: 0.3069\n",
            "Epoch 60/150\n",
            "8000/8000 [==============================] - 1s 85us/step - loss: 1.3832 - acc: 0.3066\n",
            "Epoch 61/150\n",
            "8000/8000 [==============================] - 1s 84us/step - loss: 1.3710 - acc: 0.3064\n",
            "Epoch 62/150\n",
            "8000/8000 [==============================] - 1s 84us/step - loss: 1.3770 - acc: 0.3061\n",
            "Epoch 63/150\n",
            "8000/8000 [==============================] - 1s 86us/step - loss: 1.3778 - acc: 0.3061\n",
            "Epoch 64/150\n",
            "8000/8000 [==============================] - 1s 83us/step - loss: 1.3823 - acc: 0.3060\n",
            "Epoch 65/150\n",
            "8000/8000 [==============================] - 1s 84us/step - loss: 1.3775 - acc: 0.3065\n",
            "Epoch 66/150\n",
            "8000/8000 [==============================] - 1s 86us/step - loss: 1.3821 - acc: 0.3061\n",
            "Epoch 67/150\n",
            "8000/8000 [==============================] - 1s 82us/step - loss: 1.3742 - acc: 0.3065\n",
            "Epoch 68/150\n",
            "8000/8000 [==============================] - 1s 84us/step - loss: 1.3800 - acc: 0.3064\n",
            "Epoch 69/150\n",
            "8000/8000 [==============================] - 1s 87us/step - loss: 1.3758 - acc: 0.3065\n",
            "Epoch 70/150\n",
            "8000/8000 [==============================] - 1s 85us/step - loss: 1.3738 - acc: 0.3065\n",
            "Epoch 71/150\n",
            "8000/8000 [==============================] - 1s 85us/step - loss: 1.3723 - acc: 0.3062\n",
            "Epoch 72/150\n",
            "8000/8000 [==============================] - 1s 83us/step - loss: 1.3706 - acc: 0.3064\n",
            "Epoch 73/150\n",
            "8000/8000 [==============================] - 1s 84us/step - loss: 1.3780 - acc: 0.3061\n",
            "Epoch 74/150\n",
            "8000/8000 [==============================] - 1s 87us/step - loss: 1.3769 - acc: 0.3065\n",
            "Epoch 75/150\n",
            "8000/8000 [==============================] - 1s 85us/step - loss: 1.3852 - acc: 0.3062\n",
            "Epoch 76/150\n",
            "8000/8000 [==============================] - 1s 84us/step - loss: 1.3779 - acc: 0.3064\n",
            "Epoch 77/150\n",
            "8000/8000 [==============================] - 1s 84us/step - loss: 1.3755 - acc: 0.3065\n",
            "Epoch 78/150\n",
            "8000/8000 [==============================] - 1s 86us/step - loss: 1.3732 - acc: 0.3069\n",
            "Epoch 79/150\n",
            "8000/8000 [==============================] - 1s 89us/step - loss: 1.3762 - acc: 0.3060\n",
            "Epoch 80/150\n",
            "8000/8000 [==============================] - 1s 84us/step - loss: 1.3752 - acc: 0.3066\n",
            "Epoch 81/150\n",
            "8000/8000 [==============================] - 1s 83us/step - loss: 1.3734 - acc: 0.3059\n",
            "Epoch 82/150\n",
            "8000/8000 [==============================] - 1s 85us/step - loss: 1.3726 - acc: 0.3064\n",
            "Epoch 83/150\n",
            "8000/8000 [==============================] - 1s 85us/step - loss: 1.3762 - acc: 0.3064\n",
            "Epoch 84/150\n",
            "8000/8000 [==============================] - 1s 84us/step - loss: 1.3668 - acc: 0.3064\n",
            "Epoch 85/150\n",
            "8000/8000 [==============================] - 1s 85us/step - loss: 1.3689 - acc: 0.3062\n",
            "Epoch 86/150\n",
            "8000/8000 [==============================] - 1s 84us/step - loss: 1.3639 - acc: 0.3062\n",
            "Epoch 87/150\n",
            "8000/8000 [==============================] - 1s 85us/step - loss: 1.3642 - acc: 0.3066\n",
            "Epoch 88/150\n",
            "8000/8000 [==============================] - 1s 85us/step - loss: 1.3676 - acc: 0.3062\n",
            "Epoch 89/150\n",
            "8000/8000 [==============================] - 1s 84us/step - loss: 1.3669 - acc: 0.3064\n",
            "Epoch 90/150\n",
            "8000/8000 [==============================] - 1s 86us/step - loss: 1.3680 - acc: 0.3064\n",
            "Epoch 91/150\n",
            "8000/8000 [==============================] - 1s 86us/step - loss: 1.3653 - acc: 0.3064\n",
            "Epoch 92/150\n",
            "8000/8000 [==============================] - 1s 83us/step - loss: 1.3652 - acc: 0.3064\n",
            "Epoch 93/150\n",
            "8000/8000 [==============================] - 1s 86us/step - loss: 1.3649 - acc: 0.3066\n",
            "Epoch 94/150\n",
            "8000/8000 [==============================] - 1s 86us/step - loss: 1.3670 - acc: 0.3064\n",
            "Epoch 95/150\n",
            "8000/8000 [==============================] - 1s 87us/step - loss: 1.3672 - acc: 0.3064\n",
            "Epoch 96/150\n",
            "8000/8000 [==============================] - 1s 85us/step - loss: 1.3632 - acc: 0.3065\n",
            "Epoch 97/150\n",
            "8000/8000 [==============================] - 1s 85us/step - loss: 1.3694 - acc: 0.3064\n",
            "Epoch 98/150\n",
            "8000/8000 [==============================] - 1s 85us/step - loss: 1.3683 - acc: 0.3064\n",
            "Epoch 99/150\n",
            "8000/8000 [==============================] - 1s 83us/step - loss: 1.3652 - acc: 0.3064\n",
            "Epoch 100/150\n",
            "8000/8000 [==============================] - 1s 82us/step - loss: 1.3635 - acc: 0.3064\n",
            "Epoch 101/150\n",
            "8000/8000 [==============================] - 1s 85us/step - loss: 1.3724 - acc: 0.3064\n",
            "Epoch 102/150\n",
            "8000/8000 [==============================] - 1s 84us/step - loss: 1.3654 - acc: 0.3065\n",
            "Epoch 103/150\n",
            "8000/8000 [==============================] - 1s 87us/step - loss: 1.3671 - acc: 0.3064\n",
            "Epoch 104/150\n",
            "8000/8000 [==============================] - 1s 87us/step - loss: 1.3689 - acc: 0.3062\n",
            "Epoch 105/150\n",
            "8000/8000 [==============================] - 1s 88us/step - loss: 1.3674 - acc: 0.3061\n",
            "Epoch 106/150\n",
            "8000/8000 [==============================] - 1s 87us/step - loss: 1.3670 - acc: 0.3064\n",
            "Epoch 107/150\n",
            "8000/8000 [==============================] - 1s 89us/step - loss: 1.3665 - acc: 0.3064\n",
            "Epoch 108/150\n",
            "8000/8000 [==============================] - 1s 89us/step - loss: 1.3636 - acc: 0.3065\n",
            "Epoch 109/150\n",
            "8000/8000 [==============================] - 1s 88us/step - loss: 1.3659 - acc: 0.3064\n",
            "Epoch 110/150\n",
            "8000/8000 [==============================] - 1s 89us/step - loss: 1.3651 - acc: 0.3065\n",
            "Epoch 111/150\n",
            "8000/8000 [==============================] - 1s 88us/step - loss: 1.3670 - acc: 0.3064\n",
            "Epoch 112/150\n",
            "8000/8000 [==============================] - 1s 85us/step - loss: 1.3690 - acc: 0.3062\n",
            "Epoch 113/150\n",
            "8000/8000 [==============================] - 1s 83us/step - loss: 1.3674 - acc: 0.3065\n",
            "Epoch 114/150\n",
            "8000/8000 [==============================] - 1s 86us/step - loss: 1.3660 - acc: 0.3065\n",
            "Epoch 115/150\n",
            "8000/8000 [==============================] - 1s 85us/step - loss: 1.3635 - acc: 0.3064\n",
            "Epoch 116/150\n",
            "8000/8000 [==============================] - 1s 85us/step - loss: 1.3652 - acc: 0.3064\n",
            "Epoch 117/150\n",
            "8000/8000 [==============================] - 1s 84us/step - loss: 1.3653 - acc: 0.3064\n",
            "Epoch 118/150\n",
            "8000/8000 [==============================] - 1s 83us/step - loss: 1.3635 - acc: 0.3064\n",
            "Epoch 119/150\n",
            "8000/8000 [==============================] - 1s 85us/step - loss: 1.3651 - acc: 0.3065\n",
            "Epoch 120/150\n",
            "8000/8000 [==============================] - 1s 83us/step - loss: 1.3653 - acc: 0.3064\n",
            "Epoch 121/150\n",
            "8000/8000 [==============================] - 1s 83us/step - loss: 1.3635 - acc: 0.3064\n",
            "Epoch 122/150\n",
            "8000/8000 [==============================] - 1s 83us/step - loss: 1.3674 - acc: 0.3062\n",
            "Epoch 123/150\n",
            "8000/8000 [==============================] - 1s 83us/step - loss: 1.3634 - acc: 0.3064\n",
            "Epoch 124/150\n",
            "8000/8000 [==============================] - 1s 84us/step - loss: 1.3674 - acc: 0.3064\n",
            "Epoch 125/150\n",
            "8000/8000 [==============================] - 1s 84us/step - loss: 1.3633 - acc: 0.3064\n",
            "Epoch 126/150\n",
            "8000/8000 [==============================] - 1s 86us/step - loss: 1.3635 - acc: 0.3064\n",
            "Epoch 127/150\n",
            "8000/8000 [==============================] - 1s 85us/step - loss: 1.3635 - acc: 0.3064\n",
            "Epoch 128/150\n",
            "8000/8000 [==============================] - 1s 83us/step - loss: 1.3635 - acc: 0.3064\n",
            "Epoch 129/150\n",
            "8000/8000 [==============================] - 1s 85us/step - loss: 1.3635 - acc: 0.3064\n",
            "Epoch 130/150\n",
            "8000/8000 [==============================] - 1s 85us/step - loss: 1.3709 - acc: 0.3062\n",
            "Epoch 131/150\n",
            "8000/8000 [==============================] - 1s 84us/step - loss: 1.3635 - acc: 0.3064\n",
            "Epoch 132/150\n",
            "8000/8000 [==============================] - 1s 87us/step - loss: 1.3635 - acc: 0.3064\n",
            "Epoch 133/150\n",
            "8000/8000 [==============================] - 1s 84us/step - loss: 1.3651 - acc: 0.3062\n",
            "Epoch 134/150\n",
            "8000/8000 [==============================] - 1s 85us/step - loss: 1.3635 - acc: 0.3064\n",
            "Epoch 135/150\n",
            "8000/8000 [==============================] - 1s 86us/step - loss: 1.3653 - acc: 0.3064\n",
            "Epoch 136/150\n",
            "8000/8000 [==============================] - 1s 85us/step - loss: 1.3635 - acc: 0.3064\n",
            "Epoch 137/150\n",
            "8000/8000 [==============================] - 1s 84us/step - loss: 1.3653 - acc: 0.3064\n",
            "Epoch 138/150\n",
            "8000/8000 [==============================] - 1s 86us/step - loss: 1.3664 - acc: 0.3064\n",
            "Epoch 139/150\n",
            "8000/8000 [==============================] - 1s 85us/step - loss: 1.3635 - acc: 0.3064\n",
            "Epoch 140/150\n",
            "8000/8000 [==============================] - 1s 83us/step - loss: 1.3635 - acc: 0.3064\n",
            "Epoch 141/150\n",
            "8000/8000 [==============================] - 1s 86us/step - loss: 1.3653 - acc: 0.3062\n",
            "Epoch 142/150\n",
            "8000/8000 [==============================] - 1s 83us/step - loss: 1.3653 - acc: 0.3062\n",
            "Epoch 143/150\n",
            "8000/8000 [==============================] - 1s 84us/step - loss: 1.3653 - acc: 0.3064\n",
            "Epoch 144/150\n",
            "8000/8000 [==============================] - 1s 86us/step - loss: 1.3633 - acc: 0.3065\n",
            "Epoch 145/150\n",
            "8000/8000 [==============================] - 1s 83us/step - loss: 1.3635 - acc: 0.3064\n",
            "Epoch 146/150\n",
            "8000/8000 [==============================] - 1s 84us/step - loss: 1.3652 - acc: 0.3065\n",
            "Epoch 147/150\n",
            "8000/8000 [==============================] - 1s 84us/step - loss: 1.3709 - acc: 0.3061\n",
            "Epoch 148/150\n",
            "8000/8000 [==============================] - 1s 85us/step - loss: 1.3634 - acc: 0.3064\n",
            "Epoch 149/150\n",
            "8000/8000 [==============================] - 1s 83us/step - loss: 1.3635 - acc: 0.3064\n",
            "Epoch 150/150\n",
            "8000/8000 [==============================] - 1s 84us/step - loss: 1.3672 - acc: 0.3064\n",
            "Accuracy is:29.9F1 Score:0.13764588144726714\n",
            "Accuracy is:30.6375F1 Score:0.14370397569610563\n"
          ],
          "name": "stdout"
        }
      ]
    },
    {
      "cell_type": "code",
      "metadata": {
        "id": "r1BJLRXgRKum",
        "colab_type": "code",
        "colab": {}
      },
      "source": [
        ""
      ],
      "execution_count": 0,
      "outputs": []
    },
    {
      "cell_type": "markdown",
      "metadata": {
        "id": "L5L_1sbSjTKi",
        "colab_type": "text"
      },
      "source": [
        "*italicized text*# New Section"
      ]
    },
    {
      "cell_type": "markdown",
      "metadata": {
        "id": "5v2wBO8hjYL-",
        "colab_type": "text"
      },
      "source": [
        "# XGboost parameter tuning"
      ]
    },
    {
      "cell_type": "code",
      "metadata": {
        "id": "6P7Ww1dKOLwt",
        "colab_type": "code",
        "colab": {}
      },
      "source": [
        "from sklearn.model_selection import StratifiedKFold\n",
        "from sklearn.model_selection import validation_curve\n",
        "import matplotlib.pyplot as plt\n",
        "\n",
        "from sklearn.model_selection import GridSearchCV"
      ],
      "execution_count": 0,
      "outputs": []
    },
    {
      "cell_type": "code",
      "metadata": {
        "id": "glw_cjwSm-C0",
        "colab_type": "code",
        "outputId": "5e6fd5ff-8e3a-40ab-d06d-df4e274f0311",
        "colab": {
          "base_uri": "https://localhost:8080/",
          "height": 34
        }
      },
      "source": [
        "cv = StratifiedKFold(n_splits =10, shuffle=True)\n",
        "cv.split(X, y['Severity'])"
      ],
      "execution_count": 0,
      "outputs": [
        {
          "output_type": "execute_result",
          "data": {
            "text/plain": [
              "<generator object _BaseKFold.split at 0x7ff2f7fc4780>"
            ]
          },
          "metadata": {
            "tags": []
          },
          "execution_count": 17
        }
      ]
    },
    {
      "cell_type": "code",
      "metadata": {
        "id": "P9COCVpkm9-U",
        "colab_type": "code",
        "outputId": "a5db34f5-aea5-4f43-d4f8-a0537c9b43c6",
        "colab": {
          "base_uri": "https://localhost:8080/",
          "height": 337
        }
      },
      "source": [
        "learning_rate = 0.3\n",
        "n_estimators_range = np.linspace(1, 200, 10).astype('int')\n",
        "train_scores, test_scores = validation_curve(\n",
        "    XGBClassifier(booster='gbtree',objective='multi:softmax',num_class =4,eval_metric = 'auc', \n",
        "                      learning_rate=learning_rate,\n",
        "                      max_depth=5, min_child_weigth = 3,gamma=0,subsample=0.7, colsample_bytree = 0.9,scale_pos_weight = 1,\n",
        "                      cv=cv,scoring= ['auc', 'accuracy']),X, y['Severity'],\n",
        "    param_name = 'n_estimators',\n",
        "    param_range = n_estimators_range,\n",
        "    cv=cv,\n",
        "    scoring='f1_weighted')"
      ],
      "execution_count": 0,
      "outputs": [
        {
          "output_type": "error",
          "ename": "KeyboardInterrupt",
          "evalue": "ignored",
          "traceback": [
            "\u001b[0;31m---------------------------------------------------------------------------\u001b[0m",
            "\u001b[0;31mKeyboardInterrupt\u001b[0m                         Traceback (most recent call last)",
            "\u001b[0;32m<ipython-input-16-dfa66ac519bc>\u001b[0m in \u001b[0;36m<module>\u001b[0;34m()\u001b[0m\n\u001b[1;32m      9\u001b[0m     \u001b[0mparam_range\u001b[0m \u001b[0;34m=\u001b[0m \u001b[0mn_estimators_range\u001b[0m\u001b[0;34m,\u001b[0m\u001b[0;34m\u001b[0m\u001b[0;34m\u001b[0m\u001b[0m\n\u001b[1;32m     10\u001b[0m     \u001b[0mcv\u001b[0m\u001b[0;34m=\u001b[0m\u001b[0mcv\u001b[0m\u001b[0;34m,\u001b[0m\u001b[0;34m\u001b[0m\u001b[0;34m\u001b[0m\u001b[0m\n\u001b[0;32m---> 11\u001b[0;31m     scoring='f1_weighted')\n\u001b[0m",
            "\u001b[0;32m/usr/local/lib/python3.6/dist-packages/sklearn/model_selection/_validation.py\u001b[0m in \u001b[0;36mvalidation_curve\u001b[0;34m(estimator, X, y, param_name, param_range, groups, cv, scoring, n_jobs, pre_dispatch, verbose, error_score)\u001b[0m\n\u001b[1;32m   1470\u001b[0m         error_score=error_score)\n\u001b[1;32m   1471\u001b[0m         \u001b[0;31m# NOTE do not change order of iteration to allow one time cv splitters\u001b[0m\u001b[0;34m\u001b[0m\u001b[0;34m\u001b[0m\u001b[0;34m\u001b[0m\u001b[0m\n\u001b[0;32m-> 1472\u001b[0;31m         for train, test in cv.split(X, y, groups) for v in param_range)\n\u001b[0m\u001b[1;32m   1473\u001b[0m     \u001b[0mout\u001b[0m \u001b[0;34m=\u001b[0m \u001b[0mnp\u001b[0m\u001b[0;34m.\u001b[0m\u001b[0masarray\u001b[0m\u001b[0;34m(\u001b[0m\u001b[0mout\u001b[0m\u001b[0;34m)\u001b[0m\u001b[0;34m\u001b[0m\u001b[0;34m\u001b[0m\u001b[0m\n\u001b[1;32m   1474\u001b[0m     \u001b[0mn_params\u001b[0m \u001b[0;34m=\u001b[0m \u001b[0mlen\u001b[0m\u001b[0;34m(\u001b[0m\u001b[0mparam_range\u001b[0m\u001b[0;34m)\u001b[0m\u001b[0;34m\u001b[0m\u001b[0;34m\u001b[0m\u001b[0m\n",
            "\u001b[0;32m/usr/local/lib/python3.6/dist-packages/joblib/parallel.py\u001b[0m in \u001b[0;36m__call__\u001b[0;34m(self, iterable)\u001b[0m\n\u001b[1;32m   1005\u001b[0m                 \u001b[0mself\u001b[0m\u001b[0;34m.\u001b[0m\u001b[0m_iterating\u001b[0m \u001b[0;34m=\u001b[0m \u001b[0mself\u001b[0m\u001b[0;34m.\u001b[0m\u001b[0m_original_iterator\u001b[0m \u001b[0;32mis\u001b[0m \u001b[0;32mnot\u001b[0m \u001b[0;32mNone\u001b[0m\u001b[0;34m\u001b[0m\u001b[0;34m\u001b[0m\u001b[0m\n\u001b[1;32m   1006\u001b[0m \u001b[0;34m\u001b[0m\u001b[0m\n\u001b[0;32m-> 1007\u001b[0;31m             \u001b[0;32mwhile\u001b[0m \u001b[0mself\u001b[0m\u001b[0;34m.\u001b[0m\u001b[0mdispatch_one_batch\u001b[0m\u001b[0;34m(\u001b[0m\u001b[0miterator\u001b[0m\u001b[0;34m)\u001b[0m\u001b[0;34m:\u001b[0m\u001b[0;34m\u001b[0m\u001b[0;34m\u001b[0m\u001b[0m\n\u001b[0m\u001b[1;32m   1008\u001b[0m                 \u001b[0;32mpass\u001b[0m\u001b[0;34m\u001b[0m\u001b[0;34m\u001b[0m\u001b[0m\n\u001b[1;32m   1009\u001b[0m \u001b[0;34m\u001b[0m\u001b[0m\n",
            "\u001b[0;32m/usr/local/lib/python3.6/dist-packages/joblib/parallel.py\u001b[0m in \u001b[0;36mdispatch_one_batch\u001b[0;34m(self, iterator)\u001b[0m\n\u001b[1;32m    833\u001b[0m                 \u001b[0;32mreturn\u001b[0m \u001b[0;32mFalse\u001b[0m\u001b[0;34m\u001b[0m\u001b[0;34m\u001b[0m\u001b[0m\n\u001b[1;32m    834\u001b[0m             \u001b[0;32melse\u001b[0m\u001b[0;34m:\u001b[0m\u001b[0;34m\u001b[0m\u001b[0;34m\u001b[0m\u001b[0m\n\u001b[0;32m--> 835\u001b[0;31m                 \u001b[0mself\u001b[0m\u001b[0;34m.\u001b[0m\u001b[0m_dispatch\u001b[0m\u001b[0;34m(\u001b[0m\u001b[0mtasks\u001b[0m\u001b[0;34m)\u001b[0m\u001b[0;34m\u001b[0m\u001b[0;34m\u001b[0m\u001b[0m\n\u001b[0m\u001b[1;32m    836\u001b[0m                 \u001b[0;32mreturn\u001b[0m \u001b[0;32mTrue\u001b[0m\u001b[0;34m\u001b[0m\u001b[0;34m\u001b[0m\u001b[0m\n\u001b[1;32m    837\u001b[0m \u001b[0;34m\u001b[0m\u001b[0m\n",
            "\u001b[0;32m/usr/local/lib/python3.6/dist-packages/joblib/parallel.py\u001b[0m in \u001b[0;36m_dispatch\u001b[0;34m(self, batch)\u001b[0m\n\u001b[1;32m    752\u001b[0m         \u001b[0;32mwith\u001b[0m \u001b[0mself\u001b[0m\u001b[0;34m.\u001b[0m\u001b[0m_lock\u001b[0m\u001b[0;34m:\u001b[0m\u001b[0;34m\u001b[0m\u001b[0;34m\u001b[0m\u001b[0m\n\u001b[1;32m    753\u001b[0m             \u001b[0mjob_idx\u001b[0m \u001b[0;34m=\u001b[0m \u001b[0mlen\u001b[0m\u001b[0;34m(\u001b[0m\u001b[0mself\u001b[0m\u001b[0;34m.\u001b[0m\u001b[0m_jobs\u001b[0m\u001b[0;34m)\u001b[0m\u001b[0;34m\u001b[0m\u001b[0;34m\u001b[0m\u001b[0m\n\u001b[0;32m--> 754\u001b[0;31m             \u001b[0mjob\u001b[0m \u001b[0;34m=\u001b[0m \u001b[0mself\u001b[0m\u001b[0;34m.\u001b[0m\u001b[0m_backend\u001b[0m\u001b[0;34m.\u001b[0m\u001b[0mapply_async\u001b[0m\u001b[0;34m(\u001b[0m\u001b[0mbatch\u001b[0m\u001b[0;34m,\u001b[0m \u001b[0mcallback\u001b[0m\u001b[0;34m=\u001b[0m\u001b[0mcb\u001b[0m\u001b[0;34m)\u001b[0m\u001b[0;34m\u001b[0m\u001b[0;34m\u001b[0m\u001b[0m\n\u001b[0m\u001b[1;32m    755\u001b[0m             \u001b[0;31m# A job can complete so quickly than its callback is\u001b[0m\u001b[0;34m\u001b[0m\u001b[0;34m\u001b[0m\u001b[0;34m\u001b[0m\u001b[0m\n\u001b[1;32m    756\u001b[0m             \u001b[0;31m# called before we get here, causing self._jobs to\u001b[0m\u001b[0;34m\u001b[0m\u001b[0;34m\u001b[0m\u001b[0;34m\u001b[0m\u001b[0m\n",
            "\u001b[0;32m/usr/local/lib/python3.6/dist-packages/joblib/_parallel_backends.py\u001b[0m in \u001b[0;36mapply_async\u001b[0;34m(self, func, callback)\u001b[0m\n\u001b[1;32m    207\u001b[0m     \u001b[0;32mdef\u001b[0m \u001b[0mapply_async\u001b[0m\u001b[0;34m(\u001b[0m\u001b[0mself\u001b[0m\u001b[0;34m,\u001b[0m \u001b[0mfunc\u001b[0m\u001b[0;34m,\u001b[0m \u001b[0mcallback\u001b[0m\u001b[0;34m=\u001b[0m\u001b[0;32mNone\u001b[0m\u001b[0;34m)\u001b[0m\u001b[0;34m:\u001b[0m\u001b[0;34m\u001b[0m\u001b[0;34m\u001b[0m\u001b[0m\n\u001b[1;32m    208\u001b[0m         \u001b[0;34m\"\"\"Schedule a func to be run\"\"\"\u001b[0m\u001b[0;34m\u001b[0m\u001b[0;34m\u001b[0m\u001b[0m\n\u001b[0;32m--> 209\u001b[0;31m         \u001b[0mresult\u001b[0m \u001b[0;34m=\u001b[0m \u001b[0mImmediateResult\u001b[0m\u001b[0;34m(\u001b[0m\u001b[0mfunc\u001b[0m\u001b[0;34m)\u001b[0m\u001b[0;34m\u001b[0m\u001b[0;34m\u001b[0m\u001b[0m\n\u001b[0m\u001b[1;32m    210\u001b[0m         \u001b[0;32mif\u001b[0m \u001b[0mcallback\u001b[0m\u001b[0;34m:\u001b[0m\u001b[0;34m\u001b[0m\u001b[0;34m\u001b[0m\u001b[0m\n\u001b[1;32m    211\u001b[0m             \u001b[0mcallback\u001b[0m\u001b[0;34m(\u001b[0m\u001b[0mresult\u001b[0m\u001b[0;34m)\u001b[0m\u001b[0;34m\u001b[0m\u001b[0;34m\u001b[0m\u001b[0m\n",
            "\u001b[0;32m/usr/local/lib/python3.6/dist-packages/joblib/_parallel_backends.py\u001b[0m in \u001b[0;36m__init__\u001b[0;34m(self, batch)\u001b[0m\n\u001b[1;32m    588\u001b[0m         \u001b[0;31m# Don't delay the application, to avoid keeping the input\u001b[0m\u001b[0;34m\u001b[0m\u001b[0;34m\u001b[0m\u001b[0;34m\u001b[0m\u001b[0m\n\u001b[1;32m    589\u001b[0m         \u001b[0;31m# arguments in memory\u001b[0m\u001b[0;34m\u001b[0m\u001b[0;34m\u001b[0m\u001b[0;34m\u001b[0m\u001b[0m\n\u001b[0;32m--> 590\u001b[0;31m         \u001b[0mself\u001b[0m\u001b[0;34m.\u001b[0m\u001b[0mresults\u001b[0m \u001b[0;34m=\u001b[0m \u001b[0mbatch\u001b[0m\u001b[0;34m(\u001b[0m\u001b[0;34m)\u001b[0m\u001b[0;34m\u001b[0m\u001b[0;34m\u001b[0m\u001b[0m\n\u001b[0m\u001b[1;32m    591\u001b[0m \u001b[0;34m\u001b[0m\u001b[0m\n\u001b[1;32m    592\u001b[0m     \u001b[0;32mdef\u001b[0m \u001b[0mget\u001b[0m\u001b[0;34m(\u001b[0m\u001b[0mself\u001b[0m\u001b[0;34m)\u001b[0m\u001b[0;34m:\u001b[0m\u001b[0;34m\u001b[0m\u001b[0;34m\u001b[0m\u001b[0m\n",
            "\u001b[0;32m/usr/local/lib/python3.6/dist-packages/joblib/parallel.py\u001b[0m in \u001b[0;36m__call__\u001b[0;34m(self)\u001b[0m\n\u001b[1;32m    254\u001b[0m         \u001b[0;32mwith\u001b[0m \u001b[0mparallel_backend\u001b[0m\u001b[0;34m(\u001b[0m\u001b[0mself\u001b[0m\u001b[0;34m.\u001b[0m\u001b[0m_backend\u001b[0m\u001b[0;34m,\u001b[0m \u001b[0mn_jobs\u001b[0m\u001b[0;34m=\u001b[0m\u001b[0mself\u001b[0m\u001b[0;34m.\u001b[0m\u001b[0m_n_jobs\u001b[0m\u001b[0;34m)\u001b[0m\u001b[0;34m:\u001b[0m\u001b[0;34m\u001b[0m\u001b[0;34m\u001b[0m\u001b[0m\n\u001b[1;32m    255\u001b[0m             return [func(*args, **kwargs)\n\u001b[0;32m--> 256\u001b[0;31m                     for func, args, kwargs in self.items]\n\u001b[0m\u001b[1;32m    257\u001b[0m \u001b[0;34m\u001b[0m\u001b[0m\n\u001b[1;32m    258\u001b[0m     \u001b[0;32mdef\u001b[0m \u001b[0m__len__\u001b[0m\u001b[0;34m(\u001b[0m\u001b[0mself\u001b[0m\u001b[0;34m)\u001b[0m\u001b[0;34m:\u001b[0m\u001b[0;34m\u001b[0m\u001b[0;34m\u001b[0m\u001b[0m\n",
            "\u001b[0;32m/usr/local/lib/python3.6/dist-packages/joblib/parallel.py\u001b[0m in \u001b[0;36m<listcomp>\u001b[0;34m(.0)\u001b[0m\n\u001b[1;32m    254\u001b[0m         \u001b[0;32mwith\u001b[0m \u001b[0mparallel_backend\u001b[0m\u001b[0;34m(\u001b[0m\u001b[0mself\u001b[0m\u001b[0;34m.\u001b[0m\u001b[0m_backend\u001b[0m\u001b[0;34m,\u001b[0m \u001b[0mn_jobs\u001b[0m\u001b[0;34m=\u001b[0m\u001b[0mself\u001b[0m\u001b[0;34m.\u001b[0m\u001b[0m_n_jobs\u001b[0m\u001b[0;34m)\u001b[0m\u001b[0;34m:\u001b[0m\u001b[0;34m\u001b[0m\u001b[0;34m\u001b[0m\u001b[0m\n\u001b[1;32m    255\u001b[0m             return [func(*args, **kwargs)\n\u001b[0;32m--> 256\u001b[0;31m                     for func, args, kwargs in self.items]\n\u001b[0m\u001b[1;32m    257\u001b[0m \u001b[0;34m\u001b[0m\u001b[0m\n\u001b[1;32m    258\u001b[0m     \u001b[0;32mdef\u001b[0m \u001b[0m__len__\u001b[0m\u001b[0;34m(\u001b[0m\u001b[0mself\u001b[0m\u001b[0;34m)\u001b[0m\u001b[0;34m:\u001b[0m\u001b[0;34m\u001b[0m\u001b[0;34m\u001b[0m\u001b[0m\n",
            "\u001b[0;32m/usr/local/lib/python3.6/dist-packages/sklearn/model_selection/_validation.py\u001b[0m in \u001b[0;36m_fit_and_score\u001b[0;34m(estimator, X, y, scorer, train, test, verbose, parameters, fit_params, return_train_score, return_parameters, return_n_test_samples, return_times, return_estimator, error_score)\u001b[0m\n\u001b[1;32m    513\u001b[0m             \u001b[0mestimator\u001b[0m\u001b[0;34m.\u001b[0m\u001b[0mfit\u001b[0m\u001b[0;34m(\u001b[0m\u001b[0mX_train\u001b[0m\u001b[0;34m,\u001b[0m \u001b[0;34m**\u001b[0m\u001b[0mfit_params\u001b[0m\u001b[0;34m)\u001b[0m\u001b[0;34m\u001b[0m\u001b[0;34m\u001b[0m\u001b[0m\n\u001b[1;32m    514\u001b[0m         \u001b[0;32melse\u001b[0m\u001b[0;34m:\u001b[0m\u001b[0;34m\u001b[0m\u001b[0;34m\u001b[0m\u001b[0m\n\u001b[0;32m--> 515\u001b[0;31m             \u001b[0mestimator\u001b[0m\u001b[0;34m.\u001b[0m\u001b[0mfit\u001b[0m\u001b[0;34m(\u001b[0m\u001b[0mX_train\u001b[0m\u001b[0;34m,\u001b[0m \u001b[0my_train\u001b[0m\u001b[0;34m,\u001b[0m \u001b[0;34m**\u001b[0m\u001b[0mfit_params\u001b[0m\u001b[0;34m)\u001b[0m\u001b[0;34m\u001b[0m\u001b[0;34m\u001b[0m\u001b[0m\n\u001b[0m\u001b[1;32m    516\u001b[0m \u001b[0;34m\u001b[0m\u001b[0m\n\u001b[1;32m    517\u001b[0m     \u001b[0;32mexcept\u001b[0m \u001b[0mException\u001b[0m \u001b[0;32mas\u001b[0m \u001b[0me\u001b[0m\u001b[0;34m:\u001b[0m\u001b[0;34m\u001b[0m\u001b[0;34m\u001b[0m\u001b[0m\n",
            "\u001b[0;32m/usr/local/lib/python3.6/dist-packages/xgboost/sklearn.py\u001b[0m in \u001b[0;36mfit\u001b[0;34m(self, X, y, sample_weight, eval_set, eval_metric, early_stopping_rounds, verbose, xgb_model, sample_weight_eval_set, callbacks)\u001b[0m\n\u001b[1;32m    730\u001b[0m                               \u001b[0mevals_result\u001b[0m\u001b[0;34m=\u001b[0m\u001b[0mevals_result\u001b[0m\u001b[0;34m,\u001b[0m \u001b[0mobj\u001b[0m\u001b[0;34m=\u001b[0m\u001b[0mobj\u001b[0m\u001b[0;34m,\u001b[0m \u001b[0mfeval\u001b[0m\u001b[0;34m=\u001b[0m\u001b[0mfeval\u001b[0m\u001b[0;34m,\u001b[0m\u001b[0;34m\u001b[0m\u001b[0;34m\u001b[0m\u001b[0m\n\u001b[1;32m    731\u001b[0m                               \u001b[0mverbose_eval\u001b[0m\u001b[0;34m=\u001b[0m\u001b[0mverbose\u001b[0m\u001b[0;34m,\u001b[0m \u001b[0mxgb_model\u001b[0m\u001b[0;34m=\u001b[0m\u001b[0mxgb_model\u001b[0m\u001b[0;34m,\u001b[0m\u001b[0;34m\u001b[0m\u001b[0;34m\u001b[0m\u001b[0m\n\u001b[0;32m--> 732\u001b[0;31m                               callbacks=callbacks)\n\u001b[0m\u001b[1;32m    733\u001b[0m \u001b[0;34m\u001b[0m\u001b[0m\n\u001b[1;32m    734\u001b[0m         \u001b[0mself\u001b[0m\u001b[0;34m.\u001b[0m\u001b[0mobjective\u001b[0m \u001b[0;34m=\u001b[0m \u001b[0mxgb_options\u001b[0m\u001b[0;34m[\u001b[0m\u001b[0;34m\"objective\"\u001b[0m\u001b[0;34m]\u001b[0m\u001b[0;34m\u001b[0m\u001b[0;34m\u001b[0m\u001b[0m\n",
            "\u001b[0;32m/usr/local/lib/python3.6/dist-packages/xgboost/training.py\u001b[0m in \u001b[0;36mtrain\u001b[0;34m(params, dtrain, num_boost_round, evals, obj, feval, maximize, early_stopping_rounds, evals_result, verbose_eval, xgb_model, callbacks, learning_rates)\u001b[0m\n\u001b[1;32m    214\u001b[0m                            \u001b[0mevals\u001b[0m\u001b[0;34m=\u001b[0m\u001b[0mevals\u001b[0m\u001b[0;34m,\u001b[0m\u001b[0;34m\u001b[0m\u001b[0;34m\u001b[0m\u001b[0m\n\u001b[1;32m    215\u001b[0m                            \u001b[0mobj\u001b[0m\u001b[0;34m=\u001b[0m\u001b[0mobj\u001b[0m\u001b[0;34m,\u001b[0m \u001b[0mfeval\u001b[0m\u001b[0;34m=\u001b[0m\u001b[0mfeval\u001b[0m\u001b[0;34m,\u001b[0m\u001b[0;34m\u001b[0m\u001b[0;34m\u001b[0m\u001b[0m\n\u001b[0;32m--> 216\u001b[0;31m                            xgb_model=xgb_model, callbacks=callbacks)\n\u001b[0m\u001b[1;32m    217\u001b[0m \u001b[0;34m\u001b[0m\u001b[0m\n\u001b[1;32m    218\u001b[0m \u001b[0;34m\u001b[0m\u001b[0m\n",
            "\u001b[0;32m/usr/local/lib/python3.6/dist-packages/xgboost/training.py\u001b[0m in \u001b[0;36m_train_internal\u001b[0;34m(params, dtrain, num_boost_round, evals, obj, feval, xgb_model, callbacks)\u001b[0m\n\u001b[1;32m     72\u001b[0m         \u001b[0;31m# Skip the first update if it is a recovery step.\u001b[0m\u001b[0;34m\u001b[0m\u001b[0;34m\u001b[0m\u001b[0;34m\u001b[0m\u001b[0m\n\u001b[1;32m     73\u001b[0m         \u001b[0;32mif\u001b[0m \u001b[0mversion\u001b[0m \u001b[0;34m%\u001b[0m \u001b[0;36m2\u001b[0m \u001b[0;34m==\u001b[0m \u001b[0;36m0\u001b[0m\u001b[0;34m:\u001b[0m\u001b[0;34m\u001b[0m\u001b[0;34m\u001b[0m\u001b[0m\n\u001b[0;32m---> 74\u001b[0;31m             \u001b[0mbst\u001b[0m\u001b[0;34m.\u001b[0m\u001b[0mupdate\u001b[0m\u001b[0;34m(\u001b[0m\u001b[0mdtrain\u001b[0m\u001b[0;34m,\u001b[0m \u001b[0mi\u001b[0m\u001b[0;34m,\u001b[0m \u001b[0mobj\u001b[0m\u001b[0;34m)\u001b[0m\u001b[0;34m\u001b[0m\u001b[0;34m\u001b[0m\u001b[0m\n\u001b[0m\u001b[1;32m     75\u001b[0m             \u001b[0mbst\u001b[0m\u001b[0;34m.\u001b[0m\u001b[0msave_rabit_checkpoint\u001b[0m\u001b[0;34m(\u001b[0m\u001b[0;34m)\u001b[0m\u001b[0;34m\u001b[0m\u001b[0;34m\u001b[0m\u001b[0m\n\u001b[1;32m     76\u001b[0m             \u001b[0mversion\u001b[0m \u001b[0;34m+=\u001b[0m \u001b[0;36m1\u001b[0m\u001b[0;34m\u001b[0m\u001b[0;34m\u001b[0m\u001b[0m\n",
            "\u001b[0;32m/usr/local/lib/python3.6/dist-packages/xgboost/core.py\u001b[0m in \u001b[0;36mupdate\u001b[0;34m(self, dtrain, iteration, fobj)\u001b[0m\n\u001b[1;32m   1107\u001b[0m         \u001b[0;32mif\u001b[0m \u001b[0mfobj\u001b[0m \u001b[0;32mis\u001b[0m \u001b[0;32mNone\u001b[0m\u001b[0;34m:\u001b[0m\u001b[0;34m\u001b[0m\u001b[0;34m\u001b[0m\u001b[0m\n\u001b[1;32m   1108\u001b[0m             _check_call(_LIB.XGBoosterUpdateOneIter(self.handle, ctypes.c_int(iteration),\n\u001b[0;32m-> 1109\u001b[0;31m                                                     dtrain.handle))\n\u001b[0m\u001b[1;32m   1110\u001b[0m         \u001b[0;32melse\u001b[0m\u001b[0;34m:\u001b[0m\u001b[0;34m\u001b[0m\u001b[0;34m\u001b[0m\u001b[0m\n\u001b[1;32m   1111\u001b[0m             \u001b[0mpred\u001b[0m \u001b[0;34m=\u001b[0m \u001b[0mself\u001b[0m\u001b[0;34m.\u001b[0m\u001b[0mpredict\u001b[0m\u001b[0;34m(\u001b[0m\u001b[0mdtrain\u001b[0m\u001b[0;34m)\u001b[0m\u001b[0;34m\u001b[0m\u001b[0;34m\u001b[0m\u001b[0m\n",
            "\u001b[0;31mKeyboardInterrupt\u001b[0m: "
          ]
        }
      ]
    },
    {
      "cell_type": "code",
      "metadata": {
        "id": "n4JrhOsfm90n",
        "colab_type": "code",
        "outputId": "413ec3e5-af26-46d1-e77c-85fd08cb386a",
        "colab": {
          "base_uri": "https://localhost:8080/",
          "height": 572
        }
      },
      "source": [
        "train_scores_mean = np.mean(train_scores, axis=1)\n",
        "train_scores_std = np.std(train_scores, axis=1)\n",
        "test_scores_mean = np.mean(test_scores, axis=1)\n",
        "test_scores_std = np.std(test_scores, axis=1)\n",
        "\n",
        "fig = plt.figure(figsize=(10, 6), dpi=100)\n",
        "\n",
        "plt.title(\"Validation Curve with XGBoost (eta = 0.3)\")\n",
        "plt.xlabel(\"number of trees\")\n",
        "plt.ylabel(\"Accuracy\")\n",
        "plt.ylim(0.7, 1.1)\n",
        "\n",
        "plt.plot(n_estimators_range,\n",
        "             train_scores_mean,\n",
        "             label=\"Training score\",\n",
        "             color=\"r\")\n",
        "\n",
        "plt.plot(n_estimators_range,\n",
        "             test_scores_mean,\n",
        "             label=\"Cross-validation score\",\n",
        "             color=\"g\")\n",
        "\n",
        "plt.fill_between(n_estimators_range,\n",
        "                 train_scores_mean - train_scores_std,\n",
        "                 train_scores_mean + train_scores_std,\n",
        "                 alpha=0.2, color=\"r\")\n",
        "\n",
        "plt.fill_between(n_estimators_range,\n",
        "                 test_scores_mean - test_scores_std,\n",
        "                 test_scores_mean + test_scores_std,\n",
        "                 alpha=0.2, color=\"g\")\n",
        "\n",
        "plt.axhline(y=1, color='k', ls='dashed')\n",
        "\n",
        "plt.legend(loc=\"best\")\n",
        "plt.show()\n",
        "\n",
        "i = np.argmax(test_scores_mean)\n",
        "print(\"Best cross-validation result ({0:.2f}) obtained for {1} trees\".format(test_scores_mean[i], n_estimators_range[i]))\n"
      ],
      "execution_count": 0,
      "outputs": [
        {
          "output_type": "display_data",
          "data": {
            "image/png": "[encoded data removed]",
            "text/plain": [
              "<Figure size 1000x600 with 1 Axes>"
            ]
          },
          "metadata": {
            "tags": []
          }
        },
        {
          "output_type": "stream",
          "text": [
            "Best cross-validation result (0.96) obtained for 133 trees\n"
          ],
          "name": "stdout"
        }
      ]
    },
    {
      "cell_type": "code",
      "metadata": {
        "id": "l9RoTExrWdGQ",
        "colab_type": "code",
        "colab": {}
      },
      "source": [
        "# ooster='gbtree',eval_metric = 'auc', \n",
        "# scale_pos_weight = 1,seed = 27)\n",
        "# 'gamma':0\n",
        "\n",
        "params_grid = {\n",
        "    # 'max_depth': [1,2, 3,4,5,6,7,8,9],\n",
        "    'n_estimators': [i for i in range(100,200,5)]\n",
        "    # 'learning_rate': [0.03,0.1,0.3,0.5,0.6,0.7,0.8,0.9,1,3],\n",
        "    # 'min_child_weigth' : [1,2,3,4,5,6,7,8,9,10],\n",
        "    # 'gamma': [i/10.0 for i in range(0,20)],\n",
        "    # 'subsample' : [0.5,0.7,0.9],\n",
        "    # 'colsample_bytree':[0.5,0.7,0.9] \n",
        "}\n",
        "\n",
        "params_fixed = {\n",
        "    'objective': 'multi:softmax','num_class':4,'verbosity':1, 'eval_metric' : 'auc','subsample':0.8,'colsample_bytree':0.8,\n",
        "    'scale_pos_weight ':1,'learning_rate':0.3 ,'n_threads':-1,'seed':27, 'min_child_weigth':1,'max_depth':8\n",
        "}"
      ],
      "execution_count": 0,
      "outputs": []
    },
    {
      "cell_type": "code",
      "metadata": {
        "id": "KcYw3B7JWdAg",
        "colab_type": "code",
        "colab": {}
      },
      "source": [
        "bst_grid = GridSearchCV(\n",
        "    estimator=XGBClassifier(**params_fixed),\n",
        "    param_grid=params_grid,\n",
        "    cv=cv,n_jobs=-1,\n",
        "    scoring='f1_weighted')\n"
      ],
      "execution_count": 0,
      "outputs": []
    },
    {
      "cell_type": "code",
      "metadata": {
        "id": "z4ib76PuWc8t",
        "colab_type": "code",
        "outputId": "8419a3c5-2149-4bd9-a51a-35b37c9ca40f",
        "colab": {
          "base_uri": "https://localhost:8080/",
          "height": 353
        }
      },
      "source": [
        "bst_grid.fit(X, y['Severity'])\n"
      ],
      "execution_count": 0,
      "outputs": [
        {
          "output_type": "execute_result",
          "data": {
            "text/plain": [
              "GridSearchCV(cv=StratifiedKFold(n_splits=10, random_state=None, shuffle=True),\n",
              "             error_score=nan,\n",
              "             estimator=XGBClassifier(base_score=0.5, booster='gbtree',\n",
              "                                     colsample_bylevel=1, colsample_bynode=1,\n",
              "                                     colsample_bytree=0.8, eval_metric='auc',\n",
              "                                     gamma=0, learning_rate=0.3,\n",
              "                                     max_delta_step=0, max_depth=8,\n",
              "                                     min_child_weight=1, min_child_weigth=1,\n",
              "                                     missing=None, n_estimators=100, n...\n",
              "                                     objective='multi:softmax', random_state=0,\n",
              "                                     reg_alpha=0, reg_lambda=1,\n",
              "                                     scale_pos_weight=1, scale_pos_weight =1,\n",
              "                                     seed=27, silent=None, subsample=0.8,\n",
              "                                     verbosity=1),\n",
              "             iid='deprecated', n_jobs=-1,\n",
              "             param_grid={'n_estimators': [100, 105, 110, 115, 120, 125, 130,\n",
              "                                          135, 140, 145, 150, 155, 160, 165,\n",
              "                                          170, 175, 180, 185, 190, 195]},\n",
              "             pre_dispatch='2*n_jobs', refit=True, return_train_score=False,\n",
              "             scoring='f1_weighted', verbose=0)"
            ]
          },
          "metadata": {
            "tags": []
          },
          "execution_count": 50
        }
      ]
    },
    {
      "cell_type": "code",
      "metadata": {
        "id": "LLNxH0_sW-un",
        "colab_type": "code",
        "outputId": "cf94cfa0-6b05-4ee1-f685-ea17a42c14a8",
        "colab": {
          "base_uri": "https://localhost:8080/",
          "height": 1000
        }
      },
      "source": [
        "bst_grid.cv_results_\n"
      ],
      "execution_count": 0,
      "outputs": [
        {
          "output_type": "execute_result",
          "data": {
            "text/plain": [
              "{'mean_fit_time': array([ 6.89844217,  7.00165546,  7.29469674,  7.71517632,  7.84382987,\n",
              "         8.17906318,  8.51049027,  8.73692036,  8.97675831,  9.33356726,\n",
              "         9.47184043,  9.86301343, 10.00916398, 10.30231795, 10.6024812 ,\n",
              "        10.72654793, 11.06267335, 11.2117141 , 11.55244761, 11.50516152]),\n",
              " 'mean_score_time': array([0.05844581, 0.05744131, 0.0608892 , 0.06744866, 0.06579623,\n",
              "        0.06490154, 0.06885927, 0.07129779, 0.07522225, 0.07754979,\n",
              "        0.08080533, 0.07996318, 0.08342445, 0.08419137, 0.08513427,\n",
              "        0.08570237, 0.08977501, 0.09606476, 0.10136163, 0.09415572]),\n",
              " 'mean_test_score': array([0.96271399, 0.96291094, 0.96271463, 0.96301684, 0.96281421,\n",
              "        0.96281676, 0.96301561, 0.96311311, 0.96291702, 0.96271491,\n",
              "        0.96281296, 0.96281639, 0.96261504, 0.96261559, 0.96281193,\n",
              "        0.96281307, 0.96300962, 0.96301181, 0.96271328, 0.96271254]),\n",
              " 'param_n_estimators': masked_array(data=[100, 105, 110, 115, 120, 125, 130, 135, 140, 145, 150,\n",
              "                    155, 160, 165, 170, 175, 180, 185, 190, 195],\n",
              "              mask=[False, False, False, False, False, False, False, False,\n",
              "                    False, False, False, False, False, False, False, False,\n",
              "                    False, False, False, False],\n",
              "        fill_value='?',\n",
              "             dtype=object),\n",
              " 'params': [{'n_estimators': 100},\n",
              "  {'n_estimators': 105},\n",
              "  {'n_estimators': 110},\n",
              "  {'n_estimators': 115},\n",
              "  {'n_estimators': 120},\n",
              "  {'n_estimators': 125},\n",
              "  {'n_estimators': 130},\n",
              "  {'n_estimators': 135},\n",
              "  {'n_estimators': 140},\n",
              "  {'n_estimators': 145},\n",
              "  {'n_estimators': 150},\n",
              "  {'n_estimators': 155},\n",
              "  {'n_estimators': 160},\n",
              "  {'n_estimators': 165},\n",
              "  {'n_estimators': 170},\n",
              "  {'n_estimators': 175},\n",
              "  {'n_estimators': 180},\n",
              "  {'n_estimators': 185},\n",
              "  {'n_estimators': 190},\n",
              "  {'n_estimators': 195}],\n",
              " 'rank_test_score': array([16,  7, 15,  2, 10,  8,  3,  1,  6, 14, 12,  9, 20, 19, 13, 11,  5,\n",
              "         4, 17, 18], dtype=int32),\n",
              " 'split0_test_score': array([0.96306522, 0.96304256, 0.96304566, 0.96304566, 0.96304566,\n",
              "        0.96304566, 0.96304566, 0.96304566, 0.96206806, 0.96206806,\n",
              "        0.96204873, 0.9610712 , 0.9610712 , 0.9610712 , 0.9610712 ,\n",
              "        0.9610712 , 0.96204873, 0.96204873, 0.9610712 , 0.96204873]),\n",
              " 'split1_test_score': array([0.9710479 , 0.9710479 , 0.97206223, 0.97206223, 0.97206223,\n",
              "        0.97206223, 0.97206223, 0.9710479 , 0.97206223, 0.97206223,\n",
              "        0.97206223, 0.97206223, 0.97206223, 0.97206223, 0.97206223,\n",
              "        0.97206223, 0.97206223, 0.97206223, 0.97206223, 0.97206223]),\n",
              " 'split2_test_score': array([0.9570082 , 0.95600057, 0.95700566, 0.95801215, 0.95800759,\n",
              "        0.95701892, 0.95700588, 0.95901222, 0.95801215, 0.95700566,\n",
              "        0.95600603, 0.95700566, 0.95600603, 0.95600603, 0.9559992 ,\n",
              "        0.95700566, 0.95700566, 0.95700566, 0.95700566, 0.95700566]),\n",
              " 'split3_test_score': array([0.95902357, 0.95901977, 0.95802144, 0.96002412, 0.95902229,\n",
              "        0.95901503, 0.96002412, 0.95902229, 0.96002281, 0.96002412,\n",
              "        0.95902169, 0.96002412, 0.96001528, 0.9610158 , 0.9610158 ,\n",
              "        0.9610158 , 0.9610158 , 0.96001528, 0.95901443, 0.96001528]),\n",
              " 'split4_test_score': array([0.96102658, 0.96302244, 0.96201955, 0.96201955, 0.96402126,\n",
              "        0.96301949, 0.96302244, 0.96402252, 0.96301949, 0.96201541,\n",
              "        0.96102415, 0.96102415, 0.96102415, 0.96202403, 0.96101717,\n",
              "        0.96101717, 0.96101717, 0.96202403, 0.96101717, 0.96101717]),\n",
              " 'split5_test_score': array([0.96196518, 0.96197581, 0.96098499, 0.96198344, 0.96096945,\n",
              "        0.96098499, 0.96200075, 0.96200075, 0.96198159, 0.96098499,\n",
              "        0.96198159, 0.96198159, 0.96198159, 0.96198159, 0.96196617,\n",
              "        0.96196617, 0.96295417, 0.96295417, 0.96295417, 0.96196617]),\n",
              " 'split6_test_score': array([0.9720003 , 0.97299053, 0.97299053, 0.9720003 , 0.9720003 ,\n",
              "        0.9720003 , 0.97299053, 0.97299053, 0.97299053, 0.97299053,\n",
              "        0.97299053, 0.9720003 , 0.9720003 , 0.9720003 , 0.97299053,\n",
              "        0.97299053, 0.97299053, 0.9720003 , 0.9720003 , 0.9709978 ]),\n",
              " 'split7_test_score': array([0.96102163, 0.96101171, 0.96001509, 0.96002562, 0.95902594,\n",
              "        0.96002562, 0.95901356, 0.96000189, 0.95902594, 0.96001072,\n",
              "        0.96101048, 0.96101048, 0.95900452, 0.95900452, 0.95901941,\n",
              "        0.95901941, 0.95901941, 0.95901941, 0.95901941, 0.96001924]),\n",
              " 'split8_test_score': array([0.95597912, 0.95599601, 0.95499649, 0.95499649, 0.95398856,\n",
              "        0.95499649, 0.95399463, 0.95398856, 0.95398856, 0.95398856,\n",
              "        0.9559854 , 0.9559854 , 0.95698626, 0.95599122, 0.95698626,\n",
              "        0.95599122, 0.95599122, 0.95798932, 0.95798932, 0.95699422]),\n",
              " 'split9_test_score': array([0.96500216, 0.96500216, 0.96600461, 0.96599881, 0.96599881,\n",
              "        0.96599881, 0.96699632, 0.96599881, 0.96599881, 0.96599881,\n",
              "        0.96599881, 0.96599881, 0.96599881, 0.96499894, 0.9659913 ,\n",
              "        0.9659913 , 0.9659913 , 0.96499894, 0.96499894, 0.96499894]),\n",
              " 'std_fit_time': array([0.07598608, 0.1044719 , 0.08900426, 0.16140584, 0.08898249,\n",
              "        0.04372452, 0.14499747, 0.15092546, 0.11294216, 0.11727872,\n",
              "        0.11277438, 0.07064356, 0.19402195, 0.15362613, 0.19089889,\n",
              "        0.08059291, 0.11316009, 0.08213582, 0.09062624, 0.49010179]),\n",
              " 'std_score_time': array([0.00294376, 0.00196552, 0.00396197, 0.00441791, 0.00641859,\n",
              "        0.0039496 , 0.00364884, 0.00345884, 0.00449189, 0.00530858,\n",
              "        0.00476791, 0.00229781, 0.00503602, 0.00450785, 0.00616623,\n",
              "        0.00280776, 0.00347649, 0.00949441, 0.00709269, 0.01354394]),\n",
              " 'std_test_score': array([0.00508777, 0.005361  , 0.00573459, 0.00529862, 0.00560973,\n",
              "        0.00548093, 0.00583676, 0.00545353, 0.00568776, 0.00575276,\n",
              "        0.00560651, 0.00527634, 0.00537824, 0.00537863, 0.00551551,\n",
              "        0.00551445, 0.00548231, 0.00504753, 0.00516455, 0.00494933])}"
            ]
          },
          "metadata": {
            "tags": []
          },
          "execution_count": 51
        }
      ]
    },
    {
      "cell_type": "code",
      "metadata": {
        "id": "YRDP-OT4Y5tN",
        "colab_type": "code",
        "outputId": "694abe4a-ae45-48ad-ce61-fa7e54ee5177",
        "colab": {
          "base_uri": "https://localhost:8080/",
          "height": 67
        }
      },
      "source": [
        "print(\"Best accuracy obtained: {0}\".format(bst_grid.best_score_))\n",
        "print(\"Parameters:\")\n",
        "for key, value in bst_grid.best_params_.items():\n",
        "    print(\"\\t{}: {}\".format(key, value))\n",
        "\n",
        "# # Best accuracy obtained: 0.9633916689592361\n",
        "# Parameters:\n",
        "# \tlearning_rate: 0.3\n",
        "# \tn_estimators: 175"
      ],
      "execution_count": 0,
      "outputs": [
        {
          "output_type": "stream",
          "text": [
            "Best accuracy obtained: 0.9631131129352821\n",
            "Parameters:\n",
            "\tn_estimators: 135\n"
          ],
          "name": "stdout"
        }
      ]
    },
    {
      "cell_type": "code",
      "metadata": {
        "id": "lqhahQcg66iO",
        "colab_type": "code",
        "outputId": "3e7adbe0-8f80-43df-ca54-a2b6c86b8207",
        "colab": {
          "base_uri": "https://localhost:8080/",
          "height": 50
        }
      },
      "source": [
        "learning_rate=0.3\n",
        "clf=XGBClassifier(booster='gbtree',objective='multi:softmax',num_class =4,eval_metric = 'auc', \n",
        "                      learning_rate=learning_rate,n_estimators=175,\n",
        "                      max_depth=8, min_child_weigth = 1,gamma=0.3,subsample=0.8, colsample_bytree = 0.8,scale_pos_weight = 1,seed = 27)\n",
        "    \n",
        "model = clf.fit(X, y['Severity'])\n",
        "predicted= model.predict(X_tst)\n",
        "print('Test set'  +  'learning rate: '+ str(learning_rate) +\"    Accuracy: \" + str(metrics.accuracy_score(y_tst, predicted)) + \"     F1 Score:\"+ str(metrics.f1_score(y_tst, predicted,average='weighted')) )\n",
        "predicted= model.predict(X_tr)\n",
        "print('Training set'  +  'learning rate: '+ str(learning_rate) +\"    Accuracy: \" + str(metrics.accuracy_score(y_tr, predicted)) + \"     F1 Score:\"+ str(metrics.f1_score(y_tr, predicted,average='weighted')) )\n"
      ],
      "execution_count": 0,
      "outputs": [
        {
          "output_type": "stream",
          "text": [
            "Test setlearning rate: 0.3    Accuracy: 1.0     F1 Score:1.0\n",
            "Training setlearning rate: 0.3    Accuracy: 1.0     F1 Score:1.0\n"
          ],
          "name": "stdout"
        }
      ]
    },
    {
      "cell_type": "markdown",
      "metadata": {
        "id": "N9AJibA0jZA6",
        "colab_type": "text"
      },
      "source": [
        "# Feature Engineering"
      ]
    },
    {
      "cell_type": "code",
      "metadata": {
        "id": "ys3RwVh0SsdP",
        "colab_type": "code",
        "colab": {}
      },
      "source": [
        "import seaborn as sns\n"
      ],
      "execution_count": 0,
      "outputs": []
    },
    {
      "cell_type": "code",
      "metadata": {
        "id": "FCNKJ2bCcIcu",
        "colab_type": "code",
        "outputId": "ec2eb6e5-c3a5-455a-d0b6-2d2339f90f3b",
        "colab": {
          "base_uri": "https://localhost:8080/",
          "height": 1000
        }
      },
      "source": [
        "corr = dataset.corr(method = 'kendall')\n",
        "fig, ax = plt.subplots(figsize=(10,10))         # Sample figsize in inches\n",
        "sns.heatmap(corr,annot=True)\n",
        "\n",
        "corr = dataset.corr(method = 'pearson')\n",
        "fig, ax = plt.subplots(figsize=(10,10))         # Sample figsize in inches\n",
        "sns.heatmap(corr,annot=True)\n",
        "\n",
        "corr = dataset.corr(method = 'spearman')\n",
        "fig, ax = plt.subplots(figsize=(10,10))         # Sample figsize in inches\n",
        "sns.heatmap(corr,annot=True)\n"
      ],
      "execution_count": 0,
      "outputs": [
        {
          "output_type": "execute_result",
          "data": {
            "text/plain": [
              "<matplotlib.axes._subplots.AxesSubplot at 0x7fb7ad1fec18>"
            ]
          },
          "metadata": {
            "tags": []
          },
          "execution_count": 27
        },
        {
          "output_type": "display_data",
          "data": {
            "image/png": "[encoded data removed]",
            "text/plain": [
              "<Figure size 720x720 with 2 Axes>"
            ]
          },
          "metadata": {
            "tags": []
          }
        },
        {
          "output_type": "display_data",
          "data": {
            "image/png": "[encoded data removed]",
            "text/plain": [
              "<Figure size 720x720 with 2 Axes>"
            ]
          },
          "metadata": {
            "tags": []
          }
        },
        {
          "output_type": "display_data",
          "data": {
            "image/png": "[encoded data removed]",
            "text/plain": [
              "<Figure size 720x720 with 2 Axes>"
            ]
          },
          "metadata": {
            "tags": []
          }
        }
      ]
    },
    {
      "cell_type": "code",
      "metadata": {
        "id": "XvPf8-BWcIFe",
        "colab_type": "code",
        "colab": {}
      },
      "source": [
        ""
      ],
      "execution_count": 0,
      "outputs": []
    },
    {
      "cell_type": "code",
      "metadata": {
        "id": "ThneTZqNcH6V",
        "colab_type": "code",
        "colab": {}
      },
      "source": [
        ""
      ],
      "execution_count": 0,
      "outputs": []
    },
    {
      "cell_type": "code",
      "metadata": {
        "id": "hTC_KOTrSr0o",
        "colab_type": "code",
        "outputId": "4c06d0bb-d674-4660-a02d-3d90945fd326",
        "colab": {
          "base_uri": "https://localhost:8080/",
          "height": 282
        }
      },
      "source": [
        "dataset[['Safety_Score','Days_Since_Inspection','Total_Safety_Complaints','Control_Metric','Turbulence_In_gforces','Cabin_Temperature','Accident_Type_Code','Max_Elevation',\t'Violations',\t'Adverse_Weather_Metric']]\n",
        "sns.boxplot(x=dataset[['Safety_Score']])\n"
      ],
      "execution_count": 0,
      "outputs": [
        {
          "output_type": "execute_result",
          "data": {
            "text/plain": [
              "<matplotlib.axes._subplots.AxesSubplot at 0x7f1b99e94588>"
            ]
          },
          "metadata": {
            "tags": []
          },
          "execution_count": 84
        },
        {
          "output_type": "display_data",
          "data": {
            "image/png": "[encoded data removed]",
            "text/plain": [
              "<Figure size 432x288 with 1 Axes>"
            ]
          },
          "metadata": {
            "tags": []
          }
        }
      ]
    },
    {
      "cell_type": "code",
      "metadata": {
        "id": "sDpKzTZ7SyS5",
        "colab_type": "code",
        "outputId": "74f4aa93-b76d-41da-9cd0-cfd8eb062e42",
        "colab": {
          "base_uri": "https://localhost:8080/",
          "height": 517
        }
      },
      "source": [
        "fig, ax = plt.subplots(figsize=(16,8))\n",
        "ax.scatter(dataset['Violations'], dataset['Severity'])\n",
        "ax.set_xlabel('Violations')\n",
        "ax.set_ylabel('Severity')\n",
        "plt.show()"
      ],
      "execution_count": 0,
      "outputs": [
        {
          "output_type": "display_data",
          "data": {
            "image/png": "[encoded data removed]",
            "text/plain": [
              "<Figure size 1152x576 with 1 Axes>"
            ]
          },
          "metadata": {
            "tags": []
          }
        }
      ]
    },
    {
      "cell_type": "code",
      "metadata": {
        "id": "-04Ml8J6TUSM",
        "colab_type": "code",
        "colab": {}
      },
      "source": [
        "sns.pairplot(dataset, hue = 'Severity', palette = 'hls')"
      ],
      "execution_count": 0,
      "outputs": []
    },
    {
      "cell_type": "code",
      "metadata": {
        "id": "OklpGOpzTOuO",
        "colab_type": "code",
        "outputId": "21d8bd1b-61b1-4cc9-d813-4a86ad2f8ac6",
        "colab": {
          "base_uri": "https://localhost:8080/",
          "height": 297
        }
      },
      "source": [
        "sns.boxplot(data=dataset, x= 'Severity', y = 'Turbulence_In_gforces')"
      ],
      "execution_count": 0,
      "outputs": [
        {
          "output_type": "execute_result",
          "data": {
            "text/plain": [
              "<matplotlib.axes._subplots.AxesSubplot at 0x7f1d448378d0>"
            ]
          },
          "metadata": {
            "tags": []
          },
          "execution_count": 22
        },
        {
          "output_type": "display_data",
          "data": {
            "image/png": "[encoded data removed]",
            "text/plain": [
              "<Figure size 432x288 with 1 Axes>"
            ]
          },
          "metadata": {
            "tags": []
          }
        }
      ]
    },
    {
      "cell_type": "code",
      "metadata": {
        "id": "sNjGV36-TygG",
        "colab_type": "code",
        "outputId": "269b129d-0fac-432e-fd89-11e84e8fe6a5",
        "colab": {
          "base_uri": "https://localhost:8080/",
          "height": 1000
        }
      },
      "source": [
        "feature_names = dataset.columns\n",
        "for i in range(1,len(feature_names)-1):\n",
        "    figure = plt.figure()\n",
        "    ax = sns.boxplot(x='Severity', y=feature_names[i], data=dataset)"
      ],
      "execution_count": 0,
      "outputs": [
        {
          "output_type": "display_data",
          "data": {
            "image/png": "[encoded data removed]",
            "text/plain": [
              "<Figure size 432x288 with 1 Axes>"
            ]
          },
          "metadata": {
            "tags": []
          }
        },
        {
          "output_type": "display_data",
          "data": {
            "image/png": "[encoded data removed]",
            "text/plain": [
              "<Figure size 432x288 with 1 Axes>"
            ]
          },
          "metadata": {
            "tags": []
          }
        },
        {
          "output_type": "display_data",
          "data": {
            "image/png": "[encoded data removed]",
            "text/plain": [
              "<Figure size 432x288 with 1 Axes>"
            ]
          },
          "metadata": {
            "tags": []
          }
        },
        {
          "output_type": "display_data",
          "data": {
            "image/png": "[encoded data removed]",
            "text/plain": [
              "<Figure size 432x288 with 1 Axes>"
            ]
          },
          "metadata": {
            "tags": []
          }
        },
        {
          "output_type": "display_data",
          "data": {
            "image/png": "[encoded data removed]",
            "text/plain": [
              "<Figure size 432x288 with 1 Axes>"
            ]
          },
          "metadata": {
            "tags": []
          }
        },
        {
          "output_type": "display_data",
          "data": {
            "image/png": "[encoded data removed]",
            "text/plain": [
              "<Figure size 432x288 with 1 Axes>"
            ]
          },
          "metadata": {
            "tags": []
          }
        },
        {
          "output_type": "display_data",
          "data": {
            "image/png": "[encoded data removed]",
            "text/plain": [
              "<Figure size 432x288 with 1 Axes>"
            ]
          },
          "metadata": {
            "tags": []
          }
        },
        {
          "output_type": "display_data",
          "data": {
            "image/png": "[encoded data removed]",
            "text/plain": [
              "<Figure size 432x288 with 1 Axes>"
            ]
          },
          "metadata": {
            "tags": []
          }
        },
        {
          "output_type": "display_data",
          "data": {
            "image/png": "[encoded data removed]",
            "text/plain": [
              "<Figure size 432x288 with 1 Axes>"
            ]
          },
          "metadata": {
            "tags": []
          }
        },
        {
          "output_type": "display_data",
          "data": {
            "image/png": "[encoded data removed]",
            "text/plain": [
              "<Figure size 432x288 with 1 Axes>"
            ]
          },
          "metadata": {
            "tags": []
          }
        }
      ]
    },
    {
      "cell_type": "code",
      "metadata": {
        "id": "JTq28-fFNBvA",
        "colab_type": "code",
        "outputId": "0e7b40e0-31ed-42b7-e3f8-577b3bb5f407",
        "colab": {
          "base_uri": "https://localhost:8080/",
          "height": 34
        }
      },
      "source": [
        "dataset.shape"
      ],
      "execution_count": 0,
      "outputs": [
        {
          "output_type": "execute_result",
          "data": {
            "text/plain": [
              "(10000, 12)"
            ]
          },
          "metadata": {
            "tags": []
          },
          "execution_count": 48
        }
      ]
    },
    {
      "cell_type": "markdown",
      "metadata": {
        "id": "twvvncNLQsHh",
        "colab_type": "text"
      },
      "source": [
        ""
      ]
    },
    {
      "cell_type": "markdown",
      "metadata": {
        "id": "E--GQ33xLzCk",
        "colab_type": "text"
      },
      "source": [
        "##Z_score outliers"
      ]
    },
    {
      "cell_type": "code",
      "metadata": {
        "id": "uRhHjt1ADqnE",
        "colab_type": "code",
        "outputId": "cb538d02-927d-4377-b097-f92c447fec5c",
        "colab": {
          "base_uri": "https://localhost:8080/",
          "height": 420
        }
      },
      "source": [
        "from scipy import stats\n",
        "z = np.abs(stats.zscore(X))\n",
        "print(z)\n",
        "threshold = 4\n",
        "print(np.where(z > 4))"
      ],
      "execution_count": 0,
      "outputs": [
        {
          "output_type": "stream",
          "text": [
            "[[0.45530256 0.30198105 2.2140724  ... 0.07064887 0.94987305 0.44270091]\n",
            " [1.2758883  0.82808182 2.93126449 ... 0.6337356  0.01173158 0.25377304]\n",
            " [1.31267317 0.01946533 1.35344189 ... 0.77052775 0.94987305 0.66193896]\n",
            " ...\n",
            " [0.86895304 1.1495282  0.79813439 ... 0.18768898 0.94987305 0.22949275]\n",
            " [0.88823228 1.39311325 0.94157281 ... 0.82898759 0.01173158 0.60154411]\n",
            " [0.50340586 0.01946533 0.51125756 ... 0.63579126 0.01173158 0.62606475]]\n",
            "(array([   8,   58,  106,  183,  345,  450,  548,  572,  635,  680,  786,\n",
            "        851,  886,  893,  905,  969,  999, 1068, 1107, 1163, 1238, 1241,\n",
            "       1311, 1675, 1980, 2068, 2155, 2155, 2162, 2349, 2379, 2496, 2517,\n",
            "       2579, 2617, 2649, 2676, 2800, 3004, 3213, 3249, 3272, 3502, 3701,\n",
            "       3720, 3834, 3934, 3976, 4009, 4242, 4426, 4431, 4505, 4538, 4580,\n",
            "       4612, 4661, 4666, 4766, 4940, 4952, 4966, 5129, 5172, 5346, 5837,\n",
            "       5856, 5910, 5952, 5973, 6106, 6258, 6282, 6340, 6384, 6386, 6429,\n",
            "       6498, 6512, 6542, 6618, 6634, 6681, 6723, 6774, 6781, 6857, 6968,\n",
            "       7003, 7036, 7082, 7126, 7202, 7323, 7325, 7358, 7655, 7819, 7854,\n",
            "       7945, 8047, 8121, 8141, 8164, 8171, 8327, 8332, 8335, 8360, 8394,\n",
            "       8533, 8585, 8671, 8858, 8888, 9011, 9031, 9082, 9183, 9198, 9220,\n",
            "       9499, 9589, 9697, 9745, 9764, 9794]), array([2, 2, 9, 2, 2, 2, 2, 2, 2, 2, 9, 9, 2, 2, 9, 2, 2, 2, 4, 9, 2, 9,\n",
            "       2, 2, 2, 9, 2, 9, 2, 4, 2, 9, 9, 2, 9, 2, 2, 9, 2, 2, 2, 9, 2, 2,\n",
            "       2, 4, 2, 9, 2, 3, 9, 5, 2, 2, 2, 2, 9, 9, 9, 9, 4, 2, 2, 9, 2, 2,\n",
            "       9, 9, 5, 9, 2, 9, 2, 9, 9, 2, 2, 2, 4, 2, 2, 9, 2, 3, 4, 2, 9, 5,\n",
            "       9, 9, 2, 2, 3, 2, 2, 2, 2, 9, 4, 4, 2, 2, 9, 9, 9, 2, 2, 2, 9, 2,\n",
            "       9, 2, 4, 9, 2, 9, 9, 2, 9, 9, 2, 2, 2, 4, 2, 2, 9]))\n"
          ],
          "name": "stdout"
        }
      ]
    },
    {
      "cell_type": "code",
      "metadata": {
        "id": "gY4J1SteLwRE",
        "colab_type": "code",
        "outputId": "8bcde78c-a9f0-43f9-e424-d96e9413162b",
        "colab": {
          "base_uri": "https://localhost:8080/",
          "height": 252
        }
      },
      "source": [
        "dataset_o = dataset[(z < 5).all(axis=1)]\n",
        "dataset_o.shape\n",
        "print(dataset_o.head)"
      ],
      "execution_count": 0,
      "outputs": [
        {
          "output_type": "stream",
          "text": [
            "<bound method NDFrame.head of                                      Severity  ...  Accident_ID\n",
            "0                   Minor_Damage_And_Injuries  ...         7570\n",
            "1                   Minor_Damage_And_Injuries  ...        12128\n",
            "2           Significant_Damage_And_Fatalities  ...         2181\n",
            "3     Significant_Damage_And_Serious_Injuries  ...         5946\n",
            "4           Significant_Damage_And_Fatalities  ...         9054\n",
            "...                                       ...  ...          ...\n",
            "9995  Significant_Damage_And_Serious_Injuries  ...        11493\n",
            "9996                Highly_Fatal_And_Damaging  ...          305\n",
            "9997  Significant_Damage_And_Serious_Injuries  ...          612\n",
            "9998                Minor_Damage_And_Injuries  ...         4963\n",
            "9999                Highly_Fatal_And_Damaging  ...         9387\n",
            "\n",
            "[9968 rows x 12 columns]>\n"
          ],
          "name": "stdout"
        }
      ]
    },
    {
      "cell_type": "code",
      "metadata": {
        "id": "vtZ9chgULwOh",
        "colab_type": "code",
        "colab": {}
      },
      "source": [
        "X_tr_o, X_tst_o, y_tr_o, y_tst_o = train_test_split(dataset_o[['Safety_Score','Days_Since_Inspection','Total_Safety_Complaints','Control_Metric','Turbulence_In_gforces','Cabin_Temperature','Accident_Type_Code','Max_Elevation',\t'Violations',\t'Adverse_Weather_Metric']], dataset_o['Severity'], test_size=0.1)"
      ],
      "execution_count": 0,
      "outputs": []
    },
    {
      "cell_type": "code",
      "metadata": {
        "id": "6MIPOdw5wJy-",
        "colab_type": "code",
        "outputId": "c7fcb023-8be7-482c-a0f8-f19ebe193745",
        "colab": {
          "base_uri": "https://localhost:8080/",
          "height": 84
        }
      },
      "source": [
        "print(y_tr_o.unique())\n",
        "y_tr_o[y_tr_o=='Minor_Damage_And_Injuries'].count()"
      ],
      "execution_count": 0,
      "outputs": [
        {
          "output_type": "stream",
          "text": [
            "['Highly_Fatal_And_Damaging' 'Minor_Damage_And_Injuries'\n",
            " 'Significant_Damage_And_Fatalities'\n",
            " 'Significant_Damage_And_Serious_Injuries']\n"
          ],
          "name": "stdout"
        },
        {
          "output_type": "execute_result",
          "data": {
            "text/plain": [
              "2252"
            ]
          },
          "metadata": {
            "tags": []
          },
          "execution_count": 62
        }
      ]
    },
    {
      "cell_type": "code",
      "metadata": {
        "id": "oqf-uOzENYII",
        "colab_type": "code",
        "outputId": "b7a3db80-0293-4dbd-c2ae-b0fb9b31a047",
        "colab": {
          "base_uri": "https://localhost:8080/",
          "height": 823
        }
      },
      "source": [
        "# test_size = 0.2 0.3 - 0.9565\n",
        "# test_size - 0.1 # learning rate: 0.9    Accuracy: 0.971     F1 Score:0.9709998840168548\n",
        "# test_size - 0.05 learning rate: 0.7    Accuracy: 0.96     F1 Score:0.9598699440788372\n",
        "# test_size - 0.15 learning rate: 0.6    Accuracy: 0.952     F1 Score:0.9519948655531886\n",
        ",\n",
        "for learning_rate in [0.01,0.03,0.05,0.1,0.3,0.33,0.36,0.4,0.43,0.46,0.5,0.55,0.6,0.62,0.65,0.68,0.7,0.8,0.85,0.86,0.9,1,2,3] :\n",
        "# learning_rate = 0.9\n",
        "  clf=XGBClassifier(booster='gbtree',objective='multi:softmax',num_class =4,eval_metric = 'auc', \n",
        "                      learning_rate=learning_rate,n_estimators=50,\n",
        "                      max_depth=5, min_child_weigth = 5,gamma=0,subsample=0.9, colsample_bytree = 0.7,scale_pos_weight = 1,seed = 27)\n",
        "      \n",
        "  model = clf.fit(X_tr_o, y_tr_o)\n",
        "  predicted_o= model.predict(X_tst_o)\n",
        "  print('Test set'  +  'learning rate: '+ str(learning_rate) +\"    Accuracy: \" + str(metrics.accuracy_score(y_tst_o, predicted_o)) + \"     F1 Score:\"+ str(metrics.f1_score(y_tst_o, predicted_o,average='weighted')) )\n",
        "  predicted_o_tr= model.predict(X_tr_o)\n",
        "  print('Training set'  +  'learning rate: '+ str(learning_rate) +\"    Accuracy: \" + str(metrics.accuracy_score(y_tr_o, predicted_o_tr)) + \"     F1 Score:\"+ str(metrics.f1_score(y_tr_o, predicted_o_tr,average='weighted')) )\n"
      ],
      "execution_count": 0,
      "outputs": [
        {
          "output_type": "stream",
          "text": [
            "Test setlearning rate: 0.01    Accuracy: 0.7743229689067201     F1 Score:0.7741647050870838\n",
            "Training setlearning rate: 0.01    Accuracy: 0.8023631702151377     F1 Score:0.8021370871516977\n",
            "Test setlearning rate: 0.03    Accuracy: 0.8034102306920762     F1 Score:0.8036437146537239\n",
            "Training setlearning rate: 0.03    Accuracy: 0.8418236539962101     F1 Score:0.8418219208314367\n",
            "Test setlearning rate: 0.05    Accuracy: 0.8465396188565697     F1 Score:0.8468957256103959\n",
            "Training setlearning rate: 0.05    Accuracy: 0.8795006130866124     F1 Score:0.8798421542780182\n",
            "Test setlearning rate: 0.1    Accuracy: 0.8976930792377131     F1 Score:0.8979550651558043\n",
            "Training setlearning rate: 0.1    Accuracy: 0.9352357596700479     F1 Score:0.935386780176508\n",
            "Test setlearning rate: 0.3    Accuracy: 0.9418254764292878     F1 Score:0.9418350877819195\n",
            "Training setlearning rate: 0.3    Accuracy: 0.9865120945268087     F1 Score:0.9865128496234469\n",
            "Test setlearning rate: 0.33    Accuracy: 0.9468405215646941     F1 Score:0.9468532553726806\n",
            "Training setlearning rate: 0.33    Accuracy: 0.9882956192174785     F1 Score:0.9882935073665272\n",
            "Test setlearning rate: 0.36    Accuracy: 0.9518555667001003     F1 Score:0.9519300200593861\n",
            "Training setlearning rate: 0.36    Accuracy: 0.9910823765466503     F1 Score:0.991080019261437\n",
            "Test setlearning rate: 0.4    Accuracy: 0.9478435305917753     F1 Score:0.9478891139722864\n",
            "Training setlearning rate: 0.4    Accuracy: 0.9926429606509866     F1 Score:0.9926413292820739\n",
            "Test setlearning rate: 0.43    Accuracy: 0.9498495486459378     F1 Score:0.9499277884909576\n",
            "Training setlearning rate: 0.43    Accuracy: 0.9925314903578196     F1 Score:0.9925318524024573\n",
            "Test setlearning rate: 0.46    Accuracy: 0.9518555667001003     F1 Score:0.9519109768879948\n",
            "Training setlearning rate: 0.46    Accuracy: 0.9949838368074908     F1 Score:0.9949840157350412\n",
            "Test setlearning rate: 0.5    Accuracy: 0.9528585757271816     F1 Score:0.9528632957696619\n",
            "Training setlearning rate: 0.5    Accuracy: 0.9960985397391595     F1 Score:0.9960983695551273\n",
            "Test setlearning rate: 0.55    Accuracy: 0.9568706118355065     F1 Score:0.9568880309530398\n",
            "Training setlearning rate: 0.55    Accuracy: 0.997436183257162     F1 Score:0.997435824339237\n",
            "Test setlearning rate: 0.6    Accuracy: 0.950852557673019     F1 Score:0.9508677876173882\n",
            "Training setlearning rate: 0.6    Accuracy: 0.9984394158956638     F1 Score:0.9984393535105109\n",
            "Test setlearning rate: 0.62    Accuracy: 0.958876629889669     F1 Score:0.9589019310212251\n",
            "Training setlearning rate: 0.62    Accuracy: 0.9988852970683313     F1 Score:0.998885273662578\n",
            "Test setlearning rate: 0.65    Accuracy: 0.9498495486459378     F1 Score:0.9498685650440968\n",
            "Training setlearning rate: 0.65    Accuracy: 0.999108237654665     F1 Score:0.9991082253841725\n",
            "Test setlearning rate: 0.68    Accuracy: 0.954864593781344     F1 Score:0.95489012790004\n",
            "Training setlearning rate: 0.68    Accuracy: 0.9995541188273325     F1 Score:0.9995541157840976\n",
            "Test setlearning rate: 0.7    Accuracy: 0.9558676028084253     F1 Score:0.9559319927303558\n",
            "Training setlearning rate: 0.7    Accuracy: 0.9986623564819975     F1 Score:0.9986622910996658\n",
            "Test setlearning rate: 0.8    Accuracy: 0.9628886659979939     F1 Score:0.9628950949105711\n",
            "Training setlearning rate: 0.8    Accuracy: 0.9998885297068332     F1 Score:0.9998885307111148\n",
            "Test setlearning rate: 0.85    Accuracy: 0.954864593781344     F1 Score:0.9548789144697305\n",
            "Training setlearning rate: 0.85    Accuracy: 0.9998885297068332     F1 Score:0.9998885286924214\n",
            "Test setlearning rate: 0.86    Accuracy: 0.954864593781344     F1 Score:0.954893630343936\n",
            "Training setlearning rate: 0.86    Accuracy: 1.0     F1 Score:1.0\n",
            "Test setlearning rate: 0.9    Accuracy: 0.9558676028084253     F1 Score:0.9558917728598497\n",
            "Training setlearning rate: 0.9    Accuracy: 1.0     F1 Score:1.0\n",
            "Test setlearning rate: 1    Accuracy: 0.9528585757271816     F1 Score:0.9528639042659796\n",
            "Training setlearning rate: 1    Accuracy: 1.0     F1 Score:1.0\n",
            "Test setlearning rate: 2    Accuracy: 0.9378134403209629     F1 Score:0.9378122441205418\n",
            "Training setlearning rate: 2    Accuracy: 1.0     F1 Score:1.0\n",
            "Test setlearning rate: 3    Accuracy: 0.3319959879638917     F1 Score:0.2800936809914758\n",
            "Training setlearning rate: 3    Accuracy: 0.3416564485564597     F1 Score:0.2915238846845188\n"
          ],
          "name": "stdout"
        }
      ]
    },
    {
      "cell_type": "code",
      "metadata": {
        "id": "T1siKeF_v-7D",
        "colab_type": "code",
        "colab": {}
      },
      "source": [
        "# z=4\n",
        "# Test setlearning rate: 0.9    Accuracy: 0.9757085020242915     F1 Score:0.9756927602349297\n",
        "# Training setlearning rate: 0.9    Accuracy: 1.0     F1 Score:1.0\n",
        "\n"
      ],
      "execution_count": 0,
      "outputs": []
    },
    {
      "cell_type": "code",
      "metadata": {
        "id": "CEf1-WC1NYDp",
        "colab_type": "code",
        "outputId": "aa33355b-5a05-449c-9edd-03ad2798e201",
        "colab": {
          "base_uri": "https://localhost:8080/",
          "height": 50
        }
      },
      "source": [
        "learning_rate=0.62\n",
        "clf=XGBClassifier(booster='gbtree',objective='multi:softmax',num_class =4,eval_metric = 'auc', \n",
        "                    learning_rate=learning_rate,n_estimators=50,\n",
        "                    max_depth=5, min_child_weigth = 5,gamma=0,subsample=0.9, colsample_bytree = 0.7,scale_pos_weight = 1,seed = 27)\n",
        "    \n",
        "model = clf.fit(X_tr_o, y_tr_o)\n",
        "predicted_o= model.predict(X_tst_o)\n",
        "print('Test set'  +  'learning rate: '+ str(learning_rate) +\"    Accuracy: \" + str(metrics.accuracy_score(y_tst_o, predicted_o)) + \"     F1 Score:\"+ str(metrics.f1_score(y_tst_o, predicted_o,average='weighted')) )\n",
        "predicted_o_tr= model.predict(X_tr_o)\n",
        "print('Training set'  +  'learning rate: '+ str(learning_rate) +\"    Accuracy: \" + str(metrics.accuracy_score(y_tr_o, predicted_o_tr)) + \"     F1 Score:\"+ str(metrics.f1_score(y_tr_o, predicted_o_tr,average='weighted')) )\n"
      ],
      "execution_count": 0,
      "outputs": [
        {
          "output_type": "stream",
          "text": [
            "Test setlearning rate: 0.62    Accuracy: 0.958876629889669     F1 Score:0.9589019310212251\n",
            "Training setlearning rate: 0.62    Accuracy: 0.9988852970683313     F1 Score:0.998885273662578\n"
          ],
          "name": "stdout"
        }
      ]
    },
    {
      "cell_type": "code",
      "metadata": {
        "colab_type": "code",
        "outputId": "0c9400bf-c66b-4cea-acbf-4d76de9be12d",
        "id": "SEgP1V9yRXMx",
        "colab": {
          "base_uri": "https://localhost:8080/",
          "height": 269
        }
      },
      "source": [
        "#To evaluate the model's predictions\n",
        "report = classification_report(y_tst_o, predicted_o)\n",
        "print(report)\n",
        "matrix = confusion_matrix(y_tst_o, predicted_o)\n",
        "print(matrix)"
      ],
      "execution_count": 0,
      "outputs": [
        {
          "output_type": "stream",
          "text": [
            "                                         precision    recall  f1-score   support\n",
            "\n",
            "              Highly_Fatal_And_Damaging       0.94      0.95      0.95       286\n",
            "              Minor_Damage_And_Injuries       0.95      0.97      0.96       262\n",
            "      Significant_Damage_And_Fatalities       0.97      0.96      0.96       179\n",
            "Significant_Damage_And_Serious_Injuries       0.97      0.96      0.97       270\n",
            "\n",
            "                               accuracy                           0.96       997\n",
            "                              macro avg       0.96      0.96      0.96       997\n",
            "                           weighted avg       0.96      0.96      0.96       997\n",
            "\n",
            "[[272   7   4   3]\n",
            " [  5 253   1   3]\n",
            " [  4   3 171   1]\n",
            " [  7   2   1 260]]\n"
          ],
          "name": "stdout"
        }
      ]
    },
    {
      "cell_type": "code",
      "metadata": {
        "colab_type": "code",
        "id": "_E87hwhtRXM5",
        "colab": {}
      },
      "source": [
        "test_dataset = pd.read_csv('./test.csv')"
      ],
      "execution_count": 0,
      "outputs": []
    },
    {
      "cell_type": "code",
      "metadata": {
        "colab_type": "code",
        "outputId": "05daeda8-db12-4aec-9e94-b7dad4cd1cc8",
        "id": "AXCpzJZXRXM7",
        "colab": {
          "base_uri": "https://localhost:8080/",
          "height": 386
        }
      },
      "source": [
        "print(test_dataset.head())\n",
        "test_dataset_X = test_dataset[['Safety_Score','Days_Since_Inspection','Total_Safety_Complaints','Control_Metric','Turbulence_In_gforces','Cabin_Temperature','Accident_Type_Code','Max_Elevation',\t'Violations',\t'Adverse_Weather_Metric']]\n",
        "print((test_dataset_X))"
      ],
      "execution_count": 0,
      "outputs": [
        {
          "output_type": "stream",
          "text": [
            "   Safety_Score  Days_Since_Inspection  ...  Adverse_Weather_Metric  Accident_ID\n",
            "0     19.497717                     16  ...                0.069692            1\n",
            "1     58.173516                     15  ...                0.002777           10\n",
            "2     33.287671                     15  ...                0.004316           14\n",
            "3      3.287671                     21  ...                0.199990           17\n",
            "4     10.867580                     18  ...                0.483696           21\n",
            "\n",
            "[5 rows x 11 columns]\n",
            "      Safety_Score  Days_Since_Inspection  ...  Violations  Adverse_Weather_Metric\n",
            "0        19.497717                     16  ...           2                0.069692\n",
            "1        58.173516                     15  ...           2                0.002777\n",
            "2        33.287671                     15  ...           1                0.004316\n",
            "3         3.287671                     21  ...           2                0.199990\n",
            "4        10.867580                     18  ...           2                0.483696\n",
            "...            ...                    ...  ...         ...                     ...\n",
            "2495     68.127854                      8  ...           2                0.659387\n",
            "2496     54.840183                      9  ...           1                0.005010\n",
            "2497     36.712329                     14  ...           2                0.008629\n",
            "2498     38.721461                     13  ...           1                0.006247\n",
            "2499     36.073059                     11  ...           0                0.024409\n",
            "\n",
            "[2500 rows x 10 columns]\n"
          ],
          "name": "stdout"
        }
      ]
    },
    {
      "cell_type": "code",
      "metadata": {
        "colab_type": "code",
        "outputId": "e902b8c6-2f8f-4bc6-a7bf-54a28b1855ad",
        "id": "ONrawQM5RXM9",
        "colab": {
          "base_uri": "https://localhost:8080/",
          "height": 252
        }
      },
      "source": [
        "test_predict = clf.predict(test_dataset_X)\n",
        "y_submission = pd.concat([test_dataset[['Accident_ID']],pd.DataFrame(test_predict,columns=['Severity'])], axis=1, sort=False)\n",
        "print(y_submission)\n"
      ],
      "execution_count": 0,
      "outputs": [
        {
          "output_type": "stream",
          "text": [
            "      Accident_ID                                 Severity\n",
            "0               1                Highly_Fatal_And_Damaging\n",
            "1              10        Significant_Damage_And_Fatalities\n",
            "2              14  Significant_Damage_And_Serious_Injuries\n",
            "3              17                Highly_Fatal_And_Damaging\n",
            "4              21                Highly_Fatal_And_Damaging\n",
            "...           ...                                      ...\n",
            "2495        12484                Highly_Fatal_And_Damaging\n",
            "2496        12487  Significant_Damage_And_Serious_Injuries\n",
            "2497        12488  Significant_Damage_And_Serious_Injuries\n",
            "2498        12491  Significant_Damage_And_Serious_Injuries\n",
            "2499        12493                Highly_Fatal_And_Damaging\n",
            "\n",
            "[2500 rows x 2 columns]\n"
          ],
          "name": "stdout"
        }
      ]
    },
    {
      "cell_type": "code",
      "metadata": {
        "colab_type": "code",
        "id": "Q-kmPFteRXNA",
        "colab": {}
      },
      "source": [
        "y_submission.to_csv('./y_submission_xg_boost_17_o.csv',index=False)\n",
        "# score_not_normalize - 85.33359\n",
        "# score_normalize - 84.22388\n",
        "pickle.dump(clf, open('./weights_xg_boost_17_o.sav', 'wb'))"
      ],
      "execution_count": 0,
      "outputs": []
    },
    {
      "cell_type": "markdown",
      "metadata": {
        "id": "xSt-ix7uL75P",
        "colab_type": "text"
      },
      "source": [
        "##IQR_score outlier"
      ]
    },
    {
      "cell_type": "code",
      "metadata": {
        "id": "-WOWdN0hJ8wI",
        "colab_type": "code",
        "outputId": "cf0fc195-ad68-4d41-ef07-8f736a1ea3ea",
        "colab": {
          "base_uri": "https://localhost:8080/",
          "height": 218
        }
      },
      "source": [
        "Q1 = dataset.quantile(0.15)\n",
        "Q3 = dataset.quantile(0.85)\n",
        "IQR = Q3 - Q1\n",
        "print(IQR)"
      ],
      "execution_count": 0,
      "outputs": [
        {
          "output_type": "stream",
          "text": [
            "Safety_Score                  33.789954\n",
            "Days_Since_Inspection          8.000000\n",
            "Total_Safety_Complaints       12.000000\n",
            "Control_Metric                24.156791\n",
            "Turbulence_In_gforces          0.243419\n",
            "Cabin_Temperature              5.480000\n",
            "Accident_Type_Code             4.000000\n",
            "Max_Elevation              19554.912728\n",
            "Violations                     2.000000\n",
            "Adverse_Weather_Metric         0.545754\n",
            "Accident_ID                 8757.300000\n",
            "dtype: float64\n"
          ],
          "name": "stdout"
        }
      ]
    },
    {
      "cell_type": "code",
      "metadata": {
        "id": "jnbGvbNgLHeK",
        "colab_type": "code",
        "outputId": "aad0264f-a751-4399-f528-40add073f29f",
        "colab": {
          "base_uri": "https://localhost:8080/",
          "height": 774
        }
      },
      "source": [
        "print(dataset < (Q1 - 1.5 * IQR)) |(dataset > (Q3 + 1.5 * IQR))"
      ],
      "execution_count": 0,
      "outputs": [
        {
          "output_type": "stream",
          "text": [
            "      Accident_ID  Accident_Type_Code  ...  Turbulence_In_gforces  Violations\n",
            "0           False               False  ...                  False       False\n",
            "1           False               False  ...                  False       False\n",
            "2           False               False  ...                  False       False\n",
            "3           False               False  ...                  False       False\n",
            "4           False               False  ...                  False       False\n",
            "...           ...                 ...  ...                    ...         ...\n",
            "9995        False               False  ...                  False       False\n",
            "9996        False               False  ...                  False       False\n",
            "9997        False               False  ...                  False       False\n",
            "9998        False               False  ...                  False       False\n",
            "9999        False               False  ...                  False       False\n",
            "\n",
            "[10000 rows x 12 columns]\n"
          ],
          "name": "stdout"
        },
        {
          "output_type": "error",
          "ename": "TypeError",
          "evalue": "ignored",
          "traceback": [
            "\u001b[0;31m---------------------------------------------------------------------------\u001b[0m",
            "\u001b[0;31mTypeError\u001b[0m                                 Traceback (most recent call last)",
            "\u001b[0;32m/usr/local/lib/python3.6/dist-packages/pandas/core/ops/__init__.py\u001b[0m in \u001b[0;36mna_op\u001b[0;34m(x, y)\u001b[0m\n\u001b[1;32m   1253\u001b[0m         \u001b[0;32mtry\u001b[0m\u001b[0;34m:\u001b[0m\u001b[0;34m\u001b[0m\u001b[0;34m\u001b[0m\u001b[0m\n\u001b[0;32m-> 1254\u001b[0;31m             \u001b[0mresult\u001b[0m \u001b[0;34m=\u001b[0m \u001b[0mop\u001b[0m\u001b[0;34m(\u001b[0m\u001b[0mx\u001b[0m\u001b[0;34m,\u001b[0m \u001b[0my\u001b[0m\u001b[0;34m)\u001b[0m\u001b[0;34m\u001b[0m\u001b[0;34m\u001b[0m\u001b[0m\n\u001b[0m\u001b[1;32m   1255\u001b[0m         \u001b[0;32mexcept\u001b[0m \u001b[0mTypeError\u001b[0m\u001b[0;34m:\u001b[0m\u001b[0;34m\u001b[0m\u001b[0;34m\u001b[0m\u001b[0m\n",
            "\u001b[0;32m/usr/local/lib/python3.6/dist-packages/pandas/core/ops/roperator.py\u001b[0m in \u001b[0;36mror_\u001b[0;34m(left, right)\u001b[0m\n\u001b[1;32m     56\u001b[0m \u001b[0;32mdef\u001b[0m \u001b[0mror_\u001b[0m\u001b[0;34m(\u001b[0m\u001b[0mleft\u001b[0m\u001b[0;34m,\u001b[0m \u001b[0mright\u001b[0m\u001b[0;34m)\u001b[0m\u001b[0;34m:\u001b[0m\u001b[0;34m\u001b[0m\u001b[0;34m\u001b[0m\u001b[0m\n\u001b[0;32m---> 57\u001b[0;31m     \u001b[0;32mreturn\u001b[0m \u001b[0moperator\u001b[0m\u001b[0;34m.\u001b[0m\u001b[0mor_\u001b[0m\u001b[0;34m(\u001b[0m\u001b[0mright\u001b[0m\u001b[0;34m,\u001b[0m \u001b[0mleft\u001b[0m\u001b[0;34m)\u001b[0m\u001b[0;34m\u001b[0m\u001b[0;34m\u001b[0m\u001b[0m\n\u001b[0m\u001b[1;32m     58\u001b[0m \u001b[0;34m\u001b[0m\u001b[0m\n",
            "\u001b[0;31mTypeError\u001b[0m: unsupported operand type(s) for |: 'NoneType' and 'bool'",
            "\nDuring handling of the above exception, another exception occurred:\n",
            "\u001b[0;31mValueError\u001b[0m                                Traceback (most recent call last)",
            "\u001b[0;32m/usr/local/lib/python3.6/dist-packages/pandas/core/ops/__init__.py\u001b[0m in \u001b[0;36mna_op\u001b[0;34m(x, y)\u001b[0m\n\u001b[1;32m   1268\u001b[0m                 \u001b[0;32mtry\u001b[0m\u001b[0;34m:\u001b[0m\u001b[0;34m\u001b[0m\u001b[0;34m\u001b[0m\u001b[0m\n\u001b[0;32m-> 1269\u001b[0;31m                     \u001b[0mresult\u001b[0m \u001b[0;34m=\u001b[0m \u001b[0mlibops\u001b[0m\u001b[0;34m.\u001b[0m\u001b[0mscalar_binop\u001b[0m\u001b[0;34m(\u001b[0m\u001b[0mx\u001b[0m\u001b[0;34m,\u001b[0m \u001b[0my\u001b[0m\u001b[0;34m,\u001b[0m \u001b[0mop\u001b[0m\u001b[0;34m)\u001b[0m\u001b[0;34m\u001b[0m\u001b[0;34m\u001b[0m\u001b[0m\n\u001b[0m\u001b[1;32m   1270\u001b[0m                 except (\n",
            "\u001b[0;32mpandas/_libs/ops.pyx\u001b[0m in \u001b[0;36mpandas._libs.ops.scalar_binop\u001b[0;34m()\u001b[0m\n",
            "\u001b[0;31mValueError\u001b[0m: Does not understand character buffer dtype format string ('?')",
            "\nDuring handling of the above exception, another exception occurred:\n",
            "\u001b[0;31mTypeError\u001b[0m                                 Traceback (most recent call last)",
            "\u001b[0;32m<ipython-input-74-22a33afa164f>\u001b[0m in \u001b[0;36m<module>\u001b[0;34m()\u001b[0m\n\u001b[0;32m----> 1\u001b[0;31m \u001b[0mprint\u001b[0m\u001b[0;34m(\u001b[0m\u001b[0mdataset\u001b[0m \u001b[0;34m<\u001b[0m \u001b[0;34m(\u001b[0m\u001b[0mQ1\u001b[0m \u001b[0;34m-\u001b[0m \u001b[0;36m1.5\u001b[0m \u001b[0;34m*\u001b[0m \u001b[0mIQR\u001b[0m\u001b[0;34m)\u001b[0m\u001b[0;34m)\u001b[0m \u001b[0;34m|\u001b[0m\u001b[0;34m(\u001b[0m\u001b[0mdataset\u001b[0m \u001b[0;34m>\u001b[0m \u001b[0;34m(\u001b[0m\u001b[0mQ3\u001b[0m \u001b[0;34m+\u001b[0m \u001b[0;36m1.5\u001b[0m \u001b[0;34m*\u001b[0m \u001b[0mIQR\u001b[0m\u001b[0;34m)\u001b[0m\u001b[0;34m)\u001b[0m\u001b[0;34m\u001b[0m\u001b[0;34m\u001b[0m\u001b[0m\n\u001b[0m",
            "\u001b[0;32m/usr/local/lib/python3.6/dist-packages/pandas/core/ops/__init__.py\u001b[0m in \u001b[0;36mf\u001b[0;34m(self, other, axis, level, fill_value)\u001b[0m\n\u001b[1;32m   1504\u001b[0m \u001b[0;34m\u001b[0m\u001b[0m\n\u001b[1;32m   1505\u001b[0m             \u001b[0;32massert\u001b[0m \u001b[0mnp\u001b[0m\u001b[0;34m.\u001b[0m\u001b[0mndim\u001b[0m\u001b[0;34m(\u001b[0m\u001b[0mother\u001b[0m\u001b[0;34m)\u001b[0m \u001b[0;34m==\u001b[0m \u001b[0;36m0\u001b[0m\u001b[0;34m\u001b[0m\u001b[0;34m\u001b[0m\u001b[0m\n\u001b[0;32m-> 1506\u001b[0;31m             \u001b[0;32mreturn\u001b[0m \u001b[0mself\u001b[0m\u001b[0;34m.\u001b[0m\u001b[0m_combine_const\u001b[0m\u001b[0;34m(\u001b[0m\u001b[0mother\u001b[0m\u001b[0;34m,\u001b[0m \u001b[0mop\u001b[0m\u001b[0;34m)\u001b[0m\u001b[0;34m\u001b[0m\u001b[0;34m\u001b[0m\u001b[0m\n\u001b[0m\u001b[1;32m   1507\u001b[0m \u001b[0;34m\u001b[0m\u001b[0m\n\u001b[1;32m   1508\u001b[0m     \u001b[0mf\u001b[0m\u001b[0;34m.\u001b[0m\u001b[0m__name__\u001b[0m \u001b[0;34m=\u001b[0m \u001b[0mop_name\u001b[0m\u001b[0;34m\u001b[0m\u001b[0;34m\u001b[0m\u001b[0m\n",
            "\u001b[0;32m/usr/local/lib/python3.6/dist-packages/pandas/core/frame.py\u001b[0m in \u001b[0;36m_combine_const\u001b[0;34m(self, other, func)\u001b[0m\n\u001b[1;32m   5416\u001b[0m     \u001b[0;32mdef\u001b[0m \u001b[0m_combine_const\u001b[0m\u001b[0;34m(\u001b[0m\u001b[0mself\u001b[0m\u001b[0;34m,\u001b[0m \u001b[0mother\u001b[0m\u001b[0;34m,\u001b[0m \u001b[0mfunc\u001b[0m\u001b[0;34m)\u001b[0m\u001b[0;34m:\u001b[0m\u001b[0;34m\u001b[0m\u001b[0;34m\u001b[0m\u001b[0m\n\u001b[1;32m   5417\u001b[0m         \u001b[0;32massert\u001b[0m \u001b[0mlib\u001b[0m\u001b[0;34m.\u001b[0m\u001b[0mis_scalar\u001b[0m\u001b[0;34m(\u001b[0m\u001b[0mother\u001b[0m\u001b[0;34m)\u001b[0m \u001b[0;32mor\u001b[0m \u001b[0mnp\u001b[0m\u001b[0;34m.\u001b[0m\u001b[0mndim\u001b[0m\u001b[0;34m(\u001b[0m\u001b[0mother\u001b[0m\u001b[0;34m)\u001b[0m \u001b[0;34m==\u001b[0m \u001b[0;36m0\u001b[0m\u001b[0;34m\u001b[0m\u001b[0;34m\u001b[0m\u001b[0m\n\u001b[0;32m-> 5418\u001b[0;31m         \u001b[0;32mreturn\u001b[0m \u001b[0mops\u001b[0m\u001b[0;34m.\u001b[0m\u001b[0mdispatch_to_series\u001b[0m\u001b[0;34m(\u001b[0m\u001b[0mself\u001b[0m\u001b[0;34m,\u001b[0m \u001b[0mother\u001b[0m\u001b[0;34m,\u001b[0m \u001b[0mfunc\u001b[0m\u001b[0;34m)\u001b[0m\u001b[0;34m\u001b[0m\u001b[0;34m\u001b[0m\u001b[0m\n\u001b[0m\u001b[1;32m   5419\u001b[0m \u001b[0;34m\u001b[0m\u001b[0m\n\u001b[1;32m   5420\u001b[0m     \u001b[0;32mdef\u001b[0m \u001b[0mcombine\u001b[0m\u001b[0;34m(\u001b[0m\u001b[0mself\u001b[0m\u001b[0;34m,\u001b[0m \u001b[0mother\u001b[0m\u001b[0;34m,\u001b[0m \u001b[0mfunc\u001b[0m\u001b[0;34m,\u001b[0m \u001b[0mfill_value\u001b[0m\u001b[0;34m=\u001b[0m\u001b[0;32mNone\u001b[0m\u001b[0;34m,\u001b[0m \u001b[0moverwrite\u001b[0m\u001b[0;34m=\u001b[0m\u001b[0;32mTrue\u001b[0m\u001b[0;34m)\u001b[0m\u001b[0;34m:\u001b[0m\u001b[0;34m\u001b[0m\u001b[0;34m\u001b[0m\u001b[0m\n",
            "\u001b[0;32m/usr/local/lib/python3.6/dist-packages/pandas/core/ops/__init__.py\u001b[0m in \u001b[0;36mdispatch_to_series\u001b[0;34m(left, right, func, str_rep, axis)\u001b[0m\n\u001b[1;32m    594\u001b[0m         \u001b[0;32mraise\u001b[0m \u001b[0mNotImplementedError\u001b[0m\u001b[0;34m(\u001b[0m\u001b[0mright\u001b[0m\u001b[0;34m)\u001b[0m\u001b[0;34m\u001b[0m\u001b[0;34m\u001b[0m\u001b[0m\n\u001b[1;32m    595\u001b[0m \u001b[0;34m\u001b[0m\u001b[0m\n\u001b[0;32m--> 596\u001b[0;31m     \u001b[0mnew_data\u001b[0m \u001b[0;34m=\u001b[0m \u001b[0mexpressions\u001b[0m\u001b[0;34m.\u001b[0m\u001b[0mevaluate\u001b[0m\u001b[0;34m(\u001b[0m\u001b[0mcolumn_op\u001b[0m\u001b[0;34m,\u001b[0m \u001b[0mstr_rep\u001b[0m\u001b[0;34m,\u001b[0m \u001b[0mleft\u001b[0m\u001b[0;34m,\u001b[0m \u001b[0mright\u001b[0m\u001b[0;34m)\u001b[0m\u001b[0;34m\u001b[0m\u001b[0;34m\u001b[0m\u001b[0m\n\u001b[0m\u001b[1;32m    597\u001b[0m \u001b[0;34m\u001b[0m\u001b[0m\n\u001b[1;32m    598\u001b[0m     \u001b[0mresult\u001b[0m \u001b[0;34m=\u001b[0m \u001b[0mleft\u001b[0m\u001b[0;34m.\u001b[0m\u001b[0m_constructor\u001b[0m\u001b[0;34m(\u001b[0m\u001b[0mnew_data\u001b[0m\u001b[0;34m,\u001b[0m \u001b[0mindex\u001b[0m\u001b[0;34m=\u001b[0m\u001b[0mleft\u001b[0m\u001b[0;34m.\u001b[0m\u001b[0mindex\u001b[0m\u001b[0;34m,\u001b[0m \u001b[0mcopy\u001b[0m\u001b[0;34m=\u001b[0m\u001b[0;32mFalse\u001b[0m\u001b[0;34m)\u001b[0m\u001b[0;34m\u001b[0m\u001b[0;34m\u001b[0m\u001b[0m\n",
            "\u001b[0;32m/usr/local/lib/python3.6/dist-packages/pandas/core/computation/expressions.py\u001b[0m in \u001b[0;36mevaluate\u001b[0;34m(op, op_str, a, b, use_numexpr, **eval_kwargs)\u001b[0m\n\u001b[1;32m    219\u001b[0m     \u001b[0muse_numexpr\u001b[0m \u001b[0;34m=\u001b[0m \u001b[0muse_numexpr\u001b[0m \u001b[0;32mand\u001b[0m \u001b[0m_bool_arith_check\u001b[0m\u001b[0;34m(\u001b[0m\u001b[0mop_str\u001b[0m\u001b[0;34m,\u001b[0m \u001b[0ma\u001b[0m\u001b[0;34m,\u001b[0m \u001b[0mb\u001b[0m\u001b[0;34m)\u001b[0m\u001b[0;34m\u001b[0m\u001b[0;34m\u001b[0m\u001b[0m\n\u001b[1;32m    220\u001b[0m     \u001b[0;32mif\u001b[0m \u001b[0muse_numexpr\u001b[0m\u001b[0;34m:\u001b[0m\u001b[0;34m\u001b[0m\u001b[0;34m\u001b[0m\u001b[0m\n\u001b[0;32m--> 221\u001b[0;31m         \u001b[0;32mreturn\u001b[0m \u001b[0m_evaluate\u001b[0m\u001b[0;34m(\u001b[0m\u001b[0mop\u001b[0m\u001b[0;34m,\u001b[0m \u001b[0mop_str\u001b[0m\u001b[0;34m,\u001b[0m \u001b[0ma\u001b[0m\u001b[0;34m,\u001b[0m \u001b[0mb\u001b[0m\u001b[0;34m,\u001b[0m \u001b[0;34m**\u001b[0m\u001b[0meval_kwargs\u001b[0m\u001b[0;34m)\u001b[0m\u001b[0;34m\u001b[0m\u001b[0;34m\u001b[0m\u001b[0m\n\u001b[0m\u001b[1;32m    222\u001b[0m     \u001b[0;32mreturn\u001b[0m \u001b[0m_evaluate_standard\u001b[0m\u001b[0;34m(\u001b[0m\u001b[0mop\u001b[0m\u001b[0;34m,\u001b[0m \u001b[0mop_str\u001b[0m\u001b[0;34m,\u001b[0m \u001b[0ma\u001b[0m\u001b[0;34m,\u001b[0m \u001b[0mb\u001b[0m\u001b[0;34m)\u001b[0m\u001b[0;34m\u001b[0m\u001b[0;34m\u001b[0m\u001b[0m\n\u001b[1;32m    223\u001b[0m \u001b[0;34m\u001b[0m\u001b[0m\n",
            "\u001b[0;32m/usr/local/lib/python3.6/dist-packages/pandas/core/computation/expressions.py\u001b[0m in \u001b[0;36m_evaluate_numexpr\u001b[0;34m(op, op_str, a, b, truediv, reversed, **eval_kwargs)\u001b[0m\n\u001b[1;32m    125\u001b[0m \u001b[0;34m\u001b[0m\u001b[0m\n\u001b[1;32m    126\u001b[0m     \u001b[0;32mif\u001b[0m \u001b[0mresult\u001b[0m \u001b[0;32mis\u001b[0m \u001b[0;32mNone\u001b[0m\u001b[0;34m:\u001b[0m\u001b[0;34m\u001b[0m\u001b[0;34m\u001b[0m\u001b[0m\n\u001b[0;32m--> 127\u001b[0;31m         \u001b[0mresult\u001b[0m \u001b[0;34m=\u001b[0m \u001b[0m_evaluate_standard\u001b[0m\u001b[0;34m(\u001b[0m\u001b[0mop\u001b[0m\u001b[0;34m,\u001b[0m \u001b[0mop_str\u001b[0m\u001b[0;34m,\u001b[0m \u001b[0ma\u001b[0m\u001b[0;34m,\u001b[0m \u001b[0mb\u001b[0m\u001b[0;34m)\u001b[0m\u001b[0;34m\u001b[0m\u001b[0;34m\u001b[0m\u001b[0m\n\u001b[0m\u001b[1;32m    128\u001b[0m \u001b[0;34m\u001b[0m\u001b[0m\n\u001b[1;32m    129\u001b[0m     \u001b[0;32mreturn\u001b[0m \u001b[0mresult\u001b[0m\u001b[0;34m\u001b[0m\u001b[0;34m\u001b[0m\u001b[0m\n",
            "\u001b[0;32m/usr/local/lib/python3.6/dist-packages/pandas/core/computation/expressions.py\u001b[0m in \u001b[0;36m_evaluate_standard\u001b[0;34m(op, op_str, a, b, **eval_kwargs)\u001b[0m\n\u001b[1;32m     68\u001b[0m         \u001b[0m_store_test_result\u001b[0m\u001b[0;34m(\u001b[0m\u001b[0;32mFalse\u001b[0m\u001b[0;34m)\u001b[0m\u001b[0;34m\u001b[0m\u001b[0;34m\u001b[0m\u001b[0m\n\u001b[1;32m     69\u001b[0m     \u001b[0;32mwith\u001b[0m \u001b[0mnp\u001b[0m\u001b[0;34m.\u001b[0m\u001b[0merrstate\u001b[0m\u001b[0;34m(\u001b[0m\u001b[0mall\u001b[0m\u001b[0;34m=\u001b[0m\u001b[0;34m\"ignore\"\u001b[0m\u001b[0;34m)\u001b[0m\u001b[0;34m:\u001b[0m\u001b[0;34m\u001b[0m\u001b[0;34m\u001b[0m\u001b[0m\n\u001b[0;32m---> 70\u001b[0;31m         \u001b[0;32mreturn\u001b[0m \u001b[0mop\u001b[0m\u001b[0;34m(\u001b[0m\u001b[0ma\u001b[0m\u001b[0;34m,\u001b[0m \u001b[0mb\u001b[0m\u001b[0;34m)\u001b[0m\u001b[0;34m\u001b[0m\u001b[0;34m\u001b[0m\u001b[0m\n\u001b[0m\u001b[1;32m     71\u001b[0m \u001b[0;34m\u001b[0m\u001b[0m\n\u001b[1;32m     72\u001b[0m \u001b[0;34m\u001b[0m\u001b[0m\n",
            "\u001b[0;32m/usr/local/lib/python3.6/dist-packages/pandas/core/ops/__init__.py\u001b[0m in \u001b[0;36mcolumn_op\u001b[0;34m(a, b)\u001b[0m\n\u001b[1;32m    568\u001b[0m \u001b[0;34m\u001b[0m\u001b[0m\n\u001b[1;32m    569\u001b[0m         \u001b[0;32mdef\u001b[0m \u001b[0mcolumn_op\u001b[0m\u001b[0;34m(\u001b[0m\u001b[0ma\u001b[0m\u001b[0;34m,\u001b[0m \u001b[0mb\u001b[0m\u001b[0;34m)\u001b[0m\u001b[0;34m:\u001b[0m\u001b[0;34m\u001b[0m\u001b[0;34m\u001b[0m\u001b[0m\n\u001b[0;32m--> 570\u001b[0;31m             \u001b[0;32mreturn\u001b[0m \u001b[0;34m{\u001b[0m\u001b[0mi\u001b[0m\u001b[0;34m:\u001b[0m \u001b[0mfunc\u001b[0m\u001b[0;34m(\u001b[0m\u001b[0ma\u001b[0m\u001b[0;34m.\u001b[0m\u001b[0miloc\u001b[0m\u001b[0;34m[\u001b[0m\u001b[0;34m:\u001b[0m\u001b[0;34m,\u001b[0m \u001b[0mi\u001b[0m\u001b[0;34m]\u001b[0m\u001b[0;34m,\u001b[0m \u001b[0mb\u001b[0m\u001b[0;34m)\u001b[0m \u001b[0;32mfor\u001b[0m \u001b[0mi\u001b[0m \u001b[0;32min\u001b[0m \u001b[0mrange\u001b[0m\u001b[0;34m(\u001b[0m\u001b[0mlen\u001b[0m\u001b[0;34m(\u001b[0m\u001b[0ma\u001b[0m\u001b[0;34m.\u001b[0m\u001b[0mcolumns\u001b[0m\u001b[0;34m)\u001b[0m\u001b[0;34m)\u001b[0m\u001b[0;34m}\u001b[0m\u001b[0;34m\u001b[0m\u001b[0;34m\u001b[0m\u001b[0m\n\u001b[0m\u001b[1;32m    571\u001b[0m \u001b[0;34m\u001b[0m\u001b[0m\n\u001b[1;32m    572\u001b[0m     \u001b[0;32melif\u001b[0m \u001b[0misinstance\u001b[0m\u001b[0;34m(\u001b[0m\u001b[0mright\u001b[0m\u001b[0;34m,\u001b[0m \u001b[0mABCDataFrame\u001b[0m\u001b[0;34m)\u001b[0m\u001b[0;34m:\u001b[0m\u001b[0;34m\u001b[0m\u001b[0;34m\u001b[0m\u001b[0m\n",
            "\u001b[0;32m/usr/local/lib/python3.6/dist-packages/pandas/core/ops/__init__.py\u001b[0m in \u001b[0;36m<dictcomp>\u001b[0;34m(.0)\u001b[0m\n\u001b[1;32m    568\u001b[0m \u001b[0;34m\u001b[0m\u001b[0m\n\u001b[1;32m    569\u001b[0m         \u001b[0;32mdef\u001b[0m \u001b[0mcolumn_op\u001b[0m\u001b[0;34m(\u001b[0m\u001b[0ma\u001b[0m\u001b[0;34m,\u001b[0m \u001b[0mb\u001b[0m\u001b[0;34m)\u001b[0m\u001b[0;34m:\u001b[0m\u001b[0;34m\u001b[0m\u001b[0;34m\u001b[0m\u001b[0m\n\u001b[0;32m--> 570\u001b[0;31m             \u001b[0;32mreturn\u001b[0m \u001b[0;34m{\u001b[0m\u001b[0mi\u001b[0m\u001b[0;34m:\u001b[0m \u001b[0mfunc\u001b[0m\u001b[0;34m(\u001b[0m\u001b[0ma\u001b[0m\u001b[0;34m.\u001b[0m\u001b[0miloc\u001b[0m\u001b[0;34m[\u001b[0m\u001b[0;34m:\u001b[0m\u001b[0;34m,\u001b[0m \u001b[0mi\u001b[0m\u001b[0;34m]\u001b[0m\u001b[0;34m,\u001b[0m \u001b[0mb\u001b[0m\u001b[0;34m)\u001b[0m \u001b[0;32mfor\u001b[0m \u001b[0mi\u001b[0m \u001b[0;32min\u001b[0m \u001b[0mrange\u001b[0m\u001b[0;34m(\u001b[0m\u001b[0mlen\u001b[0m\u001b[0;34m(\u001b[0m\u001b[0ma\u001b[0m\u001b[0;34m.\u001b[0m\u001b[0mcolumns\u001b[0m\u001b[0;34m)\u001b[0m\u001b[0;34m)\u001b[0m\u001b[0;34m}\u001b[0m\u001b[0;34m\u001b[0m\u001b[0;34m\u001b[0m\u001b[0m\n\u001b[0m\u001b[1;32m    571\u001b[0m \u001b[0;34m\u001b[0m\u001b[0m\n\u001b[1;32m    572\u001b[0m     \u001b[0;32melif\u001b[0m \u001b[0misinstance\u001b[0m\u001b[0;34m(\u001b[0m\u001b[0mright\u001b[0m\u001b[0;34m,\u001b[0m \u001b[0mABCDataFrame\u001b[0m\u001b[0;34m)\u001b[0m\u001b[0;34m:\u001b[0m\u001b[0;34m\u001b[0m\u001b[0;34m\u001b[0m\u001b[0m\n",
            "\u001b[0;32m/usr/local/lib/python3.6/dist-packages/pandas/core/ops/roperator.py\u001b[0m in \u001b[0;36mror_\u001b[0;34m(left, right)\u001b[0m\n\u001b[1;32m     55\u001b[0m \u001b[0;34m\u001b[0m\u001b[0m\n\u001b[1;32m     56\u001b[0m \u001b[0;32mdef\u001b[0m \u001b[0mror_\u001b[0m\u001b[0;34m(\u001b[0m\u001b[0mleft\u001b[0m\u001b[0;34m,\u001b[0m \u001b[0mright\u001b[0m\u001b[0;34m)\u001b[0m\u001b[0;34m:\u001b[0m\u001b[0;34m\u001b[0m\u001b[0;34m\u001b[0m\u001b[0m\n\u001b[0;32m---> 57\u001b[0;31m     \u001b[0;32mreturn\u001b[0m \u001b[0moperator\u001b[0m\u001b[0;34m.\u001b[0m\u001b[0mor_\u001b[0m\u001b[0;34m(\u001b[0m\u001b[0mright\u001b[0m\u001b[0;34m,\u001b[0m \u001b[0mleft\u001b[0m\u001b[0;34m)\u001b[0m\u001b[0;34m\u001b[0m\u001b[0;34m\u001b[0m\u001b[0m\n\u001b[0m\u001b[1;32m     58\u001b[0m \u001b[0;34m\u001b[0m\u001b[0m\n\u001b[1;32m     59\u001b[0m \u001b[0;34m\u001b[0m\u001b[0m\n",
            "\u001b[0;32m/usr/local/lib/python3.6/dist-packages/pandas/core/ops/__init__.py\u001b[0m in \u001b[0;36mwrapper\u001b[0;34m(self, other)\u001b[0m\n\u001b[1;32m   1319\u001b[0m         \u001b[0;31m#   integer dtypes.  Otherwise these are boolean ops\u001b[0m\u001b[0;34m\u001b[0m\u001b[0;34m\u001b[0m\u001b[0;34m\u001b[0m\u001b[0m\n\u001b[1;32m   1320\u001b[0m         \u001b[0mfiller\u001b[0m \u001b[0;34m=\u001b[0m \u001b[0mfill_int\u001b[0m \u001b[0;32mif\u001b[0m \u001b[0mis_self_int_dtype\u001b[0m \u001b[0;32mand\u001b[0m \u001b[0mis_other_int_dtype\u001b[0m \u001b[0;32melse\u001b[0m \u001b[0mfill_bool\u001b[0m\u001b[0;34m\u001b[0m\u001b[0;34m\u001b[0m\u001b[0m\n\u001b[0;32m-> 1321\u001b[0;31m         \u001b[0mres_values\u001b[0m \u001b[0;34m=\u001b[0m \u001b[0mna_op\u001b[0m\u001b[0;34m(\u001b[0m\u001b[0mself\u001b[0m\u001b[0;34m.\u001b[0m\u001b[0mvalues\u001b[0m\u001b[0;34m,\u001b[0m \u001b[0movalues\u001b[0m\u001b[0;34m)\u001b[0m\u001b[0;34m\u001b[0m\u001b[0;34m\u001b[0m\u001b[0m\n\u001b[0m\u001b[1;32m   1322\u001b[0m         \u001b[0munfilled\u001b[0m \u001b[0;34m=\u001b[0m \u001b[0mself\u001b[0m\u001b[0;34m.\u001b[0m\u001b[0m_constructor\u001b[0m\u001b[0;34m(\u001b[0m\u001b[0mres_values\u001b[0m\u001b[0;34m,\u001b[0m \u001b[0mindex\u001b[0m\u001b[0;34m=\u001b[0m\u001b[0mself\u001b[0m\u001b[0;34m.\u001b[0m\u001b[0mindex\u001b[0m\u001b[0;34m,\u001b[0m \u001b[0mname\u001b[0m\u001b[0;34m=\u001b[0m\u001b[0mres_name\u001b[0m\u001b[0;34m)\u001b[0m\u001b[0;34m\u001b[0m\u001b[0;34m\u001b[0m\u001b[0m\n\u001b[1;32m   1323\u001b[0m         \u001b[0mfilled\u001b[0m \u001b[0;34m=\u001b[0m \u001b[0mfiller\u001b[0m\u001b[0;34m(\u001b[0m\u001b[0munfilled\u001b[0m\u001b[0;34m)\u001b[0m\u001b[0;34m\u001b[0m\u001b[0;34m\u001b[0m\u001b[0m\n",
            "\u001b[0;32m/usr/local/lib/python3.6/dist-packages/pandas/core/ops/__init__.py\u001b[0m in \u001b[0;36mna_op\u001b[0;34m(x, y)\u001b[0m\n\u001b[1;32m   1278\u001b[0m                         \u001b[0;34m\"cannot compare a dtyped [{dtype}] array \"\u001b[0m\u001b[0;34m\u001b[0m\u001b[0;34m\u001b[0m\u001b[0m\n\u001b[1;32m   1279\u001b[0m                         \"with a scalar of type [{typ}]\".format(\n\u001b[0;32m-> 1280\u001b[0;31m                             \u001b[0mdtype\u001b[0m\u001b[0;34m=\u001b[0m\u001b[0mx\u001b[0m\u001b[0;34m.\u001b[0m\u001b[0mdtype\u001b[0m\u001b[0;34m,\u001b[0m \u001b[0mtyp\u001b[0m\u001b[0;34m=\u001b[0m\u001b[0mtype\u001b[0m\u001b[0;34m(\u001b[0m\u001b[0my\u001b[0m\u001b[0;34m)\u001b[0m\u001b[0;34m.\u001b[0m\u001b[0m__name__\u001b[0m\u001b[0;34m\u001b[0m\u001b[0;34m\u001b[0m\u001b[0m\n\u001b[0m\u001b[1;32m   1281\u001b[0m                         )\n\u001b[1;32m   1282\u001b[0m                     )\n",
            "\u001b[0;31mTypeError\u001b[0m: cannot compare a dtyped [bool] array with a scalar of type [NoneType]"
          ]
        }
      ]
    },
    {
      "cell_type": "code",
      "metadata": {
        "id": "xwkXvL_kLRE3",
        "colab_type": "code",
        "outputId": "abe73f4a-3d1b-428c-d2d7-9a8cc1a5014c",
        "colab": {
          "base_uri": "https://localhost:8080/",
          "height": 34
        }
      },
      "source": [
        "dataset_out = dataset[~((dataset < (Q1 - 1.5 * IQR)) |(dataset > (Q3 + 1.5 * IQR))).any(axis=1)]\n",
        "dataset_out.shape"
      ],
      "execution_count": 0,
      "outputs": [
        {
          "output_type": "execute_result",
          "data": {
            "text/plain": [
              "(9599, 12)"
            ]
          },
          "metadata": {
            "tags": []
          },
          "execution_count": 75
        }
      ]
    },
    {
      "cell_type": "code",
      "metadata": {
        "colab_type": "code",
        "id": "AMFQH1UoSElR",
        "colab": {}
      },
      "source": [
        "X_tr_out, X_tst_out, y_tr_out, y_tst_out = train_test_split(dataset_out[['Safety_Score','Days_Since_Inspection','Total_Safety_Complaints','Control_Metric','Turbulence_In_gforces','Cabin_Temperature','Accident_Type_Code','Max_Elevation','Violations','Adverse_Weather_Metric']], dataset_out['Severity'], test_size=0.1)"
      ],
      "execution_count": 0,
      "outputs": []
    },
    {
      "cell_type": "code",
      "metadata": {
        "colab_type": "code",
        "outputId": "e3bdad9d-06af-4174-8c6b-12885dc18a0b",
        "id": "xMQ3dsaHSElX",
        "colab": {
          "base_uri": "https://localhost:8080/",
          "height": 823
        }
      },
      "source": [
        "# test_size = 0.2 0.3 - 0.9565\n",
        "# test_size - 0.1 # learning rate: 0.9    Accuracy: 0.971     F1 Score:0.9709998840168548\n",
        "# test_size - 0.05 learning rate: 0.7    Accuracy: 0.96     F1 Score:0.9598699440788372\n",
        "# test_size - 0.15 learning rate: 0.6    Accuracy: 0.952     F1 Score:0.9519948655531886\n",
        ",\n",
        "for learning_rate in [0.01,0.03,0.05,0.1,0.3,0.33,0.36,0.4,0.43,0.46,0.5,0.55,0.6,0.62,0.65,0.68,0.7,0.8,0.85,0.86,0.9,1,2,3] :\n",
        "# learning_rate = 0.9\n",
        "  clf=XGBClassifier(booster='gbtree',objective='multi:softmax',num_class =4,eval_metric = 'auc', \n",
        "                      learning_rate=learning_rate,n_estimators=50,\n",
        "                      max_depth=5, min_child_weigth = 5,gamma=0,subsample=0.9, colsample_bytree = 0.7,scale_pos_weight = 1,seed = 27)\n",
        "      \n",
        "  model = clf.fit(X_tr_out, y_tr_out)\n",
        "  predicted_o= model.predict(X_tst_out)\n",
        "  print('Test set'  +  'learning rate: '+ str(learning_rate) +\"    Accuracy: \" + str(metrics.accuracy_score(y_tst_out, predicted_o)) + \"     F1 Score:\"+ str(metrics.f1_score(y_tst_out, predicted_o,average='weighted')) )\n",
        "  predicted_o_tr= model.predict(X_tr_out)\n",
        "  print('Training set'  +  'learning rate: '+ str(learning_rate) +\"    Accuracy: \" + str(metrics.accuracy_score(y_tr_out, predicted_o_tr)) + \"     F1 Score:\"+ str(metrics.f1_score(y_tr_out, predicted_o_tr,average='weighted')) )\n"
      ],
      "execution_count": 0,
      "outputs": [
        {
          "output_type": "stream",
          "text": [
            "Test setlearning rate: 0.01    Accuracy: 0.784375     F1 Score:0.7847845629083496\n",
            "Training setlearning rate: 0.01    Accuracy: 0.7909480263919435     F1 Score:0.7912039919898561\n",
            "Test setlearning rate: 0.03    Accuracy: 0.8114583333333333     F1 Score:0.8116635800577001\n",
            "Training setlearning rate: 0.03    Accuracy: 0.8352818613265425     F1 Score:0.835304916192764\n",
            "Test setlearning rate: 0.05    Accuracy: 0.8552083333333333     F1 Score:0.8553514036629338\n",
            "Training setlearning rate: 0.05    Accuracy: 0.8801944669521935     F1 Score:0.8800687046172111\n",
            "Test setlearning rate: 0.1    Accuracy: 0.9125     F1 Score:0.9127736199740194\n",
            "Training setlearning rate: 0.1    Accuracy: 0.9421229308947795     F1 Score:0.9421787508740492\n",
            "Test setlearning rate: 0.3    Accuracy: 0.9625     F1 Score:0.962457708218511\n",
            "Training setlearning rate: 0.3    Accuracy: 0.9886560944553768     F1 Score:0.9886518585783665\n",
            "Test setlearning rate: 0.33    Accuracy: 0.9552083333333333     F1 Score:0.9551792883383358\n",
            "Training setlearning rate: 0.33    Accuracy: 0.9888876027317977     F1 Score:0.988881309901503\n",
            "Test setlearning rate: 0.36    Accuracy: 0.9625     F1 Score:0.9624821625407265\n",
            "Training setlearning rate: 0.36    Accuracy: 0.9918972103252691     F1 Score:0.9918962757757277\n",
            "Test setlearning rate: 0.4    Accuracy: 0.959375     F1 Score:0.959365617402722\n",
            "Training setlearning rate: 0.4    Accuracy: 0.9928232434309526     F1 Score:0.9928214075200937\n",
            "Test setlearning rate: 0.43    Accuracy: 0.9625     F1 Score:0.9624849118781912\n",
            "Training setlearning rate: 0.43    Accuracy: 0.9938650306748467     F1 Score:0.9938635612594942\n",
            "Test setlearning rate: 0.46    Accuracy: 0.971875     F1 Score:0.9718853581166821\n",
            "Training setlearning rate: 0.46    Accuracy: 0.9954855886097927     F1 Score:0.9954852210778382\n",
            "Test setlearning rate: 0.5    Accuracy: 0.9614583333333333     F1 Score:0.9614422504110469\n",
            "Training setlearning rate: 0.5    Accuracy: 0.997106146544739     F1 Score:0.9971057515147904\n",
            "Test setlearning rate: 0.55    Accuracy: 0.9625     F1 Score:0.9625066837213262\n",
            "Training setlearning rate: 0.55    Accuracy: 0.9990739668943165     F1 Score:0.9990740057647811\n",
            "Test setlearning rate: 0.6    Accuracy: 0.9666666666666667     F1 Score:0.966672158639562\n",
            "Training setlearning rate: 0.6    Accuracy: 0.9988424586178956     F1 Score:0.9988424042125902\n",
            "Test setlearning rate: 0.62    Accuracy: 0.9625     F1 Score:0.9624999771251636\n",
            "Training setlearning rate: 0.62    Accuracy: 0.9993054751707373     F1 Score:0.9993055129260318\n",
            "Test setlearning rate: 0.65    Accuracy: 0.959375     F1 Score:0.9593774348937681\n",
            "Training setlearning rate: 0.65    Accuracy: 0.9991897210325269     F1 Score:0.9991897781498811\n",
            "Test setlearning rate: 0.68    Accuracy: 0.9635416666666666     F1 Score:0.963552173488874\n",
            "Training setlearning rate: 0.68    Accuracy: 0.9995369834471582     F1 Score:0.9995369546813764\n",
            "Test setlearning rate: 0.7    Accuracy: 0.9583333333333334     F1 Score:0.958310603797584\n",
            "Training setlearning rate: 0.7    Accuracy: 0.9996527375853687     F1 Score:0.9996527088195868\n",
            "Test setlearning rate: 0.8    Accuracy: 0.9645833333333333     F1 Score:0.9646021148452735\n",
            "Training setlearning rate: 0.8    Accuracy: 0.9998842458617896     F1 Score:0.9998842447121375\n",
            "Test setlearning rate: 0.85    Accuracy: 0.9625     F1 Score:0.9624458659335767\n",
            "Training setlearning rate: 0.85    Accuracy: 1.0     F1 Score:1.0\n",
            "Test setlearning rate: 0.86    Accuracy: 0.9583333333333334     F1 Score:0.9583262487448427\n",
            "Training setlearning rate: 0.86    Accuracy: 1.0     F1 Score:1.0\n",
            "Test setlearning rate: 0.9    Accuracy: 0.9625     F1 Score:0.9624817483150854\n",
            "Training setlearning rate: 0.9    Accuracy: 1.0     F1 Score:1.0\n",
            "Test setlearning rate: 1    Accuracy: 0.9635416666666666     F1 Score:0.9635297770293889\n",
            "Training setlearning rate: 1    Accuracy: 1.0     F1 Score:1.0\n",
            "Test setlearning rate: 2    Accuracy: 0.9489583333333333     F1 Score:0.9489487780747411\n",
            "Training setlearning rate: 2    Accuracy: 1.0     F1 Score:1.0\n",
            "Test setlearning rate: 3    Accuracy: 0.3802083333333333     F1 Score:0.3040174879657147\n",
            "Training setlearning rate: 3    Accuracy: 0.3833777057529807     F1 Score:0.31048293467882615\n"
          ],
          "name": "stdout"
        }
      ]
    },
    {
      "cell_type": "code",
      "metadata": {
        "colab_type": "code",
        "outputId": "62bec36f-0093-481b-b079-ab300b9e4c15",
        "id": "5Nr-4fFdSEla",
        "colab": {
          "base_uri": "https://localhost:8080/",
          "height": 50
        }
      },
      "source": [
        "learning_rate=0.46\n",
        "clf=XGBClassifier(booster='gbtree',objective='multi:softmax',num_class =4,eval_metric = 'auc', \n",
        "                    learning_rate=learning_rate,n_estimators=50,\n",
        "                    max_depth=5, min_child_weigth = 5,gamma=0,subsample=0.9, colsample_bytree = 0.7,scale_pos_weight = 1,seed = 27)\n",
        "    \n",
        "model = clf.fit(X_tr_o, y_tr_o)\n",
        "predicted_o= model.predict(X_tst_o)\n",
        "print('Test set'  +  'learning rate: '+ str(learning_rate) +\"    Accuracy: \" + str(metrics.accuracy_score(y_tst_o, predicted_o)) + \"     F1 Score:\"+ str(metrics.f1_score(y_tst_o, predicted_o,average='weighted')) )\n",
        "predicted_o_tr= model.predict(X_tr_o)\n",
        "print('Training set'  +  'learning rate: '+ str(learning_rate) +\"    Accuracy: \" + str(metrics.accuracy_score(y_tr_o, predicted_o_tr)) + \"     F1 Score:\"+ str(metrics.f1_score(y_tr_o, predicted_o_tr,average='weighted')) )\n"
      ],
      "execution_count": 0,
      "outputs": [
        {
          "output_type": "stream",
          "text": [
            "Test setlearning rate: 0.46    Accuracy: 0.9518555667001003     F1 Score:0.9519109768879948\n",
            "Training setlearning rate: 0.46    Accuracy: 0.9949838368074908     F1 Score:0.9949840157350412\n"
          ],
          "name": "stdout"
        }
      ]
    },
    {
      "cell_type": "code",
      "metadata": {
        "colab_type": "code",
        "outputId": "32f43a46-8a95-4bfb-c58b-9c213edfe4ee",
        "id": "pbK557cRSEld",
        "colab": {
          "base_uri": "https://localhost:8080/",
          "height": 269
        }
      },
      "source": [
        "#To evaluate the model's predictions\n",
        "report = classification_report(y_tst_o, predicted_o)\n",
        "print(report)\n",
        "matrix = confusion_matrix(y_tst_o, predicted_o)\n",
        "print(matrix)"
      ],
      "execution_count": 0,
      "outputs": [
        {
          "output_type": "stream",
          "text": [
            "                                         precision    recall  f1-score   support\n",
            "\n",
            "              Highly_Fatal_And_Damaging       0.94      0.94      0.94       286\n",
            "              Minor_Damage_And_Injuries       0.94      0.96      0.95       262\n",
            "      Significant_Damage_And_Fatalities       0.98      0.96      0.97       179\n",
            "Significant_Damage_And_Serious_Injuries       0.96      0.95      0.96       270\n",
            "\n",
            "                               accuracy                           0.95       997\n",
            "                              macro avg       0.95      0.95      0.95       997\n",
            "                           weighted avg       0.95      0.95      0.95       997\n",
            "\n",
            "[[270   9   3   4]\n",
            " [  7 251   1   3]\n",
            " [  2   3 171   3]\n",
            " [  8   5   0 257]]\n"
          ],
          "name": "stdout"
        }
      ]
    },
    {
      "cell_type": "code",
      "metadata": {
        "colab_type": "code",
        "id": "TDNL9fg5SElg",
        "colab": {}
      },
      "source": [
        "test_dataset = pd.read_csv('./test.csv')"
      ],
      "execution_count": 0,
      "outputs": []
    },
    {
      "cell_type": "code",
      "metadata": {
        "colab_type": "code",
        "outputId": "d3ca9004-7c61-474a-bb87-6c2ceeaa2677",
        "id": "3sQ8w5diSEli",
        "colab": {
          "base_uri": "https://localhost:8080/",
          "height": 386
        }
      },
      "source": [
        "\n",
        "print(test_dataset.head())\n",
        "test_dataset_X = test_dataset[['Safety_Score','Days_Since_Inspection','Total_Safety_Complaints','Control_Metric','Turbulence_In_gforces','Cabin_Temperature','Accident_Type_Code','Max_Elevation',\t'Violations',\t'Adverse_Weather_Metric']]\n",
        "print((test_dataset_X))"
      ],
      "execution_count": 0,
      "outputs": [
        {
          "output_type": "stream",
          "text": [
            "   Safety_Score  Days_Since_Inspection  ...  Adverse_Weather_Metric  Accident_ID\n",
            "0     19.497717                     16  ...                0.069692            1\n",
            "1     58.173516                     15  ...                0.002777           10\n",
            "2     33.287671                     15  ...                0.004316           14\n",
            "3      3.287671                     21  ...                0.199990           17\n",
            "4     10.867580                     18  ...                0.483696           21\n",
            "\n",
            "[5 rows x 11 columns]\n",
            "      Safety_Score  Days_Since_Inspection  ...  Violations  Adverse_Weather_Metric\n",
            "0        19.497717                     16  ...           2                0.069692\n",
            "1        58.173516                     15  ...           2                0.002777\n",
            "2        33.287671                     15  ...           1                0.004316\n",
            "3         3.287671                     21  ...           2                0.199990\n",
            "4        10.867580                     18  ...           2                0.483696\n",
            "...            ...                    ...  ...         ...                     ...\n",
            "2495     68.127854                      8  ...           2                0.659387\n",
            "2496     54.840183                      9  ...           1                0.005010\n",
            "2497     36.712329                     14  ...           2                0.008629\n",
            "2498     38.721461                     13  ...           1                0.006247\n",
            "2499     36.073059                     11  ...           0                0.024409\n",
            "\n",
            "[2500 rows x 10 columns]\n"
          ],
          "name": "stdout"
        }
      ]
    },
    {
      "cell_type": "code",
      "metadata": {
        "colab_type": "code",
        "outputId": "a73afe83-fbe6-4d57-cddc-54cd63d0f2ee",
        "id": "KEivkiGhSEll",
        "colab": {
          "base_uri": "https://localhost:8080/",
          "height": 252
        }
      },
      "source": [
        "test_predict = clf.predict(test_dataset_X)\n",
        "y_submission = pd.concat([test_dataset[['Accident_ID']],pd.DataFrame(test_predict,columns=['Severity'])], axis=1, sort=False)\n",
        "print(y_submission)\n"
      ],
      "execution_count": 0,
      "outputs": [
        {
          "output_type": "stream",
          "text": [
            "      Accident_ID                                 Severity\n",
            "0               1                Highly_Fatal_And_Damaging\n",
            "1              10        Significant_Damage_And_Fatalities\n",
            "2              14  Significant_Damage_And_Serious_Injuries\n",
            "3              17                Highly_Fatal_And_Damaging\n",
            "4              21        Significant_Damage_And_Fatalities\n",
            "...           ...                                      ...\n",
            "2495        12484                Highly_Fatal_And_Damaging\n",
            "2496        12487  Significant_Damage_And_Serious_Injuries\n",
            "2497        12488  Significant_Damage_And_Serious_Injuries\n",
            "2498        12491  Significant_Damage_And_Serious_Injuries\n",
            "2499        12493                Highly_Fatal_And_Damaging\n",
            "\n",
            "[2500 rows x 2 columns]\n"
          ],
          "name": "stdout"
        }
      ]
    },
    {
      "cell_type": "code",
      "metadata": {
        "colab_type": "code",
        "id": "5G68yl4BSEln",
        "colab": {}
      },
      "source": [
        "y_submission.to_csv('./y_submission_xg_boost_18_o.csv',index=False)\n",
        "# score_not_normalize - 85.33359\n",
        "# score_normalize - 84.22388\n",
        "pickle.dump(clf, open('./weights_xg_boost_18_o.sav', 'wb'))"
      ],
      "execution_count": 0,
      "outputs": []
    },
    {
      "cell_type": "markdown",
      "metadata": {
        "id": "NyYOVx3QLo5l",
        "colab_type": "text"
      },
      "source": [
        "# Oversamplng the data"
      ]
    },
    {
      "cell_type": "code",
      "metadata": {
        "id": "YKlf11NGLqcS",
        "colab_type": "code",
        "outputId": "3b9cc375-a9dd-4256-c57b-1ba6e42f3053",
        "colab": {
          "base_uri": "https://localhost:8080/",
          "height": 104
        }
      },
      "source": [
        "from imblearn.over_sampling import SMOTE"
      ],
      "execution_count": 0,
      "outputs": [
        {
          "output_type": "stream",
          "text": [
            "/usr/local/lib/python3.6/dist-packages/sklearn/externals/six.py:31: FutureWarning: The module is deprecated in version 0.21 and will be removed in version 0.23 since we've dropped support for Python 2.7. Please rely on the official version of six (https://pypi.org/project/six/).\n",
            "  \"(https://pypi.org/project/six/).\", FutureWarning)\n",
            "/usr/local/lib/python3.6/dist-packages/sklearn/utils/deprecation.py:144: FutureWarning: The sklearn.neighbors.base module is  deprecated in version 0.22 and will be removed in version 0.24. The corresponding classes / functions should instead be imported from sklearn.neighbors. Anything that cannot be imported from sklearn.neighbors is now part of the private API.\n",
            "  warnings.warn(message, FutureWarning)\n"
          ],
          "name": "stderr"
        }
      ]
    },
    {
      "cell_type": "code",
      "metadata": {
        "id": "F6uv5Ip-Lqao",
        "colab_type": "code",
        "outputId": "d0d89ac8-4b91-4e8a-883f-16ab4e34f197",
        "colab": {
          "base_uri": "https://localhost:8080/",
          "height": 70
        }
      },
      "source": [
        "smote =SMOTE('minority',random_state = seed)\n",
        "X_sm, y_sm = smote.fit_sample(X_tr,y_tr)"
      ],
      "execution_count": 0,
      "outputs": [
        {
          "output_type": "stream",
          "text": [
            "/usr/local/lib/python3.6/dist-packages/sklearn/utils/deprecation.py:87: FutureWarning: Function safe_indexing is deprecated; safe_indexing is deprecated in version 0.22 and will be removed in version 0.24.\n",
            "  warnings.warn(msg, category=FutureWarning)\n"
          ],
          "name": "stderr"
        }
      ]
    },
    {
      "cell_type": "code",
      "metadata": {
        "id": "WZ35a_IuLqVR",
        "colab_type": "code",
        "outputId": "afa09fc4-84fd-4b59-8a26-55fa16ed3500",
        "colab": {
          "base_uri": "https://localhost:8080/",
          "height": 118
        }
      },
      "source": [
        "print(X_sm.shape, y_sm.shape)\n",
        "y_sm_pd = pd.DataFrame({'Severity': y_sm[:]})\n",
        "X_sm_pd = pd.DataFrame({'Safety_Score': X_sm[:,0],'Days_Since_Inspection': X_sm[:,1],'Total_Safety_Complaints': X_sm[:,2],'Control_Metric': X_sm[:,3],'Turbulence_In_gforces': X_sm[:,4],'Cabin_Temperature': X_sm[:,5],'Accident_Type_Code': X_sm[:,6],'Max_Elevation': X_sm[:,7],\t'Violations': X_sm[:,8],\t'Adverse_Weather_Metric': X_sm[:,9]})\n",
        "count = y_sm_pd['Severity'].value_counts() \n",
        "print(count)"
      ],
      "execution_count": 0,
      "outputs": [
        {
          "output_type": "stream",
          "text": [
            "(9213, 10) (9213,)\n",
            "Significant_Damage_And_Fatalities          2469\n",
            "Highly_Fatal_And_Damaging                  2469\n",
            "Significant_Damage_And_Serious_Injuries    2227\n",
            "Minor_Damage_And_Injuries                  2048\n",
            "Name: Severity, dtype: int64\n"
          ],
          "name": "stdout"
        }
      ]
    },
    {
      "cell_type": "code",
      "metadata": {
        "id": "yNdLQ_dGNaLW",
        "colab_type": "code",
        "colab": {}
      },
      "source": [
        "list1 = []\n",
        "list2 = []\n",
        "dict1 = {}\n",
        "dict2 = {}\n",
        "for seed in range (1,100) :\n",
        "  X_tr, X_tst, y_tr, y_tst = train_test_split(X, y['Severity'], test_size=0.1,random_state = seed)\n",
        "\n",
        "  smote =SMOTE('minority',random_state = seed)\n",
        "  X_sm, y_sm = smote.fit_sample(X_tr,y_tr)\n",
        "  X_tr, X_cross, y_tr, y_cross = train_test_split(X_tr, y_tr, test_size=0.1,random_state = seed)\n",
        "\n",
        "  smote =SMOTE('minority',random_state = seed)\n",
        "  X_sm, y_sm = smote.fit_sample(X_tr,y_tr)\n",
        "  y_sm_pd = pd.DataFrame({'Severity': y_sm[:]})\n",
        "  X_sm_pd = pd.DataFrame({'Safety_Score': X_sm[:,0],'Days_Since_Inspection': X_sm[:,1],'Total_Safety_Complaints': X_sm[:,2],'Control_Metric': X_sm[:,3],'Turbulence_In_gforces': X_sm[:,4],'Cabin_Temperature': X_sm[:,5],'Accident_Type_Code': X_sm[:,6],'Max_Elevation': X_sm[:,7],\t'Violations': X_sm[:,8],\t'Adverse_Weather_Metric': X_sm[:,9]})\n",
        "  for learning_rate in [0.01,0.03,0.05,0.1,0.3,0.33,0.36,0.4,0.43,0.46,0.5,0.55,0.6,0.62,0.65,0.68,0.7,0.8,0.85,0.86,0.9,1,2,3] :\n",
        "  # learning_rate = 0.33\n",
        "    clf=XGBClassifier(booster='gbtree',objective='multi:softmax',num_class =4,eval_metric = 'auc', \n",
        "                        learning_rate=learning_rate,n_estimators=150,\n",
        "                        max_depth=5, min_child_weigth = 1,gamma=0,subsample=0.8, colsample_bytree = 0.8,scale_pos_weight = 1,seed = seed)\n",
        "        \n",
        "    model = clf.fit(X_sm_pd, y_sm_pd['Severity'])\n",
        "    # predicted= m/odel.predict(X_cross)\n",
        "    # print('Seed: ' + str(seed) + ' Cross set'  +  'learning rate: '+ str(learning_rate) +\"    Accuracy: \" + str(metrics.accuracy_score(y_cross, predicted)) + \"     F1 Score:\"+ str(metrics.f1_score(y_cross, predicted,average='weighted')) )\n",
        "    # predicted= model.predict(X_sm_pd)\n",
        "    # print('Seed: ' + str(seed) + ' Training set'  +  'learning rate: '+ str(learning_rate) +\"    Accuracy: \" + str(metrics.accuracy_score(y_sm_pd, predicted)) + \"     F1 Score:\"+ str(metrics.f1_score(y_sm_pd, predicted,average='weighted'))+\"\\n\" )\n",
        "\n",
        "    predicted= model.predict(X_cross)\n",
        "    dict1[learning_rate]= metrics.accuracy_score(y_cross, predicted)\n",
        "    predicted= model.predict(X_cross)\n",
        "    dict2[learning_rate] = metrics.f1_score(y_cross, predicted,average='weighted')\n",
        "    \n",
        "  print(seed)\n",
        "  list1.append(tuple((seed,max(dict1, key=dict1.get),dict1[max(dict1, key=dict1.get)])))\n",
        "  list2.append(tuple((seed,max(dict2, key=dict2.get),dict2[max(dict2, key=dict2.get)])))\n",
        "    "
      ],
      "execution_count": 0,
      "outputs": []
    },
    {
      "cell_type": "code",
      "metadata": {
        "id": "nogL_ajyHnEG",
        "colab_type": "code",
        "outputId": "5e5dded1-d5ce-4605-bd38-c06c9176cbb4",
        "colab": {
          "base_uri": "https://localhost:8080/",
          "height": 70
        }
      },
      "source": [
        "print(list1)\n",
        "print(list2)"
      ],
      "execution_count": 0,
      "outputs": [
        {
          "output_type": "stream",
          "text": [
            "[(1, 0.33, 0.9611111111111111), (2, 0.6, 0.9633333333333334), (3, 0.4, 0.9611111111111111), (4, 0.3, 0.9633333333333334), (5, 0.46, 0.9577777777777777), (6, 0.6, 0.9644444444444444), (7, 0.33, 0.9577777777777777), (8, 0.33, 0.9622222222222222), (9, 0.3, 0.9733333333333334), (10, 0.65, 0.9522222222222222), (11, 0.5, 0.9644444444444444), (12, 0.4, 0.97), (13, 0.55, 0.9611111111111111), (14, 0.33, 0.9655555555555555), (15, 0.6, 0.9644444444444444), (16, 0.62, 0.96), (17, 0.33, 0.9755555555555555), (18, 0.36, 0.9577777777777777), (19, 0.46, 0.9577777777777777), (20, 0.55, 0.9655555555555555), (21, 0.33, 0.9677777777777777), (22, 0.46, 0.9644444444444444), (23, 0.43, 0.9622222222222222), (24, 0.65, 0.9588888888888889), (25, 0.65, 0.9666666666666667), (26, 0.36, 0.9511111111111111), (27, 0.36, 0.9533333333333334), (28, 0.3, 0.9544444444444444), (29, 0.85, 0.9577777777777777), (30, 0.3, 0.97), (31, 0.33, 0.9655555555555555), (32, 0.36, 0.9533333333333334), (33, 0.33, 0.9611111111111111), (34, 0.46, 0.9688888888888889), (35, 0.5, 0.9666666666666667), (36, 0.5, 0.9711111111111111), (37, 0.33, 0.9655555555555555), (38, 0.3, 0.9644444444444444), (39, 0.4, 0.9733333333333334), (40, 0.43, 0.9666666666666667), (41, 0.62, 0.9688888888888889), (42, 0.4, 0.96), (43, 0.7, 0.9655555555555555), (44, 0.3, 0.96), (45, 0.62, 0.9577777777777777), (46, 0.46, 0.9677777777777777), (47, 0.33, 0.9633333333333334), (48, 0.36, 0.9577777777777777), (49, 0.68, 0.9522222222222222), (50, 0.68, 0.9622222222222222), (51, 0.8, 0.9655555555555555), (52, 0.5, 0.9688888888888889), (53, 0.3, 0.9677777777777777), (54, 0.36, 0.9733333333333334), (55, 0.33, 0.9588888888888889), (56, 0.65, 0.9655555555555555), (57, 0.3, 0.9622222222222222), (58, 0.33, 0.9622222222222222), (59, 0.85, 0.9511111111111111), (60, 0.33, 0.9622222222222222), (61, 0.55, 0.9733333333333334), (62, 0.33, 0.9566666666666667), (63, 0.4, 0.9766666666666667), (64, 0.36, 0.9644444444444444), (65, 0.9, 0.9633333333333334), (66, 0.3, 0.9644444444444444), (67, 0.55, 0.9622222222222222), (68, 0.46, 0.9533333333333334), (69, 0.4, 0.9533333333333334), (70, 0.33, 0.9666666666666667), (71, 0.5, 0.9677777777777777), (72, 0.62, 0.96), (73, 0.6, 0.9655555555555555), (74, 0.4, 0.97), (75, 0.46, 0.96), (76, 0.3, 0.9688888888888889), (77, 0.85, 0.9611111111111111), (78, 0.65, 0.9644444444444444), (79, 0.43, 0.9666666666666667), (80, 0.46, 0.9655555555555555), (81, 0.6, 0.9555555555555556), (82, 0.8, 0.9722222222222222), (83, 0.6, 0.9611111111111111), (84, 0.6, 0.9588888888888889), (85, 0.36, 0.96), (86, 0.36, 0.9733333333333334), (87, 0.8, 0.9644444444444444), (88, 0.5, 0.9588888888888889), (89, 0.46, 0.9544444444444444), (90, 0.4, 0.9644444444444444), (91, 0.36, 0.9688888888888889), (92, 0.43, 0.9666666666666667), (93, 0.4, 0.9666666666666667), (94, 0.62, 0.9622222222222222), (95, 0.3, 0.9633333333333334), (96, 0.3, 0.9744444444444444), (97, 0.6, 0.9611111111111111), (98, 0.33, 0.9488888888888889), (99, 0.6, 0.9633333333333334)]\n",
            "[(1, 0.33, 0.9610832054673395), (2, 0.6, 0.9633664620849829), (3, 0.4, 0.9611105970099642), (4, 0.3, 0.9633636961011262), (5, 0.46, 0.9578056085181197), (6, 0.6, 0.964502916054839), (7, 0.33, 0.9576305538097765), (8, 0.33, 0.962319332553158), (9, 0.3, 0.9733200739212133), (10, 0.65, 0.9523952769221332), (11, 0.5, 0.9644587603865075), (12, 0.4, 0.9699938782027895), (13, 0.55, 0.9611075634615944), (14, 0.33, 0.9655695780109496), (15, 0.6, 0.9643857187663224), (16, 0.62, 0.9600194814751227), (17, 0.33, 0.9755448318532149), (18, 0.36, 0.9578096712950278), (19, 0.46, 0.9578057285972584), (20, 0.55, 0.9655521331563702), (21, 0.33, 0.9677753643553934), (22, 0.46, 0.964485995661345), (23, 0.62, 0.96215966464791), (24, 0.65, 0.9588951841066383), (25, 0.65, 0.966701018359757), (26, 0.36, 0.9509817023142021), (27, 0.36, 0.9534214903850039), (28, 0.3, 0.9544300663278278), (29, 0.85, 0.9577727584875653), (30, 0.3, 0.9700421706638553), (31, 0.33, 0.965551496613272), (32, 0.36, 0.9533771575506352), (33, 0.33, 0.9610729067852468), (34, 0.46, 0.9689279779295916), (35, 0.5, 0.9666735689420327), (36, 0.5, 0.9711211496897392), (37, 0.33, 0.9654289649865275), (38, 0.3, 0.9644978669354921), (39, 0.46, 0.9733366241679656), (40, 0.43, 0.9666842863148103), (41, 0.62, 0.9688973218591661), (42, 0.4, 0.9600216919551415), (43, 0.7, 0.9655506628794391), (44, 0.3, 0.959999128540305), (45, 0.62, 0.9577290128406529), (46, 0.46, 0.9677083577357665), (47, 0.33, 0.9633305865053189), (48, 0.4, 0.9578139942600564), (49, 0.68, 0.952255029799022), (50, 0.68, 0.9622457460891564), (51, 0.8, 0.9655577550306106), (52, 0.62, 0.9688921368994365), (53, 0.3, 0.9678196656339235), (54, 0.36, 0.9733174877703592), (55, 0.33, 0.9589134126130564), (56, 0.65, 0.9655177099030178), (57, 0.7, 0.9622873473418196), (58, 0.33, 0.9621112981616223), (59, 0.85, 0.9511011655082532), (60, 0.33, 0.9621995969790635), (61, 0.55, 0.9733878875994149), (62, 0.33, 0.9566225410764749), (63, 0.4, 0.9766433223289793), (64, 0.36, 0.9645250723881308), (65, 0.9, 0.9632751653515912), (66, 0.3, 0.9644792539816062), (67, 0.55, 0.962059557140623), (68, 0.46, 0.9532926950300672), (69, 0.46, 0.9533533739886815), (70, 0.33, 0.9667096594356928), (71, 0.5, 0.9677908544735252), (72, 0.62, 0.9599765565198529), (73, 0.6, 0.9655191163357908), (74, 0.4, 0.9699804887370562), (75, 0.46, 0.959995669508626), (76, 0.3, 0.9689339251214509), (77, 0.85, 0.9610173865052551), (78, 0.65, 0.9643642598814194), (79, 0.43, 0.9666483328778119), (80, 0.62, 0.9655539985573349), (81, 0.6, 0.9555403328087669), (82, 0.8, 0.9722231135483308), (83, 0.6, 0.961109702209414), (84, 0.6, 0.9589243145732117), (85, 0.7, 0.9599667670531234), (86, 0.36, 0.9733389056091409), (87, 0.8, 0.9644419774589914), (88, 0.5, 0.9587990561457371), (89, 0.46, 0.9544437086778841), (90, 0.4, 0.9644402860723676), (91, 0.36, 0.9688710237125083), (92, 0.43, 0.9666873564602732), (93, 0.4, 0.9666652471939253), (94, 0.62, 0.9622080889931683), (95, 0.3, 0.963285905424738), (96, 0.3, 0.9744249426241632), (97, 0.6, 0.9611528451324005), (98, 0.6, 0.9488542367934515), (99, 0.6, 0.9634450392724286)]\n"
          ],
          "name": "stdout"
        }
      ]
    },
    {
      "cell_type": "code",
      "metadata": {
        "id": "lrDN_EAkU6GX",
        "colab_type": "code",
        "outputId": "0edf0bca-32b3-46f5-fd2f-6d4d95639ffb",
        "colab": {
          "base_uri": "https://localhost:8080/",
          "height": 50
        }
      },
      "source": [
        "predicted= model.predict(X_tst)\n",
        "print('Test set'  +  'learning rate: '+ str(learning_rate) +\"    Accuracy: \" + str(metrics.accuracy_score(y_tst, predicted)) + \"     F1 Score:\"+ str(metrics.f1_score(y_tst, predicted,average='weighted'))+\"\\n\" )"
      ],
      "execution_count": 0,
      "outputs": [
        {
          "output_type": "stream",
          "text": [
            "Test setlearning rate: 0.33    Accuracy: 0.965     F1 Score:0.9650587660080212\n",
            "\n"
          ],
          "name": "stdout"
        }
      ]
    },
    {
      "cell_type": "code",
      "metadata": {
        "colab_type": "code",
        "outputId": "5e5dded1-d5ce-4605-bd38-c06c9176cbb4",
        "id": "9fxkC5s1pC4T",
        "colab": {
          "base_uri": "https://localhost:8080/",
          "height": 70
        }
      },
      "source": [
        "print(list1)\n",
        "print(list2)"
      ],
      "execution_count": 0,
      "outputs": [
        {
          "output_type": "stream",
          "text": [
            "[(1, 0.33, 0.9611111111111111), (2, 0.6, 0.9633333333333334), (3, 0.4, 0.9611111111111111), (4, 0.3, 0.9633333333333334), (5, 0.46, 0.9577777777777777), (6, 0.6, 0.9644444444444444), (7, 0.33, 0.9577777777777777), (8, 0.33, 0.9622222222222222), (9, 0.3, 0.9733333333333334), (10, 0.65, 0.9522222222222222), (11, 0.5, 0.9644444444444444), (12, 0.4, 0.97), (13, 0.55, 0.9611111111111111), (14, 0.33, 0.9655555555555555), (15, 0.6, 0.9644444444444444), (16, 0.62, 0.96), (17, 0.33, 0.9755555555555555), (18, 0.36, 0.9577777777777777), (19, 0.46, 0.9577777777777777), (20, 0.55, 0.9655555555555555), (21, 0.33, 0.9677777777777777), (22, 0.46, 0.9644444444444444), (23, 0.43, 0.9622222222222222), (24, 0.65, 0.9588888888888889), (25, 0.65, 0.9666666666666667), (26, 0.36, 0.9511111111111111), (27, 0.36, 0.9533333333333334), (28, 0.3, 0.9544444444444444), (29, 0.85, 0.9577777777777777), (30, 0.3, 0.97), (31, 0.33, 0.9655555555555555), (32, 0.36, 0.9533333333333334), (33, 0.33, 0.9611111111111111), (34, 0.46, 0.9688888888888889), (35, 0.5, 0.9666666666666667), (36, 0.5, 0.9711111111111111), (37, 0.33, 0.9655555555555555), (38, 0.3, 0.9644444444444444), (39, 0.4, 0.9733333333333334), (40, 0.43, 0.9666666666666667), (41, 0.62, 0.9688888888888889), (42, 0.4, 0.96), (43, 0.7, 0.9655555555555555), (44, 0.3, 0.96), (45, 0.62, 0.9577777777777777), (46, 0.46, 0.9677777777777777), (47, 0.33, 0.9633333333333334), (48, 0.36, 0.9577777777777777), (49, 0.68, 0.9522222222222222), (50, 0.68, 0.9622222222222222), (51, 0.8, 0.9655555555555555), (52, 0.5, 0.9688888888888889), (53, 0.3, 0.9677777777777777), (54, 0.36, 0.9733333333333334), (55, 0.33, 0.9588888888888889), (56, 0.65, 0.9655555555555555), (57, 0.3, 0.9622222222222222), (58, 0.33, 0.9622222222222222), (59, 0.85, 0.9511111111111111), (60, 0.33, 0.9622222222222222), (61, 0.55, 0.9733333333333334), (62, 0.33, 0.9566666666666667), (63, 0.4, 0.9766666666666667), (64, 0.36, 0.9644444444444444), (65, 0.9, 0.9633333333333334), (66, 0.3, 0.9644444444444444), (67, 0.55, 0.9622222222222222), (68, 0.46, 0.9533333333333334), (69, 0.4, 0.9533333333333334), (70, 0.33, 0.9666666666666667), (71, 0.5, 0.9677777777777777), (72, 0.62, 0.96), (73, 0.6, 0.9655555555555555), (74, 0.4, 0.97), (75, 0.46, 0.96), (76, 0.3, 0.9688888888888889), (77, 0.85, 0.9611111111111111), (78, 0.65, 0.9644444444444444), (79, 0.43, 0.9666666666666667), (80, 0.46, 0.9655555555555555), (81, 0.6, 0.9555555555555556), (82, 0.8, 0.9722222222222222), (83, 0.6, 0.9611111111111111), (84, 0.6, 0.9588888888888889), (85, 0.36, 0.96), (86, 0.36, 0.9733333333333334), (87, 0.8, 0.9644444444444444), (88, 0.5, 0.9588888888888889), (89, 0.46, 0.9544444444444444), (90, 0.4, 0.9644444444444444), (91, 0.36, 0.9688888888888889), (92, 0.43, 0.9666666666666667), (93, 0.4, 0.9666666666666667), (94, 0.62, 0.9622222222222222), (95, 0.3, 0.9633333333333334), (96, 0.3, 0.9744444444444444), (97, 0.6, 0.9611111111111111), (98, 0.33, 0.9488888888888889), (99, 0.6, 0.9633333333333334)]\n",
            "[(1, 0.33, 0.9610832054673395), (2, 0.6, 0.9633664620849829), (3, 0.4, 0.9611105970099642), (4, 0.3, 0.9633636961011262), (5, 0.46, 0.9578056085181197), (6, 0.6, 0.964502916054839), (7, 0.33, 0.9576305538097765), (8, 0.33, 0.962319332553158), (9, 0.3, 0.9733200739212133), (10, 0.65, 0.9523952769221332), (11, 0.5, 0.9644587603865075), (12, 0.4, 0.9699938782027895), (13, 0.55, 0.9611075634615944), (14, 0.33, 0.9655695780109496), (15, 0.6, 0.9643857187663224), (16, 0.62, 0.9600194814751227), (17, 0.33, 0.9755448318532149), (18, 0.36, 0.9578096712950278), (19, 0.46, 0.9578057285972584), (20, 0.55, 0.9655521331563702), (21, 0.33, 0.9677753643553934), (22, 0.46, 0.964485995661345), (23, 0.62, 0.96215966464791), (24, 0.65, 0.9588951841066383), (25, 0.65, 0.966701018359757), (26, 0.36, 0.9509817023142021), (27, 0.36, 0.9534214903850039), (28, 0.3, 0.9544300663278278), (29, 0.85, 0.9577727584875653), (30, 0.3, 0.9700421706638553), (31, 0.33, 0.965551496613272), (32, 0.36, 0.9533771575506352), (33, 0.33, 0.9610729067852468), (34, 0.46, 0.9689279779295916), (35, 0.5, 0.9666735689420327), (36, 0.5, 0.9711211496897392), (37, 0.33, 0.9654289649865275), (38, 0.3, 0.9644978669354921), (39, 0.46, 0.9733366241679656), (40, 0.43, 0.9666842863148103), (41, 0.62, 0.9688973218591661), (42, 0.4, 0.9600216919551415), (43, 0.7, 0.9655506628794391), (44, 0.3, 0.959999128540305), (45, 0.62, 0.9577290128406529), (46, 0.46, 0.9677083577357665), (47, 0.33, 0.9633305865053189), (48, 0.4, 0.9578139942600564), (49, 0.68, 0.952255029799022), (50, 0.68, 0.9622457460891564), (51, 0.8, 0.9655577550306106), (52, 0.62, 0.9688921368994365), (53, 0.3, 0.9678196656339235), (54, 0.36, 0.9733174877703592), (55, 0.33, 0.9589134126130564), (56, 0.65, 0.9655177099030178), (57, 0.7, 0.9622873473418196), (58, 0.33, 0.9621112981616223), (59, 0.85, 0.9511011655082532), (60, 0.33, 0.9621995969790635), (61, 0.55, 0.9733878875994149), (62, 0.33, 0.9566225410764749), (63, 0.4, 0.9766433223289793), (64, 0.36, 0.9645250723881308), (65, 0.9, 0.9632751653515912), (66, 0.3, 0.9644792539816062), (67, 0.55, 0.962059557140623), (68, 0.46, 0.9532926950300672), (69, 0.46, 0.9533533739886815), (70, 0.33, 0.9667096594356928), (71, 0.5, 0.9677908544735252), (72, 0.62, 0.9599765565198529), (73, 0.6, 0.9655191163357908), (74, 0.4, 0.9699804887370562), (75, 0.46, 0.959995669508626), (76, 0.3, 0.9689339251214509), (77, 0.85, 0.9610173865052551), (78, 0.65, 0.9643642598814194), (79, 0.43, 0.9666483328778119), (80, 0.62, 0.9655539985573349), (81, 0.6, 0.9555403328087669), (82, 0.8, 0.9722231135483308), (83, 0.6, 0.961109702209414), (84, 0.6, 0.9589243145732117), (85, 0.7, 0.9599667670531234), (86, 0.36, 0.9733389056091409), (87, 0.8, 0.9644419774589914), (88, 0.5, 0.9587990561457371), (89, 0.46, 0.9544437086778841), (90, 0.4, 0.9644402860723676), (91, 0.36, 0.9688710237125083), (92, 0.43, 0.9666873564602732), (93, 0.4, 0.9666652471939253), (94, 0.62, 0.9622080889931683), (95, 0.3, 0.963285905424738), (96, 0.3, 0.9744249426241632), (97, 0.6, 0.9611528451324005), (98, 0.6, 0.9488542367934515), (99, 0.6, 0.9634450392724286)]\n"
          ],
          "name": "stdout"
        }
      ]
    },
    {
      "cell_type": "code",
      "metadata": {
        "id": "P_FjwIqdXXY-",
        "colab_type": "code",
        "colab": {}
      },
      "source": [
        ""
      ],
      "execution_count": 0,
      "outputs": []
    },
    {
      "cell_type": "code",
      "metadata": {
        "id": "VA9XLNIKTtVQ",
        "colab_type": "code",
        "colab": {}
      },
      "source": [
        "from sklearn.utils import class_weight"
      ],
      "execution_count": 0,
      "outputs": []
    },
    {
      "cell_type": "code",
      "metadata": {
        "id": "pPMFVGHsU4HO",
        "colab_type": "code",
        "colab": {}
      },
      "source": [
        "y_tr_np = y_tr.values\n",
        "class_weight = class_weight.compute_class_weight('balanced',np.unique(y_tr_np),y_tr_np)"
      ],
      "execution_count": 0,
      "outputs": []
    },
    {
      "cell_type": "code",
      "metadata": {
        "id": "6LxduS3EXDpw",
        "colab_type": "code",
        "colab": {}
      },
      "source": [
        "for learning_rate in [0.01,0.03,0.05,0.1,0.3,0.33,0.36,0.4,0.43,0.46,0.5,0.55,0.6,0.62,0.65,0.68,0.7,0.8,0.85,0.86,0.9,1,2,3] :\n",
        "# learning_rate = 0.9\n",
        "  clf=XGBClassifier(booster='gbtree',objective='multi:softmax',num_class =4,eval_metric = 'auc', \n",
        "                      learning_rate=learning_rate,n_estimators=150,\n",
        "                      max_depth=5, min_child_weigth = 1,gamma=0,subsample=0.8, colsample_bytree = 0.8,seed = seed,scale_pos_weight = class_weight)\n",
        "      \n",
        "  model = clf.fit(X_tr, y_tr)\n",
        "  predicted= model.predict(X_cross)\n",
        "  print('Cross set'  +  'learning rate: '+ str(learning_rate) +\"    Accuracy: \" + str(metrics.accuracy_score(y_cross, predicted)) + \"     F1 Score:\"+ str(metrics.f1_score(y_cross, predicted,average='weighted')) )\n",
        "  predicted= model.predict(X_tr)\n",
        "  print('Training set'  +  'learning rate: '+ str(learning_rate) +\"    Accuracy: \" + str(metrics.accuracy_score(y_tr, predicted)) + \"     F1 Score:\"+ str(metrics.f1_score(y_tr, predicted,average='weighted'))+\"\\n\" )"
      ],
      "execution_count": 0,
      "outputs": []
    },
    {
      "cell_type": "code",
      "metadata": {
        "id": "lNcbmMldU39H",
        "colab_type": "code",
        "colab": {}
      },
      "source": [
        ""
      ],
      "execution_count": 0,
      "outputs": []
    },
    {
      "cell_type": "code",
      "metadata": {
        "id": "ZP8fk56QTQw1",
        "colab_type": "code",
        "outputId": "00840b32-d401-496f-c41c-dedaca6ce7b4",
        "colab": {
          "base_uri": "https://localhost:8080/",
          "height": 154
        }
      },
      "source": [
        "seed = 63\n",
        "X_tr, X_tst, y_tr, y_tst = train_test_split(X, y['Severity'], test_size=0.1,random_state = seed)\n",
        "\n",
        "smote =SMOTE('minority',random_state = seed)\n",
        "X_sm, y_sm = smote.fit_sample(X_tr,y_tr)\n",
        "X_tr, X_cross, y_tr, y_cross = train_test_split(X_tr, y_tr, test_size=0.1,random_state = seed)\n",
        "\n",
        "smote =SMOTE('minority',random_state = seed)\n",
        "X_sm, y_sm = smote.fit_sample(X_tr,y_tr)\n",
        "y_sm_pd = pd.DataFrame({'Severity': y_sm[:]})\n",
        "X_sm_pd = pd.DataFrame({'Safety_Score': X_sm[:,0],'Days_Since_Inspection': X_sm[:,1],'Total_Safety_Complaints': X_sm[:,2],'Control_Metric': X_sm[:,3],'Turbulence_In_gforces': X_sm[:,4],'Cabin_Temperature': X_sm[:,5],'Accident_Type_Code': X_sm[:,6],'Max_Elevation': X_sm[:,7],\t'Violations': X_sm[:,8],\t'Adverse_Weather_Metric': X_sm[:,9]})\n",
        "  # for learning_rate in [0.01,0.03,0.05,0.1,0.3,0.33,0.36,0.4,0.43,0.46,0.5,0.55,0.6,0.62,0.65,0.68,0.7,0.8,0.85,0.86,0.9,1,2,3] :\n",
        "learning_rate = 0.4\n",
        "clf=XGBClassifier(booster='gbtree',objective='multi:softmax',num_class =4,eval_metric = 'auc', \n",
        "                    learning_rate=learning_rate,n_estimators=150,\n",
        "                    max_depth=5, min_child_weigth = 1,gamma=0,subsample=0.8, colsample_bytree = 0.8,scale_pos_weight = 1,seed = seed)\n",
        "    \n",
        "model = clf.fit(X_sm_pd, y_sm_pd['Severity'])\n",
        "predicted= model.predict(X_cross)\n",
        "print('Seed: ' + str(seed) + ' Cross set'  +  'learning rate: '+ str(learning_rate) +\"    Accuracy: \" + str(metrics.accuracy_score(y_cross, predicted)) + \"     F1 Score:\"+ str(metrics.f1_score(y_cross, predicted,average='weighted')) )\n",
        "predicted= model.predict(X_sm_pd)\n",
        "print('Seed: ' + str(seed) + ' Training set'  +  'learning rate: '+ str(learning_rate) +\"    Accuracy: \" + str(metrics.accuracy_score(y_sm_pd, predicted)) + \"     F1 Score:\"+ str(metrics.f1_score(y_sm_pd, predicted,average='weighted'))+\"\\n\" )"
      ],
      "execution_count": 0,
      "outputs": [
        {
          "output_type": "stream",
          "text": [
            "/usr/local/lib/python3.6/dist-packages/sklearn/utils/deprecation.py:87: FutureWarning: Function safe_indexing is deprecated; safe_indexing is deprecated in version 0.22 and will be removed in version 0.24.\n",
            "  warnings.warn(msg, category=FutureWarning)\n",
            "/usr/local/lib/python3.6/dist-packages/sklearn/utils/deprecation.py:87: FutureWarning: Function safe_indexing is deprecated; safe_indexing is deprecated in version 0.22 and will be removed in version 0.24.\n",
            "  warnings.warn(msg, category=FutureWarning)\n"
          ],
          "name": "stderr"
        },
        {
          "output_type": "stream",
          "text": [
            "Seed: 63 Cross setlearning rate: 0.4    Accuracy: 0.9766666666666667     F1 Score:0.9766433223289793\n",
            "Seed: 63 Training setlearning rate: 0.4    Accuracy: 1.0     F1 Score:1.0\n",
            "\n"
          ],
          "name": "stdout"
        }
      ]
    },
    {
      "cell_type": "code",
      "metadata": {
        "id": "IllhpD2sTQtH",
        "colab_type": "code",
        "outputId": "07cd972b-8a45-40d1-d17b-71356802f4a8",
        "colab": {
          "base_uri": "https://localhost:8080/",
          "height": 50
        }
      },
      "source": [
        "predicted= model.predict(X_tst)\n",
        "print('Test set'  +  'learning rate: '+ str(learning_rate) +\"    Accuracy: \" + str(metrics.accuracy_score(y_tst, predicted)) + \"     F1 Score:\"+ str(metrics.f1_score(y_tst, predicted,average='weighted'))+\"\\n\" )"
      ],
      "execution_count": 0,
      "outputs": [
        {
          "output_type": "stream",
          "text": [
            "Test setlearning rate: 0.4    Accuracy: 0.96     F1 Score:0.9599755556598748\n",
            "\n"
          ],
          "name": "stdout"
        }
      ]
    },
    {
      "cell_type": "markdown",
      "metadata": {
        "id": "HcwLM4dBgGXH",
        "colab_type": "text"
      },
      "source": [
        "# Oversampling data after correlation"
      ]
    },
    {
      "cell_type": "code",
      "metadata": {
        "colab_type": "code",
        "id": "pu_8Hu1lK6E_",
        "colab": {}
      },
      "source": [
        "list3 = []\n",
        "list4 = []\n",
        "dict3 = {}\n",
        "dict4 = {}\n",
        "for seed in range (1,100) :\n",
        "  X_tr, X_tst, y_tr, y_tst = train_test_split(dataset[['Safety_Score','Days_Since_Inspection','Total_Safety_Complaints','Control_Metric','Turbulence_In_gforces','Cabin_Temperature','Max_Elevation',\t'Violations',\t'Adverse_Weather_Metric']], y['Severity'], test_size=0.1,random_state = seed)\n",
        "  smote =SMOTE('minority',random_state = seed)\n",
        "  X_sm, y_sm = smote.fit_sample(X_tr,y_tr)\n",
        "  X_tr, X_cross, y_tr, y_cross = train_test_split(X_tr, y_tr, test_size=0.1,random_state = seed)\n",
        "\n",
        "  smote =SMOTE('minority',random_state = seed)\n",
        "  X_sm, y_sm = smote.fit_sample(X_tr,y_tr)\n",
        "  y_sm_pd = pd.DataFrame({'Severity': y_sm[:]})\n",
        "  X_sm_pd = pd.DataFrame({'Safety_Score': X_sm[:,0],'Days_Since_Inspection': X_sm[:,1],'Total_Safety_Complaints': X_sm[:,2],'Control_Metric': X_sm[:,3],'Turbulence_In_gforces': X_sm[:,4],'Cabin_Temperature': X_sm[:,5],'Max_Elevation': X_sm[:,6],\t'Violations': X_sm[:,7],\t'Adverse_Weather_Metric': X_sm[:,8]})\n",
        "  for learning_rate in [0.01,0.03,0.05,0.1,0.3,0.33,0.36,0.4,0.43,0.46,0.5,0.55,0.6,0.62,0.65,0.68,0.7,0.8,0.85,0.86,0.9,1,2,3] :\n",
        "  # for learning_rate in [0.01,0.03,0.05,3] :\n",
        "\n",
        "  # learning_rate = 0.33\n",
        "    clf=XGBClassifier(booster='gbtree',objective='multi:softmax',num_class =4,eval_metric = 'auc', \n",
        "                        learning_rate=learning_rate,n_estimators=150,\n",
        "                        max_depth=5, min_child_weigth = 1,gamma=0,subsample=0.8, colsample_bytree = 0.8,scale_pos_weight = 1,seed = seed)\n",
        "        \n",
        "    model = clf.fit(X_sm_pd, y_sm_pd['Severity'])\n",
        "    # predicted= model.predict(X_cross)\n",
        "    # print('Seed: ' + str(seed) + ' Cross set'  +  'learning rate: '+ str(learning_rate) +\"    Accuracy: \" + str(metrics.accuracy_score(y_cross, predicted)) + \"     F1 Score:\"+ str(metrics.f1_score(y_cross, predicted,average='weighted')) )\n",
        "    # predicted= model.predict(X_sm_pd)\n",
        "    # print('Seed: ' + str(seed) + ' Training set'  +  'learning rate: '+ str(learning_rate) +\"    Accuracy: \" + str(metrics.accuracy_score(y_sm_pd, predicted)) + \"     F1 Score:\"+ str(metrics.f1_score(y_sm_pd, predicted,average='weighted'))+\"\\n\" )\n",
        "\n",
        "    predicted= model.predict(X_cross)\n",
        "    dict3[learning_rate]= metrics.accuracy_score(y_cross, predicted)\n",
        "    predicted= model.predict(X_cross)\n",
        "    dict4[learning_rate] = metrics.f1_score(y_cross, predicted,average='weighted')\n",
        "    \n",
        "  print(seed)\n",
        "  list3.append(tuple((seed,max(dict3, key=dict3.get),dict3[max(dict3, key=dict3.get)])))\n",
        "  list4.append(tuple((seed,max(dict4, key=dict4.get),dict4[max(dict4, key=dict4.get)])))\n",
        "    "
      ],
      "execution_count": 0,
      "outputs": []
    },
    {
      "cell_type": "code",
      "metadata": {
        "id": "wY2sDl8HKrKc",
        "colab_type": "code",
        "outputId": "cbb80400-0db8-46e8-db35-2911d9fac2b7",
        "colab": {
          "base_uri": "https://localhost:8080/",
          "height": 70
        }
      },
      "source": [
        "print(list3)\n",
        "print(list4)"
      ],
      "execution_count": 0,
      "outputs": [
        {
          "output_type": "stream",
          "text": [
            "[(1, 0.43, 0.96), (2, 0.3, 0.9622222222222222), (3, 0.4, 0.9644444444444444), (4, 0.33, 0.96), (5, 0.65, 0.9577777777777777), (6, 0.46, 0.9655555555555555), (7, 0.4, 0.9622222222222222), (8, 0.43, 0.9622222222222222), (9, 0.4, 0.9666666666666667), (10, 0.33, 0.9488888888888889), (11, 0.85, 0.9666666666666667), (12, 0.43, 0.9688888888888889), (13, 0.55, 0.9611111111111111), (14, 0.3, 0.9622222222222222), (15, 0.62, 0.9622222222222222), (16, 0.3, 0.9588888888888889), (17, 0.85, 0.9744444444444444), (18, 0.3, 0.9511111111111111), (19, 0.46, 0.9544444444444444), (20, 0.3, 0.9666666666666667), (21, 0.4, 0.9655555555555555), (22, 0.6, 0.96), (23, 0.55, 0.9611111111111111), (24, 0.3, 0.9555555555555556), (25, 0.33, 0.9655555555555555), (26, 0.8, 0.9488888888888889), (27, 0.33, 0.9555555555555556), (28, 0.65, 0.9544444444444444), (29, 0.36, 0.9588888888888889), (30, 0.33, 0.9666666666666667), (31, 0.85, 0.9644444444444444), (32, 0.43, 0.9544444444444444), (33, 0.46, 0.9611111111111111), (34, 0.3, 0.9677777777777777), (35, 0.33, 0.9666666666666667), (36, 0.43, 0.9711111111111111), (37, 0.36, 0.9611111111111111), (38, 0.3, 0.9666666666666667), (39, 0.46, 0.9733333333333334), (40, 0.3, 0.9677777777777777), (41, 0.36, 0.9666666666666667), (42, 0.36, 0.9566666666666667), (43, 0.86, 0.9666666666666667), (44, 0.33, 0.9555555555555556), (45, 0.4, 0.9655555555555555), (46, 0.36, 0.9688888888888889), (47, 0.65, 0.9644444444444444), (48, 0.3, 0.9566666666666667), (49, 0.43, 0.95), (50, 0.36, 0.9633333333333334), (51, 0.33, 0.9655555555555555), (52, 0.65, 0.9711111111111111), (53, 0.36, 0.9688888888888889), (54, 0.46, 0.9711111111111111), (55, 0.46, 0.9622222222222222), (56, 0.36, 0.9655555555555555), (57, 0.33, 0.9588888888888889), (58, 0.3, 0.96), (59, 0.6, 0.9555555555555556), (60, 0.33, 0.9633333333333334), (61, 0.5, 0.9755555555555555), (62, 0.33, 0.9577777777777777), (63, 0.46, 0.9755555555555555), (64, 0.36, 0.9588888888888889), (65, 0.5, 0.9622222222222222), (66, 0.4, 0.9633333333333334), (67, 0.3, 0.9622222222222222), (68, 0.33, 0.9555555555555556), (69, 0.36, 0.9577777777777777), (70, 0.5, 0.9611111111111111), (71, 0.65, 0.9677777777777777), (72, 0.4, 0.9588888888888889), (73, 0.65, 0.9677777777777777), (74, 0.33, 0.9677777777777777), (75, 0.55, 0.96), (76, 0.43, 0.9722222222222222), (77, 0.7, 0.9588888888888889), (78, 0.68, 0.96), (79, 0.3, 0.9655555555555555), (80, 0.46, 0.9622222222222222), (81, 0.3, 0.9544444444444444), (82, 0.3, 0.9744444444444444), (83, 0.43, 0.9655555555555555), (84, 0.33, 0.9588888888888889), (85, 0.36, 0.9633333333333334), (86, 0.33, 0.9722222222222222), (87, 0.68, 0.9655555555555555), (88, 0.3, 0.9577777777777777), (89, 0.33, 0.95), (90, 0.6, 0.9588888888888889), (91, 0.9, 0.9666666666666667), (92, 0.7, 0.9666666666666667), (93, 0.36, 0.9688888888888889), (94, 0.9, 0.9644444444444444), (95, 0.6, 0.9611111111111111), (96, 0.5, 0.97), (97, 0.6, 0.9622222222222222), (98, 0.33, 0.95), (99, 0.3, 0.9677777777777777)]\n",
            "[(1, 0.43, 0.9599853631657421), (2, 0.3, 0.9622749712474276), (3, 0.4, 0.9644708566629203), (4, 0.36, 0.9599872436060991), (5, 0.65, 0.9577994942556173), (6, 0.46, 0.9655815272312813), (7, 0.4, 0.9620649002811416), (8, 0.43, 0.9622664998854386), (9, 0.86, 0.9667451791192372), (10, 0.5, 0.9489656986664734), (11, 0.85, 0.9667046873641016), (12, 0.43, 0.9688802425242327), (13, 0.55, 0.9611198344622542), (14, 0.3, 0.9622391962497784), (15, 0.62, 0.9621344862485275), (16, 0.3, 0.9589046918842554), (17, 0.85, 0.9744767233348319), (18, 0.3, 0.9511618178491348), (19, 0.46, 0.954489090842056), (20, 0.3, 0.9666856860029821), (21, 0.4, 0.9655234741359042), (22, 0.6, 0.9600270905430204), (23, 0.55, 0.9610497664698195), (24, 0.43, 0.9556108410236521), (25, 0.33, 0.9656037219975658), (26, 0.8, 0.9487031753420341), (27, 0.46, 0.9556151617012981), (28, 0.65, 0.9544063738378342), (29, 0.36, 0.9588835658350733), (30, 0.33, 0.9667234232084458), (31, 0.85, 0.9644801899892359), (32, 0.43, 0.9544503612329207), (33, 0.46, 0.9610448276477833), (34, 0.3, 0.9678194744583886), (35, 0.33, 0.9666889675980584), (36, 0.43, 0.9710854097590562), (37, 0.36, 0.9609497694614861), (38, 0.3, 0.9666746525812739), (39, 0.46, 0.9733256508681087), (40, 0.3, 0.9677546602017553), (41, 0.36, 0.9667432832951051), (42, 0.36, 0.9566430815326006), (43, 0.86, 0.9666689698067706), (44, 0.55, 0.955559966982207), (45, 0.4, 0.9655127483531463), (46, 0.36, 0.9688475288820281), (47, 0.65, 0.9643845920537237), (48, 0.86, 0.956715889276053), (49, 0.43, 0.9500492925345599), (50, 0.36, 0.9633277573089715), (51, 0.7, 0.9655365561548125), (52, 0.65, 0.9711149791534984), (53, 0.36, 0.9689167079957229), (54, 0.46, 0.9710871800787965), (55, 0.46, 0.9622391144345709), (56, 0.36, 0.9655544980171846), (57, 0.33, 0.9588738467215934), (58, 0.3, 0.9600022998472316), (59, 0.6, 0.9555762671701361), (60, 0.33, 0.9632857583869494), (61, 0.5, 0.9756157666416837), (62, 0.33, 0.9577621735706661), (63, 0.46, 0.9755611946752116), (64, 0.5, 0.9590585299990974), (65, 0.5, 0.9622453667919563), (66, 0.4, 0.9634133585769415), (67, 0.3, 0.9621561207868011), (68, 0.33, 0.9556117349232568), (69, 0.36, 0.957803535654985), (70, 0.5, 0.9611180402554239), (71, 0.65, 0.9677872634457418), (72, 0.4, 0.9588940405299358), (73, 0.65, 0.9677422604595887), (74, 0.33, 0.9677679934380621), (75, 0.65, 0.9600131898688642), (76, 0.43, 0.9722294057803125), (77, 0.7, 0.9589098839773468), (78, 0.68, 0.9599880320276178), (79, 0.65, 0.9656030162609437), (80, 0.46, 0.9622094527014673), (81, 0.3, 0.9544403325341637), (82, 0.3, 0.9744732080198385), (83, 0.43, 0.9655314074303997), (84, 0.33, 0.9589339210674964), (85, 0.36, 0.9632927119399042), (86, 0.33, 0.9722919332971302), (87, 0.68, 0.9655459216190305), (88, 0.9, 0.9576434311445193), (89, 0.33, 0.9500016701432072), (90, 0.6, 0.958909739388902), (91, 0.9, 0.9666901707324493), (92, 0.7, 0.9667097047948112), (93, 0.36, 0.9688726193348546), (94, 0.9, 0.9644308334292848), (95, 0.6, 0.9610969276074638), (96, 0.65, 0.9699892410804498), (97, 0.6, 0.9622587328143984), (98, 0.46, 0.9500056536444601), (99, 0.3, 0.9678507655382349)]\n"
          ],
          "name": "stdout"
        }
      ]
    },
    {
      "cell_type": "code",
      "metadata": {
        "id": "7PSpKCc-Oasx",
        "colab_type": "code",
        "outputId": "e6df0c0b-ca3e-4d1d-c44c-370b8edf4e1a",
        "colab": {
          "base_uri": "https://localhost:8080/",
          "height": 34
        }
      },
      "source": [
        "print(max(list3)[1])"
      ],
      "execution_count": 0,
      "outputs": [
        {
          "output_type": "stream",
          "text": [
            "0.3\n"
          ],
          "name": "stdout"
        }
      ]
    },
    {
      "cell_type": "code",
      "metadata": {
        "id": "kzYAmY6iObky",
        "colab_type": "code",
        "outputId": "81fa8fb5-3544-4a2b-9234-e09fe2392ffb",
        "colab": {
          "base_uri": "https://localhost:8080/",
          "height": 50
        }
      },
      "source": [
        "print(sorted(list3,key=lambda x: x[2], reverse=True)[0])\n",
        "print(sorted(list4,key=lambda x: x[2], reverse=True)[0])"
      ],
      "execution_count": 0,
      "outputs": [
        {
          "output_type": "stream",
          "text": [
            "(61, 0.5, 0.9755555555555555)\n",
            "(61, 0.5, 0.9756157666416837)\n"
          ],
          "name": "stdout"
        }
      ]
    },
    {
      "cell_type": "code",
      "metadata": {
        "id": "KTiPOlqbRqh8",
        "colab_type": "code",
        "colab": {}
      },
      "source": [
        "list1 = [(1, 0.33, 0.9611111111111111), (2, 0.6, 0.9633333333333334), (3, 0.4, 0.9611111111111111), (4, 0.3, 0.9633333333333334), (5, 0.46, 0.9577777777777777), (6, 0.6, 0.9644444444444444), (7, 0.33, 0.9577777777777777), (8, 0.33, 0.9622222222222222), (9, 0.3, 0.9733333333333334), (10, 0.65, 0.9522222222222222), (11, 0.5, 0.9644444444444444), (12, 0.4, 0.97), (13, 0.55, 0.9611111111111111), (14, 0.33, 0.9655555555555555), (15, 0.6, 0.9644444444444444), (16, 0.62, 0.96), (17, 0.33, 0.9755555555555555), (18, 0.36, 0.9577777777777777), (19, 0.46, 0.9577777777777777), (20, 0.55, 0.9655555555555555), (21, 0.33, 0.9677777777777777), (22, 0.46, 0.9644444444444444), (23, 0.43, 0.9622222222222222), (24, 0.65, 0.9588888888888889), (25, 0.65, 0.9666666666666667), (26, 0.36, 0.9511111111111111), (27, 0.36, 0.9533333333333334), (28, 0.3, 0.9544444444444444), (29, 0.85, 0.9577777777777777), (30, 0.3, 0.97), (31, 0.33, 0.9655555555555555), (32, 0.36, 0.9533333333333334), (33, 0.33, 0.9611111111111111), (34, 0.46, 0.9688888888888889), (35, 0.5, 0.9666666666666667), (36, 0.5, 0.9711111111111111), (37, 0.33, 0.9655555555555555), (38, 0.3, 0.9644444444444444), (39, 0.4, 0.9733333333333334), (40, 0.43, 0.9666666666666667), (41, 0.62, 0.9688888888888889), (42, 0.4, 0.96), (43, 0.7, 0.9655555555555555), (44, 0.3, 0.96), (45, 0.62, 0.9577777777777777), (46, 0.46, 0.9677777777777777), (47, 0.33, 0.9633333333333334), (48, 0.36, 0.9577777777777777), (49, 0.68, 0.9522222222222222), (50, 0.68, 0.9622222222222222), (51, 0.8, 0.9655555555555555), (52, 0.5, 0.9688888888888889), (53, 0.3, 0.9677777777777777), (54, 0.36, 0.9733333333333334), (55, 0.33, 0.9588888888888889), (56, 0.65, 0.9655555555555555), (57, 0.3, 0.9622222222222222), (58, 0.33, 0.9622222222222222), (59, 0.85, 0.9511111111111111), (60, 0.33, 0.9622222222222222), (61, 0.55, 0.9733333333333334), (62, 0.33, 0.9566666666666667), (63, 0.4, 0.9766666666666667), (64, 0.36, 0.9644444444444444), (65, 0.9, 0.9633333333333334), (66, 0.3, 0.9644444444444444), (67, 0.55, 0.9622222222222222), (68, 0.46, 0.9533333333333334), (69, 0.4, 0.9533333333333334), (70, 0.33, 0.9666666666666667), (71, 0.5, 0.9677777777777777), (72, 0.62, 0.96), (73, 0.6, 0.9655555555555555), (74, 0.4, 0.97), (75, 0.46, 0.96), (76, 0.3, 0.9688888888888889), (77, 0.85, 0.9611111111111111), (78, 0.65, 0.9644444444444444), (79, 0.43, 0.9666666666666667), (80, 0.46, 0.9655555555555555), (81, 0.6, 0.9555555555555556), (82, 0.8, 0.9722222222222222), (83, 0.6, 0.9611111111111111), (84, 0.6, 0.9588888888888889), (85, 0.36, 0.96), (86, 0.36, 0.9733333333333334), (87, 0.8, 0.9644444444444444), (88, 0.5, 0.9588888888888889), (89, 0.46, 0.9544444444444444), (90, 0.4, 0.9644444444444444), (91, 0.36, 0.9688888888888889), (92, 0.43, 0.9666666666666667), (93, 0.4, 0.9666666666666667), (94, 0.62, 0.9622222222222222), (95, 0.3, 0.9633333333333334), (96, 0.3, 0.9744444444444444), (97, 0.6, 0.9611111111111111), (98, 0.33, 0.9488888888888889), (99, 0.6, 0.9633333333333334)]\n",
        "list2 = [(1, 0.33, 0.9610832054673395), (2, 0.6, 0.9633664620849829), (3, 0.4, 0.9611105970099642), (4, 0.3, 0.9633636961011262), (5, 0.46, 0.9578056085181197), (6, 0.6, 0.964502916054839), (7, 0.33, 0.9576305538097765), (8, 0.33, 0.962319332553158), (9, 0.3, 0.9733200739212133), (10, 0.65, 0.9523952769221332), (11, 0.5, 0.9644587603865075), (12, 0.4, 0.9699938782027895), (13, 0.55, 0.9611075634615944), (14, 0.33, 0.9655695780109496), (15, 0.6, 0.9643857187663224), (16, 0.62, 0.9600194814751227), (17, 0.33, 0.9755448318532149), (18, 0.36, 0.9578096712950278), (19, 0.46, 0.9578057285972584), (20, 0.55, 0.9655521331563702), (21, 0.33, 0.9677753643553934), (22, 0.46, 0.964485995661345), (23, 0.62, 0.96215966464791), (24, 0.65, 0.9588951841066383), (25, 0.65, 0.966701018359757), (26, 0.36, 0.9509817023142021), (27, 0.36, 0.9534214903850039), (28, 0.3, 0.9544300663278278), (29, 0.85, 0.9577727584875653), (30, 0.3, 0.9700421706638553), (31, 0.33, 0.965551496613272), (32, 0.36, 0.9533771575506352), (33, 0.33, 0.9610729067852468), (34, 0.46, 0.9689279779295916), (35, 0.5, 0.9666735689420327), (36, 0.5, 0.9711211496897392), (37, 0.33, 0.9654289649865275), (38, 0.3, 0.9644978669354921), (39, 0.46, 0.9733366241679656), (40, 0.43, 0.9666842863148103), (41, 0.62, 0.9688973218591661), (42, 0.4, 0.9600216919551415), (43, 0.7, 0.9655506628794391), (44, 0.3, 0.959999128540305), (45, 0.62, 0.9577290128406529), (46, 0.46, 0.9677083577357665), (47, 0.33, 0.9633305865053189), (48, 0.4, 0.9578139942600564), (49, 0.68, 0.952255029799022), (50, 0.68, 0.9622457460891564), (51, 0.8, 0.9655577550306106), (52, 0.62, 0.9688921368994365), (53, 0.3, 0.9678196656339235), (54, 0.36, 0.9733174877703592), (55, 0.33, 0.9589134126130564), (56, 0.65, 0.9655177099030178), (57, 0.7, 0.9622873473418196), (58, 0.33, 0.9621112981616223), (59, 0.85, 0.9511011655082532), (60, 0.33, 0.9621995969790635), (61, 0.55, 0.9733878875994149), (62, 0.33, 0.9566225410764749), (63, 0.4, 0.9766433223289793), (64, 0.36, 0.9645250723881308), (65, 0.9, 0.9632751653515912), (66, 0.3, 0.9644792539816062), (67, 0.55, 0.962059557140623), (68, 0.46, 0.9532926950300672), (69, 0.46, 0.9533533739886815), (70, 0.33, 0.9667096594356928), (71, 0.5, 0.9677908544735252), (72, 0.62, 0.9599765565198529), (73, 0.6, 0.9655191163357908), (74, 0.4, 0.9699804887370562), (75, 0.46, 0.959995669508626), (76, 0.3, 0.9689339251214509), (77, 0.85, 0.9610173865052551), (78, 0.65, 0.9643642598814194), (79, 0.43, 0.9666483328778119), (80, 0.62, 0.9655539985573349), (81, 0.6, 0.9555403328087669), (82, 0.8, 0.9722231135483308), (83, 0.6, 0.961109702209414), (84, 0.6, 0.9589243145732117), (85, 0.7, 0.9599667670531234), (86, 0.36, 0.9733389056091409), (87, 0.8, 0.9644419774589914), (88, 0.5, 0.9587990561457371), (89, 0.46, 0.9544437086778841), (90, 0.4, 0.9644402860723676), (91, 0.36, 0.9688710237125083), (92, 0.43, 0.9666873564602732), (93, 0.4, 0.9666652471939253), (94, 0.62, 0.9622080889931683), (95, 0.3, 0.963285905424738), (96, 0.3, 0.9744249426241632), (97, 0.6, 0.9611528451324005), (98, 0.6, 0.9488542367934515), (99, 0.6, 0.9634450392724286)]"
      ],
      "execution_count": 0,
      "outputs": []
    },
    {
      "cell_type": "code",
      "metadata": {
        "id": "UCtRRvOlR8ZS",
        "colab_type": "code",
        "outputId": "13e37e75-db96-474b-dc7b-49cf3e4088dc",
        "colab": {
          "base_uri": "https://localhost:8080/",
          "height": 50
        }
      },
      "source": [
        "print(sorted(list1,key=lambda x: x[2], reverse=True)[0])\n",
        "print(sorted(list2,key=lambda x: x[2], reverse=True)[0])"
      ],
      "execution_count": 0,
      "outputs": [
        {
          "output_type": "stream",
          "text": [
            "(63, 0.4, 0.9766666666666667)\n",
            "(63, 0.4, 0.9766433223289793)\n"
          ],
          "name": "stdout"
        }
      ]
    },
    {
      "cell_type": "code",
      "metadata": {
        "id": "aa0U3svMSd4s",
        "colab_type": "code",
        "outputId": "be3087ff-f941-4df0-edc0-bad8c48ed50e",
        "colab": {
          "base_uri": "https://localhost:8080/",
          "height": 154
        }
      },
      "source": [
        "seed = 61\n",
        "X_tr, X_tst, y_tr, y_tst = train_test_split(dataset[['Safety_Score','Days_Since_Inspection','Total_Safety_Complaints','Control_Metric','Turbulence_In_gforces','Cabin_Temperature','Max_Elevation',\t'Violations',\t'Adverse_Weather_Metric']], y['Severity'], test_size=0.1,random_state = seed)\n",
        "smote =SMOTE('minority',random_state = seed)\n",
        "X_sm, y_sm = smote.fit_sample(X_tr,y_tr)\n",
        "X_tr, X_cross, y_tr, y_cross = train_test_split(X_tr, y_tr, test_size=0.1,random_state = seed)\n",
        "\n",
        "smote =SMOTE('minority',random_state = seed)\n",
        "X_sm, y_sm = smote.fit_sample(X_tr,y_tr)\n",
        "y_sm_pd = pd.DataFrame({'Severity': y_sm[:]})\n",
        "X_sm_pd = pd.DataFrame({'Safety_Score': X_sm[:,0],'Days_Since_Inspection': X_sm[:,1],'Total_Safety_Complaints': X_sm[:,2],'Control_Metric': X_sm[:,3],'Turbulence_In_gforces': X_sm[:,4],'Cabin_Temperature': X_sm[:,5],'Max_Elevation': X_sm[:,6],\t'Violations': X_sm[:,7],\t'Adverse_Weather_Metric': X_sm[:,8]})\n",
        "# for learning_rate in [0.01,0.03,0.05,0.1,0.3,0.33,0.36,0.4,0.43,0.46,0.5,0.55,0.6,0.62,0.65,0.68,0.7,0.8,0.85,0.86,0.9,1,2,3] :\n",
        "learning_rate = 0.5\n",
        "clf=XGBClassifier(booster='gbtree',objective='multi:softmax',num_class =4,eval_metric = 'auc', \n",
        "                    learning_rate=learning_rate,n_estimators=150,\n",
        "                    max_depth=5, min_child_weigth = 1,gamma=0,subsample=0.8, colsample_bytree = 0.8,scale_pos_weight = 1,seed = seed)\n",
        "    \n",
        "model = clf.fit(X_sm_pd, y_sm_pd['Severity'])\n",
        "predicted= model.predict(X_cross)\n",
        "print('Seed: ' + str(seed) + ' Cross set'  +  'learning rate: '+ str(learning_rate) +\"    Accuracy: \" + str(metrics.accuracy_score(y_cross, predicted)) + \"     F1 Score:\"+ str(metrics.f1_score(y_cross, predicted,average='weighted')) )\n",
        "predicted= model.predict(X_sm_pd)\n",
        "print('Seed: ' + str(seed) + ' Training set'  +  'learning rate: '+ str(learning_rate) +\"    Accuracy: \" + str(metrics.accuracy_score(y_sm_pd, predicted)) + \"     F1 Score:\"+ str(metrics.f1_score(y_sm_pd, predicted,average='weighted'))+\"\\n\" )"
      ],
      "execution_count": 0,
      "outputs": [
        {
          "output_type": "stream",
          "text": [
            "/usr/local/lib/python3.6/dist-packages/sklearn/utils/deprecation.py:87: FutureWarning: Function safe_indexing is deprecated; safe_indexing is deprecated in version 0.22 and will be removed in version 0.24.\n",
            "  warnings.warn(msg, category=FutureWarning)\n",
            "/usr/local/lib/python3.6/dist-packages/sklearn/utils/deprecation.py:87: FutureWarning: Function safe_indexing is deprecated; safe_indexing is deprecated in version 0.22 and will be removed in version 0.24.\n",
            "  warnings.warn(msg, category=FutureWarning)\n"
          ],
          "name": "stderr"
        },
        {
          "output_type": "stream",
          "text": [
            "Seed: 61 Cross setlearning rate: 0.5    Accuracy: 0.9755555555555555     F1 Score:0.9756157666416837\n",
            "Seed: 61 Training setlearning rate: 0.5    Accuracy: 1.0     F1 Score:1.0\n",
            "\n"
          ],
          "name": "stdout"
        }
      ]
    },
    {
      "cell_type": "code",
      "metadata": {
        "id": "V2X95gnTU1av",
        "colab_type": "code",
        "outputId": "828aa041-1519-4353-a4d8-23f4796bfa4d",
        "colab": {
          "base_uri": "https://localhost:8080/",
          "height": 50
        }
      },
      "source": [
        "predicted= model.predict(X_tst)\n",
        "print('Test set'  +  'learning rate: '+ str(learning_rate) +\"    Accuracy: \" + str(metrics.accuracy_score(y_tst, predicted)) + \"     F1 Score:\"+ str(metrics.f1_score(y_tst, predicted,average='weighted'))+\"\\n\" )"
      ],
      "execution_count": 0,
      "outputs": [
        {
          "output_type": "stream",
          "text": [
            "Test setlearning rate: 0.5    Accuracy: 0.953     F1 Score:0.952964604255319\n",
            "\n"
          ],
          "name": "stdout"
        }
      ]
    },
    {
      "cell_type": "code",
      "metadata": {
        "id": "8a4driuwVG9I",
        "colab_type": "code",
        "colab": {}
      },
      "source": [
        ""
      ],
      "execution_count": 0,
      "outputs": []
    },
    {
      "cell_type": "markdown",
      "metadata": {
        "id": "32cBUr8SXUCq",
        "colab_type": "text"
      },
      "source": [
        "# New Section"
      ]
    },
    {
      "cell_type": "code",
      "metadata": {
        "id": "aAv0WzG9XWBY",
        "colab_type": "code",
        "outputId": "f9a47cd5-4db2-4638-a0ac-2db0ae334f54",
        "colab": {
          "base_uri": "https://localhost:8080/",
          "height": 34
        }
      },
      "source": [
        "import numpy as np\n",
        "from sklearn.multiclass import OneVsRestClassifier\n",
        "from sklearn.svm import SVC\n",
        "\n",
        "clf = OneVsRestClassifier(SVC()).fit(X_tr, y_tr)\n",
        "predicted= clf.predict(X_cross)\n",
        "print('Seed: ' + str(seed) + ' Cross set'  +\"    Accuracy: \" + str(metrics.accuracy_score(y_cross, predicted)) + \"     F1 Score:\"+ str(metrics.f1_score(y_cross, predicted,average='weighted')) )\n",
        "# predicted= model.predict(X_tr)\n",
        "# print('Seed: ' + str(seed) + ' Training set'  +  'learning rate: '+ str(learning_rate) +\"    Accuracy: \" + str(metrics.accuracy_score(y_sm_pd, predicted)) + \"     F1 Score:\"+ str(metrics.f1_score(y_sm_pd, predicted,average='weighted'))+\"\\n\" )"
      ],
      "execution_count": 0,
      "outputs": [
        {
          "output_type": "stream",
          "text": [
            "Seed: 1 Cross set    Accuracy: 0.29     F1 Score:0.26436803375525497\n"
          ],
          "name": "stdout"
        }
      ]
    },
    {
      "cell_type": "code",
      "metadata": {
        "id": "T8wTAH7ZXV8O",
        "colab_type": "code",
        "colab": {}
      },
      "source": [
        ""
      ],
      "execution_count": 0,
      "outputs": []
    }
  ]
}